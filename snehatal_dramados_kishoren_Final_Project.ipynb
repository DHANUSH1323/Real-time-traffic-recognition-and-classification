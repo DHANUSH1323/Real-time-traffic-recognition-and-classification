{
  "cells": [
    {
      "cell_type": "code",
      "execution_count": 1,
      "metadata": {
        "colab": {
          "base_uri": "https://localhost:8080/"
        },
        "id": "JEtPMVPqWOgl",
        "outputId": "662d0868-201e-4d49-fd7a-402aeededd5d"
      },
      "outputs": [
        {
          "output_type": "stream",
          "name": "stdout",
          "text": [
            "Requirement already satisfied: torch in /usr/local/lib/python3.10/dist-packages (2.2.1+cu121)\n",
            "Requirement already satisfied: filelock in /usr/local/lib/python3.10/dist-packages (from torch) (3.14.0)\n",
            "Requirement already satisfied: typing-extensions>=4.8.0 in /usr/local/lib/python3.10/dist-packages (from torch) (4.11.0)\n",
            "Requirement already satisfied: sympy in /usr/local/lib/python3.10/dist-packages (from torch) (1.12)\n",
            "Requirement already satisfied: networkx in /usr/local/lib/python3.10/dist-packages (from torch) (3.3)\n",
            "Requirement already satisfied: jinja2 in /usr/local/lib/python3.10/dist-packages (from torch) (3.1.3)\n",
            "Requirement already satisfied: fsspec in /usr/local/lib/python3.10/dist-packages (from torch) (2023.6.0)\n",
            "Collecting nvidia-cuda-nvrtc-cu12==12.1.105 (from torch)\n",
            "  Using cached nvidia_cuda_nvrtc_cu12-12.1.105-py3-none-manylinux1_x86_64.whl (23.7 MB)\n",
            "Collecting nvidia-cuda-runtime-cu12==12.1.105 (from torch)\n",
            "  Using cached nvidia_cuda_runtime_cu12-12.1.105-py3-none-manylinux1_x86_64.whl (823 kB)\n",
            "Collecting nvidia-cuda-cupti-cu12==12.1.105 (from torch)\n",
            "  Using cached nvidia_cuda_cupti_cu12-12.1.105-py3-none-manylinux1_x86_64.whl (14.1 MB)\n",
            "Collecting nvidia-cudnn-cu12==8.9.2.26 (from torch)\n",
            "  Using cached nvidia_cudnn_cu12-8.9.2.26-py3-none-manylinux1_x86_64.whl (731.7 MB)\n",
            "Collecting nvidia-cublas-cu12==12.1.3.1 (from torch)\n",
            "  Using cached nvidia_cublas_cu12-12.1.3.1-py3-none-manylinux1_x86_64.whl (410.6 MB)\n",
            "Collecting nvidia-cufft-cu12==11.0.2.54 (from torch)\n",
            "  Using cached nvidia_cufft_cu12-11.0.2.54-py3-none-manylinux1_x86_64.whl (121.6 MB)\n",
            "Collecting nvidia-curand-cu12==10.3.2.106 (from torch)\n",
            "  Using cached nvidia_curand_cu12-10.3.2.106-py3-none-manylinux1_x86_64.whl (56.5 MB)\n",
            "Collecting nvidia-cusolver-cu12==11.4.5.107 (from torch)\n",
            "  Using cached nvidia_cusolver_cu12-11.4.5.107-py3-none-manylinux1_x86_64.whl (124.2 MB)\n",
            "Collecting nvidia-cusparse-cu12==12.1.0.106 (from torch)\n",
            "  Using cached nvidia_cusparse_cu12-12.1.0.106-py3-none-manylinux1_x86_64.whl (196.0 MB)\n",
            "Collecting nvidia-nccl-cu12==2.19.3 (from torch)\n",
            "  Using cached nvidia_nccl_cu12-2.19.3-py3-none-manylinux1_x86_64.whl (166.0 MB)\n",
            "Collecting nvidia-nvtx-cu12==12.1.105 (from torch)\n",
            "  Using cached nvidia_nvtx_cu12-12.1.105-py3-none-manylinux1_x86_64.whl (99 kB)\n",
            "Requirement already satisfied: triton==2.2.0 in /usr/local/lib/python3.10/dist-packages (from torch) (2.2.0)\n",
            "Collecting nvidia-nvjitlink-cu12 (from nvidia-cusolver-cu12==11.4.5.107->torch)\n",
            "  Using cached nvidia_nvjitlink_cu12-12.4.127-py3-none-manylinux2014_x86_64.whl (21.1 MB)\n",
            "Requirement already satisfied: MarkupSafe>=2.0 in /usr/local/lib/python3.10/dist-packages (from jinja2->torch) (2.1.5)\n",
            "Requirement already satisfied: mpmath>=0.19 in /usr/local/lib/python3.10/dist-packages (from sympy->torch) (1.3.0)\n",
            "Installing collected packages: nvidia-nvtx-cu12, nvidia-nvjitlink-cu12, nvidia-nccl-cu12, nvidia-curand-cu12, nvidia-cufft-cu12, nvidia-cuda-runtime-cu12, nvidia-cuda-nvrtc-cu12, nvidia-cuda-cupti-cu12, nvidia-cublas-cu12, nvidia-cusparse-cu12, nvidia-cudnn-cu12, nvidia-cusolver-cu12\n",
            "Successfully installed nvidia-cublas-cu12-12.1.3.1 nvidia-cuda-cupti-cu12-12.1.105 nvidia-cuda-nvrtc-cu12-12.1.105 nvidia-cuda-runtime-cu12-12.1.105 nvidia-cudnn-cu12-8.9.2.26 nvidia-cufft-cu12-11.0.2.54 nvidia-curand-cu12-10.3.2.106 nvidia-cusolver-cu12-11.4.5.107 nvidia-cusparse-cu12-12.1.0.106 nvidia-nccl-cu12-2.19.3 nvidia-nvjitlink-cu12-12.4.127 nvidia-nvtx-cu12-12.1.105\n",
            "Requirement already satisfied: opencv-python in /usr/local/lib/python3.10/dist-packages (4.8.0.76)\n",
            "Requirement already satisfied: numpy>=1.21.2 in /usr/local/lib/python3.10/dist-packages (from opencv-python) (1.25.2)\n",
            "Collecting ultralytics\n",
            "  Downloading ultralytics-8.2.6-py3-none-any.whl (755 kB)\n",
            "\u001b[2K     \u001b[90m━━━━━━━━━━━━━━━━━━━━━━━━━━━━━━━━━━━━━━━━\u001b[0m \u001b[32m755.0/755.0 kB\u001b[0m \u001b[31m10.6 MB/s\u001b[0m eta \u001b[36m0:00:00\u001b[0m\n",
            "\u001b[?25hRequirement already satisfied: matplotlib>=3.3.0 in /usr/local/lib/python3.10/dist-packages (from ultralytics) (3.7.1)\n",
            "Requirement already satisfied: opencv-python>=4.6.0 in /usr/local/lib/python3.10/dist-packages (from ultralytics) (4.8.0.76)\n",
            "Requirement already satisfied: pillow>=7.1.2 in /usr/local/lib/python3.10/dist-packages (from ultralytics) (9.4.0)\n",
            "Requirement already satisfied: pyyaml>=5.3.1 in /usr/local/lib/python3.10/dist-packages (from ultralytics) (6.0.1)\n",
            "Requirement already satisfied: requests>=2.23.0 in /usr/local/lib/python3.10/dist-packages (from ultralytics) (2.31.0)\n",
            "Requirement already satisfied: scipy>=1.4.1 in /usr/local/lib/python3.10/dist-packages (from ultralytics) (1.11.4)\n",
            "Requirement already satisfied: torch>=1.8.0 in /usr/local/lib/python3.10/dist-packages (from ultralytics) (2.2.1+cu121)\n",
            "Requirement already satisfied: torchvision>=0.9.0 in /usr/local/lib/python3.10/dist-packages (from ultralytics) (0.17.1+cu121)\n",
            "Requirement already satisfied: tqdm>=4.64.0 in /usr/local/lib/python3.10/dist-packages (from ultralytics) (4.66.2)\n",
            "Requirement already satisfied: psutil in /usr/local/lib/python3.10/dist-packages (from ultralytics) (5.9.5)\n",
            "Requirement already satisfied: py-cpuinfo in /usr/local/lib/python3.10/dist-packages (from ultralytics) (9.0.0)\n",
            "Collecting thop>=0.1.1 (from ultralytics)\n",
            "  Downloading thop-0.1.1.post2209072238-py3-none-any.whl (15 kB)\n",
            "Requirement already satisfied: pandas>=1.1.4 in /usr/local/lib/python3.10/dist-packages (from ultralytics) (2.0.3)\n",
            "Requirement already satisfied: seaborn>=0.11.0 in /usr/local/lib/python3.10/dist-packages (from ultralytics) (0.13.1)\n",
            "Requirement already satisfied: contourpy>=1.0.1 in /usr/local/lib/python3.10/dist-packages (from matplotlib>=3.3.0->ultralytics) (1.2.1)\n",
            "Requirement already satisfied: cycler>=0.10 in /usr/local/lib/python3.10/dist-packages (from matplotlib>=3.3.0->ultralytics) (0.12.1)\n",
            "Requirement already satisfied: fonttools>=4.22.0 in /usr/local/lib/python3.10/dist-packages (from matplotlib>=3.3.0->ultralytics) (4.51.0)\n",
            "Requirement already satisfied: kiwisolver>=1.0.1 in /usr/local/lib/python3.10/dist-packages (from matplotlib>=3.3.0->ultralytics) (1.4.5)\n",
            "Requirement already satisfied: numpy>=1.20 in /usr/local/lib/python3.10/dist-packages (from matplotlib>=3.3.0->ultralytics) (1.25.2)\n",
            "Requirement already satisfied: packaging>=20.0 in /usr/local/lib/python3.10/dist-packages (from matplotlib>=3.3.0->ultralytics) (24.0)\n",
            "Requirement already satisfied: pyparsing>=2.3.1 in /usr/local/lib/python3.10/dist-packages (from matplotlib>=3.3.0->ultralytics) (3.1.2)\n",
            "Requirement already satisfied: python-dateutil>=2.7 in /usr/local/lib/python3.10/dist-packages (from matplotlib>=3.3.0->ultralytics) (2.8.2)\n",
            "Requirement already satisfied: pytz>=2020.1 in /usr/local/lib/python3.10/dist-packages (from pandas>=1.1.4->ultralytics) (2023.4)\n",
            "Requirement already satisfied: tzdata>=2022.1 in /usr/local/lib/python3.10/dist-packages (from pandas>=1.1.4->ultralytics) (2024.1)\n",
            "Requirement already satisfied: charset-normalizer<4,>=2 in /usr/local/lib/python3.10/dist-packages (from requests>=2.23.0->ultralytics) (3.3.2)\n",
            "Requirement already satisfied: idna<4,>=2.5 in /usr/local/lib/python3.10/dist-packages (from requests>=2.23.0->ultralytics) (3.7)\n",
            "Requirement already satisfied: urllib3<3,>=1.21.1 in /usr/local/lib/python3.10/dist-packages (from requests>=2.23.0->ultralytics) (2.0.7)\n",
            "Requirement already satisfied: certifi>=2017.4.17 in /usr/local/lib/python3.10/dist-packages (from requests>=2.23.0->ultralytics) (2024.2.2)\n",
            "Requirement already satisfied: filelock in /usr/local/lib/python3.10/dist-packages (from torch>=1.8.0->ultralytics) (3.14.0)\n",
            "Requirement already satisfied: typing-extensions>=4.8.0 in /usr/local/lib/python3.10/dist-packages (from torch>=1.8.0->ultralytics) (4.11.0)\n",
            "Requirement already satisfied: sympy in /usr/local/lib/python3.10/dist-packages (from torch>=1.8.0->ultralytics) (1.12)\n",
            "Requirement already satisfied: networkx in /usr/local/lib/python3.10/dist-packages (from torch>=1.8.0->ultralytics) (3.3)\n",
            "Requirement already satisfied: jinja2 in /usr/local/lib/python3.10/dist-packages (from torch>=1.8.0->ultralytics) (3.1.3)\n",
            "Requirement already satisfied: fsspec in /usr/local/lib/python3.10/dist-packages (from torch>=1.8.0->ultralytics) (2023.6.0)\n",
            "Requirement already satisfied: nvidia-cuda-nvrtc-cu12==12.1.105 in /usr/local/lib/python3.10/dist-packages (from torch>=1.8.0->ultralytics) (12.1.105)\n",
            "Requirement already satisfied: nvidia-cuda-runtime-cu12==12.1.105 in /usr/local/lib/python3.10/dist-packages (from torch>=1.8.0->ultralytics) (12.1.105)\n",
            "Requirement already satisfied: nvidia-cuda-cupti-cu12==12.1.105 in /usr/local/lib/python3.10/dist-packages (from torch>=1.8.0->ultralytics) (12.1.105)\n",
            "Requirement already satisfied: nvidia-cudnn-cu12==8.9.2.26 in /usr/local/lib/python3.10/dist-packages (from torch>=1.8.0->ultralytics) (8.9.2.26)\n",
            "Requirement already satisfied: nvidia-cublas-cu12==12.1.3.1 in /usr/local/lib/python3.10/dist-packages (from torch>=1.8.0->ultralytics) (12.1.3.1)\n",
            "Requirement already satisfied: nvidia-cufft-cu12==11.0.2.54 in /usr/local/lib/python3.10/dist-packages (from torch>=1.8.0->ultralytics) (11.0.2.54)\n",
            "Requirement already satisfied: nvidia-curand-cu12==10.3.2.106 in /usr/local/lib/python3.10/dist-packages (from torch>=1.8.0->ultralytics) (10.3.2.106)\n",
            "Requirement already satisfied: nvidia-cusolver-cu12==11.4.5.107 in /usr/local/lib/python3.10/dist-packages (from torch>=1.8.0->ultralytics) (11.4.5.107)\n",
            "Requirement already satisfied: nvidia-cusparse-cu12==12.1.0.106 in /usr/local/lib/python3.10/dist-packages (from torch>=1.8.0->ultralytics) (12.1.0.106)\n",
            "Requirement already satisfied: nvidia-nccl-cu12==2.19.3 in /usr/local/lib/python3.10/dist-packages (from torch>=1.8.0->ultralytics) (2.19.3)\n",
            "Requirement already satisfied: nvidia-nvtx-cu12==12.1.105 in /usr/local/lib/python3.10/dist-packages (from torch>=1.8.0->ultralytics) (12.1.105)\n",
            "Requirement already satisfied: triton==2.2.0 in /usr/local/lib/python3.10/dist-packages (from torch>=1.8.0->ultralytics) (2.2.0)\n",
            "Requirement already satisfied: nvidia-nvjitlink-cu12 in /usr/local/lib/python3.10/dist-packages (from nvidia-cusolver-cu12==11.4.5.107->torch>=1.8.0->ultralytics) (12.4.127)\n",
            "Requirement already satisfied: six>=1.5 in /usr/local/lib/python3.10/dist-packages (from python-dateutil>=2.7->matplotlib>=3.3.0->ultralytics) (1.16.0)\n",
            "Requirement already satisfied: MarkupSafe>=2.0 in /usr/local/lib/python3.10/dist-packages (from jinja2->torch>=1.8.0->ultralytics) (2.1.5)\n",
            "Requirement already satisfied: mpmath>=0.19 in /usr/local/lib/python3.10/dist-packages (from sympy->torch>=1.8.0->ultralytics) (1.3.0)\n",
            "Installing collected packages: thop, ultralytics\n",
            "Successfully installed thop-0.1.1.post2209072238 ultralytics-8.2.6\n",
            "Requirement already satisfied: matplotlib in /usr/local/lib/python3.10/dist-packages (3.7.1)\n",
            "Requirement already satisfied: contourpy>=1.0.1 in /usr/local/lib/python3.10/dist-packages (from matplotlib) (1.2.1)\n",
            "Requirement already satisfied: cycler>=0.10 in /usr/local/lib/python3.10/dist-packages (from matplotlib) (0.12.1)\n",
            "Requirement already satisfied: fonttools>=4.22.0 in /usr/local/lib/python3.10/dist-packages (from matplotlib) (4.51.0)\n",
            "Requirement already satisfied: kiwisolver>=1.0.1 in /usr/local/lib/python3.10/dist-packages (from matplotlib) (1.4.5)\n",
            "Requirement already satisfied: numpy>=1.20 in /usr/local/lib/python3.10/dist-packages (from matplotlib) (1.25.2)\n",
            "Requirement already satisfied: packaging>=20.0 in /usr/local/lib/python3.10/dist-packages (from matplotlib) (24.0)\n",
            "Requirement already satisfied: pillow>=6.2.0 in /usr/local/lib/python3.10/dist-packages (from matplotlib) (9.4.0)\n",
            "Requirement already satisfied: pyparsing>=2.3.1 in /usr/local/lib/python3.10/dist-packages (from matplotlib) (3.1.2)\n",
            "Requirement already satisfied: python-dateutil>=2.7 in /usr/local/lib/python3.10/dist-packages (from matplotlib) (2.8.2)\n",
            "Requirement already satisfied: six>=1.5 in /usr/local/lib/python3.10/dist-packages (from python-dateutil>=2.7->matplotlib) (1.16.0)\n"
          ]
        }
      ],
      "source": [
        "# Importing the required libraries\n",
        "\n",
        "!pip install torch\n",
        "!pip install opencv-python\n",
        "!pip install ultralytics\n",
        "!pip install matplotlib\n",
        "\n",
        "import zipfile\n",
        "import os\n",
        "import shutil\n",
        "from ultralytics import YOLO\n",
        "import cv2\n",
        "import torch\n",
        "import torch.nn as nn\n",
        "import torch.nn.functional as F\n",
        "import numpy as np\n",
        "import pandas as pd\n",
        "import matplotlib.pyplot as plt\n",
        "from sklearn.metrics import roc_curve, roc_auc_score, auc\n",
        "from sklearn.model_selection import train_test_split\n",
        "import torchvision\n",
        "from sklearn.metrics import accuracy_score, precision_recall_fscore_support\n",
        "from sklearn.metrics import confusion_matrix\n",
        "import seaborn as sns\n",
        "from torchvision import transforms\n",
        "from torchvision import datasets\n",
        "from torchvision.datasets import ImageFolder\n",
        "from torch.utils.data import DataLoader\n",
        "from torch import flatten\n",
        "import torch.optim as optim\n",
        "import time\n",
        "import torchvision.transforms as transforms\n",
        "from PIL import Image\n",
        "from IPython.display import display"
      ]
    },
    {
      "cell_type": "code",
      "execution_count": 2,
      "metadata": {
        "colab": {
          "base_uri": "https://localhost:8080/"
        },
        "id": "IQALl2GUTga3",
        "outputId": "a6902ccf-cc5b-4255-eabb-cbc05f5bcd85"
      },
      "outputs": [
        {
          "output_type": "stream",
          "name": "stdout",
          "text": [
            "Device used :  Tesla T4\n"
          ]
        }
      ],
      "source": [
        "# Setting the device name\n",
        "\n",
        "if torch.cuda.is_available():\n",
        "   device_name = torch.cuda.get_device_name(0)\n",
        "   print(\"Device used : \", device_name)\n",
        "   device = \"cuda\"\n",
        "else:\n",
        "   print(\"Device unavailable\")\n",
        "   device = \"cpu\""
      ]
    },
    {
      "cell_type": "code",
      "execution_count": 80,
      "metadata": {
        "id": "PBm8YM1BTVzP"
      },
      "outputs": [],
      "source": [
        "# Defining the Dataset Path and extracting it to datasets folder\n",
        "\n",
        "dataset_path = '/content/Real_world_traffic-signs_split.zip'\n",
        "with zipfile.ZipFile(dataset_path, 'r') as zip_file:\n",
        "     zip_file.extractall('/content/datasets')"
      ]
    },
    {
      "cell_type": "code",
      "execution_count": 81,
      "metadata": {
        "id": "6HBvhBP3KbbZ"
      },
      "outputs": [],
      "source": [
        "# Moving the train, test and val folders to datasets folder\n",
        "\n",
        "src_folder = '/content/datasets/Real_world_traffic-signs'\n",
        "dest_folder = '/content/datasets'\n",
        "\n",
        "folders = []\n",
        "\n",
        "for sub_folder in os.listdir(src_folder):\n",
        "    if os.path.isdir(os.path.join(src_folder, sub_folder)):\n",
        "        folders.append(sub_folder)\n",
        "\n",
        "for item in folders:\n",
        "    source = os.path.join(src_folder, item)\n",
        "    dest = os.path.join(dest_folder, item)\n",
        "    shutil.move(source,dest)"
      ]
    },
    {
      "cell_type": "code",
      "execution_count": 83,
      "metadata": {
        "colab": {
          "base_uri": "https://localhost:8080/"
        },
        "id": "G4B6TXfCKbbZ",
        "outputId": "daa95283-b763-484e-fe66-77183e0ff4eb"
      },
      "outputs": [
        {
          "metadata": {
            "tags": null
          },
          "name": "stdout",
          "output_type": "stream",
          "text": [
            "Ultralytics YOLOv8.2.6 🚀 Python-3.10.12 torch-2.2.1+cu121 CUDA:0 (Tesla T4, 15102MiB)\n",
            "\u001b[34m\u001b[1mengine/trainer: \u001b[0mtask=detect, mode=train, model=yolov8s.pt, data=data.yaml, epochs=15, time=None, patience=100, batch=16, imgsz=640, save=True, save_period=-1, cache=False, device=None, workers=8, project=None, name=train3, exist_ok=False, pretrained=True, optimizer=auto, verbose=True, seed=0, deterministic=True, single_cls=False, rect=False, cos_lr=False, close_mosaic=10, resume=False, amp=True, fraction=1.0, profile=False, freeze=None, multi_scale=False, overlap_mask=True, mask_ratio=4, dropout=0.0, val=True, split=val, save_json=False, save_hybrid=False, conf=None, iou=0.7, max_det=300, half=False, dnn=False, plots=True, source=None, vid_stride=1, stream_buffer=False, visualize=False, augment=False, agnostic_nms=False, classes=None, retina_masks=False, embed=None, show=False, save_frames=False, save_txt=False, save_conf=False, save_crop=False, show_labels=True, show_conf=True, show_boxes=True, line_width=None, format=torchscript, keras=False, optimize=False, int8=False, dynamic=False, simplify=False, opset=None, workspace=4, nms=False, lr0=0.01, lrf=0.01, momentum=0.937, weight_decay=0.0005, warmup_epochs=3.0, warmup_momentum=0.8, warmup_bias_lr=0.1, box=7.5, cls=0.5, dfl=1.5, pose=12.0, kobj=1.0, label_smoothing=0.0, nbs=64, hsv_h=0.015, hsv_s=0.7, hsv_v=0.4, degrees=0.0, translate=0.1, scale=0.5, shear=0.0, perspective=0.0, flipud=0.0, fliplr=0.5, bgr=0.0, mosaic=1.0, mixup=0.0, copy_paste=0.0, auto_augment=randaugment, erasing=0.4, crop_fraction=1.0, cfg=None, tracker=botsort.yaml, save_dir=runs/detect/train3\n",
            "Overriding model.yaml nc=80 with nc=55\n",
            "\n",
            "                   from  n    params  module                                       arguments                     \n",
            "  0                  -1  1       928  ultralytics.nn.modules.conv.Conv             [3, 32, 3, 2]                 \n",
            "  1                  -1  1     18560  ultralytics.nn.modules.conv.Conv             [32, 64, 3, 2]                \n",
            "  2                  -1  1     29056  ultralytics.nn.modules.block.C2f             [64, 64, 1, True]             \n",
            "  3                  -1  1     73984  ultralytics.nn.modules.conv.Conv             [64, 128, 3, 2]               \n",
            "  4                  -1  2    197632  ultralytics.nn.modules.block.C2f             [128, 128, 2, True]           \n",
            "  5                  -1  1    295424  ultralytics.nn.modules.conv.Conv             [128, 256, 3, 2]              \n",
            "  6                  -1  2    788480  ultralytics.nn.modules.block.C2f             [256, 256, 2, True]           \n",
            "  7                  -1  1   1180672  ultralytics.nn.modules.conv.Conv             [256, 512, 3, 2]              \n",
            "  8                  -1  1   1838080  ultralytics.nn.modules.block.C2f             [512, 512, 1, True]           \n",
            "  9                  -1  1    656896  ultralytics.nn.modules.block.SPPF            [512, 512, 5]                 \n",
            " 10                  -1  1         0  torch.nn.modules.upsampling.Upsample         [None, 2, 'nearest']          \n",
            " 11             [-1, 6]  1         0  ultralytics.nn.modules.conv.Concat           [1]                           \n",
            " 12                  -1  1    591360  ultralytics.nn.modules.block.C2f             [768, 256, 1]                 \n",
            " 13                  -1  1         0  torch.nn.modules.upsampling.Upsample         [None, 2, 'nearest']          \n",
            " 14             [-1, 4]  1         0  ultralytics.nn.modules.conv.Concat           [1]                           \n",
            " 15                  -1  1    148224  ultralytics.nn.modules.block.C2f             [384, 128, 1]                 \n",
            " 16                  -1  1    147712  ultralytics.nn.modules.conv.Conv             [128, 128, 3, 2]              \n",
            " 17            [-1, 12]  1         0  ultralytics.nn.modules.conv.Concat           [1]                           \n",
            " 18                  -1  1    493056  ultralytics.nn.modules.block.C2f             [384, 256, 1]                 \n",
            " 19                  -1  1    590336  ultralytics.nn.modules.conv.Conv             [256, 256, 3, 2]              \n",
            " 20             [-1, 9]  1         0  ultralytics.nn.modules.conv.Concat           [1]                           \n",
            " 21                  -1  1   1969152  ultralytics.nn.modules.block.C2f             [768, 512, 1]                 \n",
            " 22        [15, 18, 21]  1   2137333  ultralytics.nn.modules.head.Detect           [55, [128, 256, 512]]         \n",
            "Model summary: 225 layers, 11156885 parameters, 11156869 gradients, 28.8 GFLOPs\n",
            "\n",
            "Transferred 349/355 items from pretrained weights\n",
            "\u001b[34m\u001b[1mTensorBoard: \u001b[0mStart with 'tensorboard --logdir runs/detect/train3', view at http://localhost:6006/\n",
            "Freezing layer 'model.22.dfl.conv.weight'\n",
            "\u001b[34m\u001b[1mAMP: \u001b[0mrunning Automatic Mixed Precision (AMP) checks with YOLOv8n...\n",
            "Downloading https://github.com/ultralytics/assets/releases/download/v8.2.0/yolov8n.pt to 'yolov8n.pt'...\n"
          ]
        },
        {
          "metadata": {
            "tags": null
          },
          "name": "stderr",
          "output_type": "stream",
          "text": [
            "100%|██████████| 6.23M/6.23M [00:00<00:00, 70.7MB/s]\n"
          ]
        },
        {
          "metadata": {
            "tags": null
          },
          "name": "stdout",
          "output_type": "stream",
          "text": [
            "\u001b[34m\u001b[1mAMP: \u001b[0mchecks passed ✅\n"
          ]
        },
        {
          "metadata": {
            "tags": null
          },
          "name": "stderr",
          "output_type": "stream",
          "text": [
            "\u001b[34m\u001b[1mtrain: \u001b[0mScanning /content/datasets/train/labels.cache... 1369 images, 55 backgrounds, 0 corrupt: 100%|██████████| 1369/1369 [00:00<?, ?it/s]"
          ]
        },
        {
          "metadata": {
            "tags": null
          },
          "name": "stdout",
          "output_type": "stream",
          "text": [
            "\u001b[34m\u001b[1malbumentations: \u001b[0mBlur(p=0.01, blur_limit=(3, 7)), MedianBlur(p=0.01, blur_limit=(3, 7)), ToGray(p=0.01), CLAHE(p=0.01, clip_limit=(1, 4.0), tile_grid_size=(8, 8))\n"
          ]
        },
        {
          "metadata": {
            "tags": null
          },
          "name": "stderr",
          "output_type": "stream",
          "text": [
            "\n",
            "/usr/lib/python3.10/multiprocessing/popen_fork.py:66: RuntimeWarning: os.fork() was called. os.fork() is incompatible with multithreaded code, and JAX is multithreaded, so this will likely lead to a deadlock.\n",
            "  self.pid = os.fork()\n",
            "\u001b[34m\u001b[1mval: \u001b[0mScanning /content/datasets/val/labels.cache... 293 images, 17 backgrounds, 0 corrupt: 100%|██████████| 293/293 [00:00<?, ?it/s]\n"
          ]
        },
        {
          "metadata": {
            "tags": null
          },
          "name": "stdout",
          "output_type": "stream",
          "text": [
            "Plotting labels to runs/detect/train3/labels.jpg... \n",
            "\u001b[34m\u001b[1moptimizer:\u001b[0m 'optimizer=auto' found, ignoring 'lr0=0.01' and 'momentum=0.937' and determining best 'optimizer', 'lr0' and 'momentum' automatically... \n",
            "\u001b[34m\u001b[1moptimizer:\u001b[0m AdamW(lr=0.000169, momentum=0.9) with parameter groups 57 weight(decay=0.0), 64 weight(decay=0.0005), 63 bias(decay=0.0)\n",
            "\u001b[34m\u001b[1mTensorBoard: \u001b[0mmodel graph visualization added ✅\n",
            "Image sizes 640 train, 640 val\n",
            "Using 2 dataloader workers\n",
            "Logging results to \u001b[1mruns/detect/train3\u001b[0m\n",
            "Starting training for 15 epochs...\n",
            "\n",
            "      Epoch    GPU_mem   box_loss   cls_loss   dfl_loss  Instances       Size\n"
          ]
        },
        {
          "metadata": {
            "tags": null
          },
          "name": "stderr",
          "output_type": "stream",
          "text": [
            "       1/15      5.36G     0.8007       5.84     0.9852         23        640: 100%|██████████| 86/86 [00:33<00:00,  2.58it/s]\n",
            "                 Class     Images  Instances      Box(P          R      mAP50  mAP50-95): 100%|██████████| 10/10 [00:04<00:00,  2.06it/s]"
          ]
        },
        {
          "metadata": {
            "tags": null
          },
          "name": "stdout",
          "output_type": "stream",
          "text": [
            "                   all        293        526      0.249      0.196      0.112     0.0957\n"
          ]
        },
        {
          "metadata": {
            "tags": null
          },
          "name": "stderr",
          "output_type": "stream",
          "text": [
            "\n"
          ]
        },
        {
          "metadata": {
            "tags": null
          },
          "name": "stdout",
          "output_type": "stream",
          "text": [
            "\n",
            "      Epoch    GPU_mem   box_loss   cls_loss   dfl_loss  Instances       Size\n"
          ]
        },
        {
          "metadata": {
            "tags": null
          },
          "name": "stderr",
          "output_type": "stream",
          "text": [
            "       2/15      5.17G     0.7067      2.857     0.9504         23        640: 100%|██████████| 86/86 [00:31<00:00,  2.76it/s]\n",
            "                 Class     Images  Instances      Box(P          R      mAP50  mAP50-95): 100%|██████████| 10/10 [00:03<00:00,  2.60it/s]\n"
          ]
        },
        {
          "metadata": {
            "tags": null
          },
          "name": "stdout",
          "output_type": "stream",
          "text": [
            "                   all        293        526      0.493      0.272      0.272      0.229\n",
            "\n",
            "      Epoch    GPU_mem   box_loss   cls_loss   dfl_loss  Instances       Size\n"
          ]
        },
        {
          "metadata": {
            "tags": null
          },
          "name": "stderr",
          "output_type": "stream",
          "text": [
            "       3/15      5.18G     0.7174      2.211     0.9484         24        640: 100%|██████████| 86/86 [00:30<00:00,  2.83it/s]\n",
            "                 Class     Images  Instances      Box(P          R      mAP50  mAP50-95): 100%|██████████| 10/10 [00:03<00:00,  2.87it/s]\n"
          ]
        },
        {
          "metadata": {
            "tags": null
          },
          "name": "stdout",
          "output_type": "stream",
          "text": [
            "                   all        293        526      0.574      0.387       0.39      0.331\n",
            "\n",
            "      Epoch    GPU_mem   box_loss   cls_loss   dfl_loss  Instances       Size\n"
          ]
        },
        {
          "metadata": {
            "tags": null
          },
          "name": "stderr",
          "output_type": "stream",
          "text": [
            "       4/15      5.21G     0.6938      1.811     0.9492         18        640: 100%|██████████| 86/86 [00:32<00:00,  2.62it/s]\n",
            "                 Class     Images  Instances      Box(P          R      mAP50  mAP50-95): 100%|██████████| 10/10 [00:03<00:00,  2.89it/s]\n"
          ]
        },
        {
          "metadata": {
            "tags": null
          },
          "name": "stdout",
          "output_type": "stream",
          "text": [
            "                   all        293        526      0.481      0.524      0.497      0.416\n",
            "\n",
            "      Epoch    GPU_mem   box_loss   cls_loss   dfl_loss  Instances       Size\n"
          ]
        },
        {
          "metadata": {
            "tags": null
          },
          "name": "stderr",
          "output_type": "stream",
          "text": [
            "       5/15      5.19G     0.6917      1.557     0.9351         18        640: 100%|██████████| 86/86 [00:31<00:00,  2.69it/s]\n",
            "                 Class     Images  Instances      Box(P          R      mAP50  mAP50-95): 100%|██████████| 10/10 [00:03<00:00,  2.99it/s]\n"
          ]
        },
        {
          "metadata": {
            "tags": null
          },
          "name": "stdout",
          "output_type": "stream",
          "text": [
            "                   all        293        526      0.576      0.521      0.538      0.454\n",
            "Closing dataloader mosaic\n",
            "\u001b[34m\u001b[1malbumentations: \u001b[0mBlur(p=0.01, blur_limit=(3, 7)), MedianBlur(p=0.01, blur_limit=(3, 7)), ToGray(p=0.01), CLAHE(p=0.01, clip_limit=(1, 4.0), tile_grid_size=(8, 8))\n"
          ]
        },
        {
          "metadata": {
            "tags": null
          },
          "name": "stderr",
          "output_type": "stream",
          "text": [
            "/usr/lib/python3.10/multiprocessing/popen_fork.py:66: RuntimeWarning: os.fork() was called. os.fork() is incompatible with multithreaded code, and JAX is multithreaded, so this will likely lead to a deadlock.\n",
            "  self.pid = os.fork()\n"
          ]
        },
        {
          "metadata": {
            "tags": null
          },
          "name": "stdout",
          "output_type": "stream",
          "text": [
            "\n",
            "      Epoch    GPU_mem   box_loss   cls_loss   dfl_loss  Instances       Size\n"
          ]
        },
        {
          "metadata": {
            "tags": null
          },
          "name": "stderr",
          "output_type": "stream",
          "text": [
            "       6/15      5.21G     0.6347       1.38     0.9102         19        640: 100%|██████████| 86/86 [00:32<00:00,  2.65it/s]\n",
            "                 Class     Images  Instances      Box(P          R      mAP50  mAP50-95): 100%|██████████| 10/10 [00:03<00:00,  2.93it/s]"
          ]
        },
        {
          "metadata": {
            "tags": null
          },
          "name": "stdout",
          "output_type": "stream",
          "text": [
            "                   all        293        526      0.559      0.627      0.639      0.544\n"
          ]
        },
        {
          "metadata": {
            "tags": null
          },
          "name": "stderr",
          "output_type": "stream",
          "text": [
            "\n"
          ]
        },
        {
          "metadata": {
            "tags": null
          },
          "name": "stdout",
          "output_type": "stream",
          "text": [
            "\n",
            "      Epoch    GPU_mem   box_loss   cls_loss   dfl_loss  Instances       Size\n"
          ]
        },
        {
          "metadata": {
            "tags": null
          },
          "name": "stderr",
          "output_type": "stream",
          "text": [
            "       7/15      5.19G     0.6257      1.206     0.9072         15        640: 100%|██████████| 86/86 [00:29<00:00,  2.96it/s]\n",
            "                 Class     Images  Instances      Box(P          R      mAP50  mAP50-95): 100%|██████████| 10/10 [00:04<00:00,  2.36it/s]\n"
          ]
        },
        {
          "metadata": {
            "tags": null
          },
          "name": "stdout",
          "output_type": "stream",
          "text": [
            "                   all        293        526      0.601      0.614      0.648      0.552\n",
            "\n",
            "      Epoch    GPU_mem   box_loss   cls_loss   dfl_loss  Instances       Size\n"
          ]
        },
        {
          "metadata": {
            "tags": null
          },
          "name": "stderr",
          "output_type": "stream",
          "text": [
            "       8/15      5.22G     0.6156      1.077     0.9061         15        640: 100%|██████████| 86/86 [00:28<00:00,  3.06it/s]\n",
            "                 Class     Images  Instances      Box(P          R      mAP50  mAP50-95): 100%|██████████| 10/10 [00:03<00:00,  3.02it/s]\n"
          ]
        },
        {
          "metadata": {
            "tags": null
          },
          "name": "stdout",
          "output_type": "stream",
          "text": [
            "                   all        293        526       0.59      0.666      0.699      0.596\n",
            "\n",
            "      Epoch    GPU_mem   box_loss   cls_loss   dfl_loss  Instances       Size\n"
          ]
        },
        {
          "metadata": {
            "tags": null
          },
          "name": "stderr",
          "output_type": "stream",
          "text": [
            "       9/15      5.21G     0.6012     0.9756     0.9005         11        640: 100%|██████████| 86/86 [00:30<00:00,  2.84it/s]\n",
            "                 Class     Images  Instances      Box(P          R      mAP50  mAP50-95): 100%|██████████| 10/10 [00:03<00:00,  2.93it/s]"
          ]
        },
        {
          "metadata": {
            "tags": null
          },
          "name": "stdout",
          "output_type": "stream",
          "text": [
            "                   all        293        526      0.666      0.669      0.717      0.612\n"
          ]
        },
        {
          "metadata": {
            "tags": null
          },
          "name": "stderr",
          "output_type": "stream",
          "text": [
            "\n"
          ]
        },
        {
          "metadata": {
            "tags": null
          },
          "name": "stdout",
          "output_type": "stream",
          "text": [
            "\n",
            "      Epoch    GPU_mem   box_loss   cls_loss   dfl_loss  Instances       Size\n"
          ]
        },
        {
          "metadata": {
            "tags": null
          },
          "name": "stderr",
          "output_type": "stream",
          "text": [
            "      10/15       5.2G     0.5904     0.8768     0.8902         21        640: 100%|██████████| 86/86 [00:28<00:00,  3.02it/s]\n",
            "                 Class     Images  Instances      Box(P          R      mAP50  mAP50-95): 100%|██████████| 10/10 [00:04<00:00,  2.39it/s]"
          ]
        },
        {
          "metadata": {
            "tags": null
          },
          "name": "stdout",
          "output_type": "stream",
          "text": [
            "                   all        293        526      0.767      0.615      0.743      0.637\n"
          ]
        },
        {
          "metadata": {
            "tags": null
          },
          "name": "stderr",
          "output_type": "stream",
          "text": [
            "\n"
          ]
        },
        {
          "metadata": {
            "tags": null
          },
          "name": "stdout",
          "output_type": "stream",
          "text": [
            "\n",
            "      Epoch    GPU_mem   box_loss   cls_loss   dfl_loss  Instances       Size\n"
          ]
        },
        {
          "metadata": {
            "tags": null
          },
          "name": "stderr",
          "output_type": "stream",
          "text": [
            "      11/15      5.19G     0.5807     0.8213     0.8883         19        640: 100%|██████████| 86/86 [00:28<00:00,  3.01it/s]\n",
            "                 Class     Images  Instances      Box(P          R      mAP50  mAP50-95): 100%|██████████| 10/10 [00:03<00:00,  3.00it/s]"
          ]
        },
        {
          "metadata": {
            "tags": null
          },
          "name": "stdout",
          "output_type": "stream",
          "text": [
            "                   all        293        526      0.674      0.717      0.764      0.657\n"
          ]
        },
        {
          "metadata": {
            "tags": null
          },
          "name": "stderr",
          "output_type": "stream",
          "text": [
            "\n"
          ]
        },
        {
          "metadata": {
            "tags": null
          },
          "name": "stdout",
          "output_type": "stream",
          "text": [
            "\n",
            "      Epoch    GPU_mem   box_loss   cls_loss   dfl_loss  Instances       Size\n"
          ]
        },
        {
          "metadata": {
            "tags": null
          },
          "name": "stderr",
          "output_type": "stream",
          "text": [
            "      12/15      5.21G     0.5731     0.7544     0.8841         12        640: 100%|██████████| 86/86 [00:29<00:00,  2.93it/s]\n",
            "                 Class     Images  Instances      Box(P          R      mAP50  mAP50-95): 100%|██████████| 10/10 [00:03<00:00,  3.01it/s]\n"
          ]
        },
        {
          "metadata": {
            "tags": null
          },
          "name": "stdout",
          "output_type": "stream",
          "text": [
            "                   all        293        526      0.754      0.703      0.774      0.668\n",
            "\n",
            "      Epoch    GPU_mem   box_loss   cls_loss   dfl_loss  Instances       Size\n"
          ]
        },
        {
          "metadata": {
            "tags": null
          },
          "name": "stderr",
          "output_type": "stream",
          "text": [
            "      13/15      5.21G       0.57     0.7277     0.8772         12        640: 100%|██████████| 86/86 [00:28<00:00,  3.03it/s]\n",
            "                 Class     Images  Instances      Box(P          R      mAP50  mAP50-95): 100%|██████████| 10/10 [00:03<00:00,  2.53it/s]\n"
          ]
        },
        {
          "metadata": {
            "tags": null
          },
          "name": "stdout",
          "output_type": "stream",
          "text": [
            "                   all        293        526      0.727      0.699      0.781      0.673\n",
            "\n",
            "      Epoch    GPU_mem   box_loss   cls_loss   dfl_loss  Instances       Size\n"
          ]
        },
        {
          "metadata": {
            "tags": null
          },
          "name": "stderr",
          "output_type": "stream",
          "text": [
            "      14/15      5.18G     0.5636     0.6945     0.8768         13        640: 100%|██████████| 86/86 [00:28<00:00,  2.99it/s]\n",
            "                 Class     Images  Instances      Box(P          R      mAP50  mAP50-95): 100%|██████████| 10/10 [00:03<00:00,  3.10it/s]"
          ]
        },
        {
          "metadata": {
            "tags": null
          },
          "name": "stdout",
          "output_type": "stream",
          "text": [
            "                   all        293        526      0.778      0.722      0.785      0.684\n"
          ]
        },
        {
          "metadata": {
            "tags": null
          },
          "name": "stderr",
          "output_type": "stream",
          "text": [
            "\n"
          ]
        },
        {
          "metadata": {
            "tags": null
          },
          "name": "stdout",
          "output_type": "stream",
          "text": [
            "\n",
            "      Epoch    GPU_mem   box_loss   cls_loss   dfl_loss  Instances       Size\n"
          ]
        },
        {
          "metadata": {
            "tags": null
          },
          "name": "stderr",
          "output_type": "stream",
          "text": [
            "      15/15       5.2G     0.5524     0.6527     0.8779         18        640: 100%|██████████| 86/86 [00:28<00:00,  2.99it/s]\n",
            "                 Class     Images  Instances      Box(P          R      mAP50  mAP50-95): 100%|██████████| 10/10 [00:03<00:00,  2.95it/s]"
          ]
        },
        {
          "metadata": {
            "tags": null
          },
          "name": "stdout",
          "output_type": "stream",
          "text": [
            "                   all        293        526      0.755      0.737      0.797       0.69\n"
          ]
        },
        {
          "metadata": {
            "tags": null
          },
          "name": "stderr",
          "output_type": "stream",
          "text": [
            "\n"
          ]
        },
        {
          "metadata": {
            "tags": null
          },
          "name": "stdout",
          "output_type": "stream",
          "text": [
            "\n",
            "15 epochs completed in 0.153 hours.\n",
            "Optimizer stripped from runs/detect/train3/weights/last.pt, 22.6MB\n",
            "Optimizer stripped from runs/detect/train3/weights/best.pt, 22.6MB\n",
            "\n",
            "Validating runs/detect/train3/weights/best.pt...\n",
            "Ultralytics YOLOv8.2.6 🚀 Python-3.10.12 torch-2.2.1+cu121 CUDA:0 (Tesla T4, 15102MiB)\n",
            "Model summary (fused): 168 layers, 11146869 parameters, 0 gradients, 28.6 GFLOPs\n"
          ]
        },
        {
          "metadata": {
            "tags": null
          },
          "name": "stderr",
          "output_type": "stream",
          "text": [
            "                 Class     Images  Instances      Box(P          R      mAP50  mAP50-95): 100%|██████████| 10/10 [00:06<00:00,  1.46it/s]\n"
          ]
        },
        {
          "metadata": {
            "tags": null
          },
          "name": "stdout",
          "output_type": "stream",
          "text": [
            "                   all        293        526      0.756      0.736      0.797       0.69\n",
            "            forb_ahead        293         16      0.916      0.938      0.938      0.849\n",
            "             forb_left        293         18      0.932      0.889      0.962      0.786\n",
            "         forb_overtake        293          9      0.756          1      0.984      0.914\n",
            "            forb_right        293         12      0.891          1      0.983      0.855\n",
            "    forb_speed_over_10        293          4          0          0      0.241       0.22\n",
            "   forb_speed_over_100        293          6      0.594          1      0.927      0.826\n",
            "   forb_speed_over_130        293          6          1      0.301      0.498      0.438\n",
            "    forb_speed_over_30        293         21      0.626      0.762      0.779      0.667\n",
            "    forb_speed_over_40        293          4      0.556        0.5      0.637      0.573\n",
            "     forb_speed_over_5        293          1      0.701          1      0.995      0.895\n",
            "    forb_speed_over_50        293         21       0.84      0.996      0.972      0.849\n",
            "    forb_speed_over_60        293          9      0.726      0.302      0.562      0.515\n",
            "    forb_speed_over_70        293         17      0.825          1      0.965      0.882\n",
            "    forb_speed_over_80        293          6      0.695        0.5      0.718      0.639\n",
            "    forb_speed_over_90        293          4      0.633       0.75      0.888      0.754\n",
            "         forb_stopping        293         24          1      0.826      0.932      0.735\n",
            "           forb_u_turn        293          2          1          0      0.276      0.246\n",
            " forb_weight_over_3.5t        293         11      0.911      0.932      0.988      0.842\n",
            " forb_weight_over_7.5t        293          1      0.463          1      0.497      0.448\n",
            "      info_bus_station        293          6      0.561      0.833        0.8      0.688\n",
            "        info_crosswalk        293         48      0.975      0.938       0.96      0.817\n",
            "          info_highway        293         12          1      0.526      0.672      0.505\n",
            "  info_one_way_traffic        293         22      0.888      0.909      0.962      0.839\n",
            "          info_parking        293         16      0.913      0.659      0.793      0.565\n",
            "        mand_bike_lane        293          2      0.713          1      0.995       0.92\n",
            "             mand_left        293          2          0          0      0.153      0.142\n",
            "       mand_left_right        293          1          1          0      0.497      0.448\n",
            "        mand_pass_left        293          1      0.557          1      0.995      0.796\n",
            "  mand_pass_left_right        293         16      0.933       0.87      0.976      0.825\n",
            "       mand_pass_right        293         18      0.887      0.876      0.953      0.745\n",
            "            mand_right        293         17      0.873      0.807      0.793      0.682\n",
            "       mand_roundabout        293         12      0.877      0.594      0.873      0.708\n",
            "     mand_straigh_left        293          6      0.506      0.667       0.56      0.487\n",
            "         mand_straight        293          6      0.846        0.5      0.668      0.627\n",
            "   mand_straight_right        293          3          0          0       0.28      0.252\n",
            "         prio_give_way        293         28      0.914      0.929      0.925      0.757\n",
            "    prio_priority_road        293          6      0.904          1      0.995      0.863\n",
            "             prio_stop        293         28          1      0.957      0.991      0.856\n",
            "         warn_children        293          5      0.791          1      0.962      0.843\n",
            "     warn_construction        293         11          1       0.64      0.995      0.919\n",
            "        warn_crosswalk        293         13      0.951      0.846      0.922      0.787\n",
            "         warn_cyclists        293          3      0.493      0.667      0.717       0.64\n",
            " warn_domestic_animals        293          3      0.487      0.667      0.349      0.331\n",
            "    warn_other_dangers        293          3      0.571          1      0.753      0.678\n",
            "warn_poor_road_surface        293          3      0.582          1      0.995      0.929\n",
            "       warn_roundabout        293          9          1      0.862      0.947      0.802\n",
            "     warn_speed_bumper        293          8       0.63      0.852      0.871      0.734\n",
            "    warn_traffic_light        293          9          1      0.782      0.995      0.883\n",
            "             warn_tram        293          2      0.877        0.5      0.695      0.566\n",
            "  warn_two_way_traffic        293          7          1      0.975      0.995      0.879\n",
            "     warn_wild_animals        293          8      0.739          1      0.862       0.76\n",
            "Speed: 0.5ms preprocess, 5.4ms inference, 0.0ms loss, 4.1ms postprocess per image\n",
            "Results saved to \u001b[1mruns/detect/train3\u001b[0m\n"
          ]
        }
      ],
      "source": [
        "# Defining and Training the YOLOv8 Model using Pre-trained weights\n",
        "\n",
        "yolo_model = YOLO('yolov8s.pt')\n",
        "results = yolo_model.train(data='data.yaml', epochs=15, imgsz=640, batch=16)"
      ]
    },
    {
      "cell_type": "code",
      "execution_count": 84,
      "metadata": {
        "id": "bVunVoo5Kbba"
      },
      "outputs": [],
      "source": [
        "# Defining YOLO model using the trained model path\n",
        "\n",
        "yolo_model = YOLO(\"/content/runs/detect/train3/weights/last.pt\")\n",
        "\n",
        "# Saving the model weights\n",
        "\n",
        "torch.save(yolo_model.state_dict(),\"yolo_model.pth\")"
      ]
    },
    {
      "cell_type": "code",
      "execution_count": 85,
      "metadata": {
        "id": "y_01Q6TcYjin"
      },
      "outputs": [],
      "source": [
        "# Calculating IOU for detected and actual objects\n",
        "\n",
        "def calculate_iou_bbox(bbox1,bbox2):\n",
        "\n",
        "    x1 = torch.max(bbox1[0],bbox2[0])\n",
        "    x2 = torch.min(bbox1[0]+bbox1[2], bbox2[0]+bbox2[2])\n",
        "    y1 = torch.max(bbox1[1],bbox2[1])\n",
        "    y2 = torch.min(bbox1[1]+bbox1[3], bbox2[1]+bbox2[3])\n",
        "\n",
        "    t1 = torch.clamp(x2 - x1,min=0)\n",
        "    t2 = torch.clamp(y2 - y1,min=0)\n",
        "\n",
        "    area_of_intersection = t1 * t2\n",
        "    area_of_union = (bbox1[2] * bbox1[3])+(bbox2[2] * bbox2[3]) - area_of_intersection\n",
        "    iou = area_of_intersection / area_of_union\n",
        "\n",
        "    return iou"
      ]
    },
    {
      "cell_type": "code",
      "execution_count": 86,
      "metadata": {
        "id": "1Rq5377GaIxJ"
      },
      "outputs": [],
      "source": [
        "# Finding the best match between predicted and actual boundary boxes based on IOU value\n",
        "\n",
        "def finding_best_bbox_match(predicted_boxes,actual_boxes):\n",
        "\n",
        "    best_bbox_match_idx = None\n",
        "    maximum_iou = 0\n",
        "\n",
        "    for idx1, bbox1 in enumerate(predicted_boxes):\n",
        "\n",
        "        for idx2, bbox2 in enumerate(actual_boxes):\n",
        "            cur_iou = calculate_iou_bbox(bbox1,bbox2)\n",
        "\n",
        "            if cur_iou > maximum_iou:\n",
        "                best_bbox_match_idx = (idx1, idx2)\n",
        "                maximum_iou = cur_iou\n",
        "\n",
        "    return best_bbox_match_idx, maximum_iou"
      ]
    },
    {
      "cell_type": "code",
      "execution_count": 87,
      "metadata": {
        "id": "brpjpzOAcMgJ"
      },
      "outputs": [],
      "source": [
        "# Compute loss, accuracy and map the actual classes of boundary boxes\n",
        "# IOU is used as a metric to calculate accuracy and Smooth L1 loss is used as a metric to compute loss\n",
        "\n",
        "def mapping_and_computing_loss_and_accuracy(predicted_boxes, actual_boxes, actual_class_values):\n",
        "\n",
        "    best_bbox_match_loss = []\n",
        "    best_bbox_match_accuracy = []\n",
        "    best_bbox_match_pred = []\n",
        "    best_bbox_match_actual = []\n",
        "    mapped_actual_classes = []\n",
        "\n",
        "    predicted_boxes = predicted_boxes.cpu()\n",
        "    actual_boxes = actual_boxes.cpu()\n",
        "\n",
        "    min_count = min(predicted_boxes.size(0),actual_boxes.size(0))\n",
        "\n",
        "    for i in range(min_count):\n",
        "\n",
        "        best_bbox_match_idx, maximum_iou = finding_best_bbox_match(predicted_boxes,actual_boxes)\n",
        "\n",
        "        if best_bbox_match_idx is None:\n",
        "           break\n",
        "\n",
        "        else:\n",
        "\n",
        "            predicted_box = predicted_boxes[best_bbox_match_idx[0]]\n",
        "            actual_box = actual_boxes[best_bbox_match_idx[1]]\n",
        "\n",
        "            loss = F.smooth_l1_loss(predicted_box, actual_box, reduction='sum')\n",
        "            best_bbox_match_loss.append(loss.item())\n",
        "\n",
        "            accuracy = maximum_iou.item()\n",
        "            best_bbox_match_accuracy.append(accuracy)\n",
        "\n",
        "            best_bbox_match_pred.append(predicted_box)\n",
        "            best_bbox_match_actual.append(actual_box)\n",
        "\n",
        "            if len(actual_class_values) > 0:\n",
        "                mapped_actual_classes.append(actual_class_values[best_bbox_match_idx[1]])\n",
        "\n",
        "            predicted_boxes = torch.cat((predicted_boxes[:best_bbox_match_idx[0]],predicted_boxes[best_bbox_match_idx[0] + 1:]), dim=0)\n",
        "            actual_boxes = torch.cat((actual_boxes[:best_bbox_match_idx[1]],actual_boxes[best_bbox_match_idx[1] + 1:]), dim=0)\n",
        "\n",
        "            if len(actual_class_values) > 0:\n",
        "                del actual_class_values[best_bbox_match_idx[1]]\n",
        "\n",
        "    return best_bbox_match_loss, best_bbox_match_accuracy, best_bbox_match_pred, best_bbox_match_actual, mapped_actual_classes"
      ]
    },
    {
      "cell_type": "code",
      "execution_count": 88,
      "metadata": {
        "id": "rciFpv0Vntv2"
      },
      "outputs": [],
      "source": [
        "# Parse YOLO annotation file\n",
        "\n",
        "def parse_yolo_annotation(annotation_path):\n",
        "\n",
        "    bboxes = []\n",
        "    classes = []\n",
        "\n",
        "    with open(annotation_path, 'r') as file:\n",
        "         lines = file.readlines()\n",
        "\n",
        "    for l in lines:\n",
        "        values = l.strip().split()\n",
        "        classes.append(int(values[0]))\n",
        "        x1, y1, w, h = map(float,values[1:])\n",
        "        bboxes.append([x1, y1, w, h])\n",
        "\n",
        "    return bboxes,classes"
      ]
    },
    {
      "cell_type": "code",
      "execution_count": 89,
      "metadata": {
        "colab": {
          "base_uri": "https://localhost:8080/"
        },
        "id": "PD7QbgLLqGdB",
        "outputId": "73bd8055-6255-4fc6-bd27-84c9238c0fad"
      },
      "outputs": [
        {
          "output_type": "stream",
          "name": "stdout",
          "text": [
            "\n",
            "image 1/1 /content/datasets/test/images/AUTO_COLLECTED_PICTURE_102_png.rf.d41ec30b5e991c5d4d9e9644c5698a05.jpg: 640x640 2 info_parkings, 16.5ms\n",
            "Speed: 1.6ms preprocess, 16.5ms inference, 1.6ms postprocess per image at shape (1, 3, 640, 640)\n",
            "Results saved to \u001b[1mruns/detect/predict2\u001b[0m\n",
            "\n",
            "image 1/1 /content/datasets/test/images/AUTO_COLLECTED_PICTURE_135_png.rf.06465ab107bf20158a53f1ee84888846.jpg: 640x640 1 info_crosswalk, 1 info_parking, 1 warn_cyclists, 16.6ms\n",
            "Speed: 1.6ms preprocess, 16.6ms inference, 1.6ms postprocess per image at shape (1, 3, 640, 640)\n",
            "Results saved to \u001b[1mruns/detect/predict2\u001b[0m\n",
            "\n",
            "image 1/1 /content/datasets/test/images/AUTO_COLLECTED_PICTURE_159_png.rf.955fc653a5ceb9f69ef526305e087aa6.jpg: 640x640 2 forb_stoppings, 16.6ms\n",
            "Speed: 1.6ms preprocess, 16.6ms inference, 1.6ms postprocess per image at shape (1, 3, 640, 640)\n",
            "Results saved to \u001b[1mruns/detect/predict2\u001b[0m\n",
            "\n",
            "image 1/1 /content/datasets/test/images/AUTO_COLLECTED_PICTURE_164_png.rf.e23b26f9179e6c55042b8042c7859c0e.jpg: 640x640 1 forb_ahead, 1 info_parking, 16.6ms\n",
            "Speed: 1.8ms preprocess, 16.6ms inference, 1.4ms postprocess per image at shape (1, 3, 640, 640)\n",
            "Results saved to \u001b[1mruns/detect/predict2\u001b[0m\n",
            "\n",
            "image 1/1 /content/datasets/test/images/AUTO_COLLECTED_PICTURE_172_png.rf.c0e77210052cd0821e30b53a4017628c.jpg: 640x640 1 forb_right, 1 prio_give_way, 16.6ms\n",
            "Speed: 1.6ms preprocess, 16.6ms inference, 1.5ms postprocess per image at shape (1, 3, 640, 640)\n",
            "Results saved to \u001b[1mruns/detect/predict2\u001b[0m\n",
            "\n",
            "image 1/1 /content/datasets/test/images/AUTO_COLLECTED_PICTURE_18_png.rf.17d982a8c3790aaeadc3118e7a31b411.jpg: 640x640 (no detections), 16.6ms\n",
            "Speed: 1.5ms preprocess, 16.6ms inference, 1.1ms postprocess per image at shape (1, 3, 640, 640)\n",
            "Results saved to \u001b[1mruns/detect/predict2\u001b[0m\n",
            "\n",
            "image 1/1 /content/datasets/test/images/AUTO_COLLECTED_PICTURE_209_png.rf.225e460f5a19f618dcac468d4bcf0d9b.jpg: 640x640 (no detections), 16.7ms\n",
            "Speed: 1.5ms preprocess, 16.7ms inference, 0.7ms postprocess per image at shape (1, 3, 640, 640)\n",
            "Results saved to \u001b[1mruns/detect/predict2\u001b[0m\n",
            "\n",
            "image 1/1 /content/datasets/test/images/AUTO_COLLECTED_PICTURE_211_png.rf.890d75159bf3b54fab5b03abb06298c1.jpg: 640x640 1 forb_right, 16.7ms\n",
            "Speed: 1.6ms preprocess, 16.7ms inference, 2.4ms postprocess per image at shape (1, 3, 640, 640)\n",
            "Results saved to \u001b[1mruns/detect/predict2\u001b[0m\n",
            "\n",
            "image 1/1 /content/datasets/test/images/AUTO_COLLECTED_PICTURE_219_png.rf.cb23f808d08bc8c0280169ba686893c9.jpg: 640x640 (no detections), 16.6ms\n",
            "Speed: 1.5ms preprocess, 16.6ms inference, 0.6ms postprocess per image at shape (1, 3, 640, 640)\n",
            "Results saved to \u001b[1mruns/detect/predict2\u001b[0m\n",
            "\n",
            "image 1/1 /content/datasets/test/images/AUTO_COLLECTED_PICTURE_221_png.rf.09b9ef4e781658854b0ca6a680ddc511.jpg: 640x640 (no detections), 16.6ms\n",
            "Speed: 1.4ms preprocess, 16.6ms inference, 0.7ms postprocess per image at shape (1, 3, 640, 640)\n",
            "Results saved to \u001b[1mruns/detect/predict2\u001b[0m\n",
            "\n",
            "image 1/1 /content/datasets/test/images/AUTO_COLLECTED_PICTURE_223_png.rf.1df2e4a8d5bdc0bb821801824ea7341e.jpg: 640x640 1 forb_weight_over_3.5t, 1 mand_pass_left_right, 16.6ms\n",
            "Speed: 1.5ms preprocess, 16.6ms inference, 1.5ms postprocess per image at shape (1, 3, 640, 640)\n",
            "Results saved to \u001b[1mruns/detect/predict2\u001b[0m\n",
            "\n",
            "image 1/1 /content/datasets/test/images/AUTO_COLLECTED_PICTURE_24_png.rf.0dea5fdf09f02451091765867a11b60d.jpg: 640x640 1 forb_stopping, 1 info_crosswalk, 16.7ms\n",
            "Speed: 1.9ms preprocess, 16.7ms inference, 1.5ms postprocess per image at shape (1, 3, 640, 640)\n",
            "Results saved to \u001b[1mruns/detect/predict2\u001b[0m\n",
            "\n",
            "image 1/1 /content/datasets/test/images/AUTO_COLLECTED_PICTURE_28_png.rf.75665a4138159e6e087c33e2b45fb983.jpg: 640x640 1 warn_cyclists, 16.6ms\n",
            "Speed: 1.5ms preprocess, 16.6ms inference, 1.4ms postprocess per image at shape (1, 3, 640, 640)\n",
            "Results saved to \u001b[1mruns/detect/predict2\u001b[0m\n",
            "\n",
            "image 1/1 /content/datasets/test/images/AUTO_COLLECTED_PICTURE_64_png.rf.c87e4f3c280b6118126fcf62754042d8.jpg: 640x640 (no detections), 16.5ms\n",
            "Speed: 1.4ms preprocess, 16.5ms inference, 0.6ms postprocess per image at shape (1, 3, 640, 640)\n",
            "Results saved to \u001b[1mruns/detect/predict2\u001b[0m\n",
            "\n",
            "image 1/1 /content/datasets/test/images/AUTO_COLLECTED_PICTURE_71_png.rf.51c0bf7e0fafae2cd4c6681c33564a43.jpg: 640x640 1 forb_overtake, 1 info_crosswalk, 1 info_one_way_traffic, 16.6ms\n",
            "Speed: 1.5ms preprocess, 16.6ms inference, 1.7ms postprocess per image at shape (1, 3, 640, 640)\n",
            "Results saved to \u001b[1mruns/detect/predict2\u001b[0m\n",
            "\n",
            "image 1/1 /content/datasets/test/images/AUTO_COLLECTED_PICTURE_8_png.rf.ad0a661cd1c6f37c5ca72ea855b51854.jpg: 640x640 (no detections), 16.5ms\n",
            "Speed: 1.5ms preprocess, 16.5ms inference, 0.7ms postprocess per image at shape (1, 3, 640, 640)\n",
            "Results saved to \u001b[1mruns/detect/predict2\u001b[0m\n",
            "\n",
            "image 1/1 /content/datasets/test/images/AUTO_COLLECTED_PICTURE_93_png.rf.315014a3771c530b22688fcd3f3c763b.jpg: 640x640 1 info_crosswalk, 1 mand_right, 1 prio_give_way, 1 prio_priority_road, 16.5ms\n",
            "Speed: 1.5ms preprocess, 16.5ms inference, 1.5ms postprocess per image at shape (1, 3, 640, 640)\n",
            "Results saved to \u001b[1mruns/detect/predict2\u001b[0m\n",
            "\n",
            "image 1/1 /content/datasets/test/images/AUTO_COLLECTED_PICTURE_98_png.rf.53723297aaa0cf686de7c50cdbcdbced.jpg: 640x640 1 prio_priority_road, 16.5ms\n",
            "Speed: 1.4ms preprocess, 16.5ms inference, 1.6ms postprocess per image at shape (1, 3, 640, 640)\n",
            "Results saved to \u001b[1mruns/detect/predict2\u001b[0m\n",
            "\n",
            "image 1/1 /content/datasets/test/images/PIC-00005-_png_jpg.rf.c7f7d8a29c124361ea3b6232a84587ad.jpg: 640x640 1 info_parking, 1 mand_roundabout, 16.6ms\n",
            "Speed: 1.5ms preprocess, 16.6ms inference, 1.4ms postprocess per image at shape (1, 3, 640, 640)\n",
            "Results saved to \u001b[1mruns/detect/predict2\u001b[0m\n",
            "\n",
            "image 1/1 /content/datasets/test/images/PIC-00018-_png_jpg.rf.8da2aa811a02bd56e5a902b6145eb55b.jpg: 640x640 1 forb_ahead, 1 info_bus_station, 16.6ms\n",
            "Speed: 1.5ms preprocess, 16.6ms inference, 1.4ms postprocess per image at shape (1, 3, 640, 640)\n",
            "Results saved to \u001b[1mruns/detect/predict2\u001b[0m\n",
            "\n",
            "image 1/1 /content/datasets/test/images/PIC-00032-_png_jpg.rf.409896adfd86682b2b865c17829ca984.jpg: 640x640 1 forb_ahead, 16.6ms\n",
            "Speed: 1.4ms preprocess, 16.6ms inference, 1.7ms postprocess per image at shape (1, 3, 640, 640)\n",
            "Results saved to \u001b[1mruns/detect/predict2\u001b[0m\n",
            "\n",
            "image 1/1 /content/datasets/test/images/PIC-00033-_png_jpg.rf.0f164de889c68a6bf8798d32c0d44f12.jpg: 640x640 1 forb_ahead, 16.6ms\n",
            "Speed: 1.4ms preprocess, 16.6ms inference, 1.5ms postprocess per image at shape (1, 3, 640, 640)\n",
            "Results saved to \u001b[1mruns/detect/predict2\u001b[0m\n",
            "\n",
            "image 1/1 /content/datasets/test/images/PIC-00055-_png_jpg.rf.82524e6cf9ab0749b58d046e628be20e.jpg: 640x640 1 forb_ahead, 16.5ms\n",
            "Speed: 1.4ms preprocess, 16.5ms inference, 1.4ms postprocess per image at shape (1, 3, 640, 640)\n",
            "Results saved to \u001b[1mruns/detect/predict2\u001b[0m\n",
            "\n",
            "image 1/1 /content/datasets/test/images/PIC-00059-_png_jpg.rf.ba58c7e72d84926d3989f5ee74373896.jpg: 640x640 1 info_crosswalk, 1 info_parking, 1 prio_priority_road, 17.7ms\n",
            "Speed: 1.5ms preprocess, 17.7ms inference, 1.4ms postprocess per image at shape (1, 3, 640, 640)\n",
            "Results saved to \u001b[1mruns/detect/predict2\u001b[0m\n",
            "\n",
            "image 1/1 /content/datasets/test/images/PIC-00065-_png_jpg.rf.086f0800bcfa5305e7c2b676413bc3f1.jpg: 640x640 1 forb_stopping, 1 info_one_way_traffic, 1 mand_right, 1 prio_stop, 16.6ms\n",
            "Speed: 1.5ms preprocess, 16.6ms inference, 1.5ms postprocess per image at shape (1, 3, 640, 640)\n",
            "Results saved to \u001b[1mruns/detect/predict2\u001b[0m\n",
            "\n",
            "image 1/1 /content/datasets/test/images/PIC-00071-_png_jpg.rf.8d38e52af68129a853b22b7b2322689f.jpg: 640x640 1 info_crosswalk, 1 mand_right, 1 prio_stop, 16.6ms\n",
            "Speed: 1.5ms preprocess, 16.6ms inference, 1.5ms postprocess per image at shape (1, 3, 640, 640)\n",
            "Results saved to \u001b[1mruns/detect/predict2\u001b[0m\n",
            "\n",
            "image 1/1 /content/datasets/test/images/PIC-00333-_png_jpg.rf.975de0f1d42a388258d52fa9927ecd8f.jpg: 640x640 1 prio_give_way, 16.6ms\n",
            "Speed: 1.6ms preprocess, 16.6ms inference, 1.4ms postprocess per image at shape (1, 3, 640, 640)\n",
            "Results saved to \u001b[1mruns/detect/predict2\u001b[0m\n",
            "\n",
            "image 1/1 /content/datasets/test/images/PIC-00335-_png_jpg.rf.12b37d5107190732b22c00210b4db9b5.jpg: 640x640 1 prio_stop, 16.6ms\n",
            "Speed: 1.6ms preprocess, 16.6ms inference, 1.5ms postprocess per image at shape (1, 3, 640, 640)\n",
            "Results saved to \u001b[1mruns/detect/predict2\u001b[0m\n",
            "\n",
            "image 1/1 /content/datasets/test/images/PIC-00341-_png_jpg.rf.5756c5620cdc390aac387e6298731cfb.jpg: 640x640 1 info_crosswalk, 1 prio_stop, 16.6ms\n",
            "Speed: 1.5ms preprocess, 16.6ms inference, 1.5ms postprocess per image at shape (1, 3, 640, 640)\n",
            "Results saved to \u001b[1mruns/detect/predict2\u001b[0m\n",
            "\n",
            "image 1/1 /content/datasets/test/images/PIC-00360-_png_jpg.rf.4f0fe3c13e7c09435a0964ee78f47ef4.jpg: 640x640 1 prio_give_way, 16.6ms\n",
            "Speed: 1.4ms preprocess, 16.6ms inference, 1.4ms postprocess per image at shape (1, 3, 640, 640)\n",
            "Results saved to \u001b[1mruns/detect/predict2\u001b[0m\n",
            "\n",
            "image 1/1 /content/datasets/test/images/SNAG-RADU-0000_png.rf.436ec53fbca65406e173452f1797913e.jpg: 640x640 1 mand_right, 1 prio_stop, 16.6ms\n",
            "Speed: 1.6ms preprocess, 16.6ms inference, 2.1ms postprocess per image at shape (1, 3, 640, 640)\n",
            "Results saved to \u001b[1mruns/detect/predict2\u001b[0m\n",
            "\n",
            "image 1/1 /content/datasets/test/images/SNAG-RADU-0002_png.rf.e879a49be762ea35cf9f4f6acfadaa48.jpg: 640x640 1 mand_right, 1 prio_stop, 16.7ms\n",
            "Speed: 1.9ms preprocess, 16.7ms inference, 1.6ms postprocess per image at shape (1, 3, 640, 640)\n",
            "Results saved to \u001b[1mruns/detect/predict2\u001b[0m\n",
            "\n",
            "image 1/1 /content/datasets/test/images/SNAG-RADU-0009_png.rf.d5ed4d1a4bd70dcf6bedc8a11384d376.jpg: 640x640 (no detections), 16.6ms\n",
            "Speed: 1.4ms preprocess, 16.6ms inference, 0.6ms postprocess per image at shape (1, 3, 640, 640)\n",
            "Results saved to \u001b[1mruns/detect/predict2\u001b[0m\n",
            "\n",
            "image 1/1 /content/datasets/test/images/SNAG-RADU-0014_png.rf.6453814b84edd5e72f90db8534776aaf.jpg: 640x640 1 prio_priority_road, 1 warn_crosswalk, 16.6ms\n",
            "Speed: 1.4ms preprocess, 16.6ms inference, 1.7ms postprocess per image at shape (1, 3, 640, 640)\n",
            "Results saved to \u001b[1mruns/detect/predict2\u001b[0m\n",
            "\n",
            "image 1/1 /content/datasets/test/images/SNAG-RADU-0020_png.rf.977c01e8168899d9a90e5d7140c5f04a.jpg: 640x640 1 forb_left, 1 forb_overtake, 16.6ms\n",
            "Speed: 1.7ms preprocess, 16.6ms inference, 1.5ms postprocess per image at shape (1, 3, 640, 640)\n",
            "Results saved to \u001b[1mruns/detect/predict2\u001b[0m\n",
            "\n",
            "image 1/1 /content/datasets/test/images/SNAG-RADU-0021_png.rf.e45559f0e901ddc4671fb1e9c90f225b.jpg: 640x640 1 forb_left, 1 forb_overtake, 16.6ms\n",
            "Speed: 1.5ms preprocess, 16.6ms inference, 1.5ms postprocess per image at shape (1, 3, 640, 640)\n",
            "Results saved to \u001b[1mruns/detect/predict2\u001b[0m\n",
            "\n",
            "image 1/1 /content/datasets/test/images/SNAG-RADU-0024_png.rf.0b05be0c48283be601f116fc40d34df4.jpg: 640x640 1 forb_ahead, 16.7ms\n",
            "Speed: 1.8ms preprocess, 16.7ms inference, 1.5ms postprocess per image at shape (1, 3, 640, 640)\n",
            "Results saved to \u001b[1mruns/detect/predict2\u001b[0m\n",
            "\n",
            "image 1/1 /content/datasets/test/images/SNAG-RADU-0029_png.rf.62804b94f002c6f1813630b445e787a3.jpg: 640x640 1 forb_speed_over_5, 2 mand_pass_left_rights, 16.6ms\n",
            "Speed: 1.6ms preprocess, 16.6ms inference, 1.5ms postprocess per image at shape (1, 3, 640, 640)\n",
            "Results saved to \u001b[1mruns/detect/predict2\u001b[0m\n",
            "\n",
            "image 1/1 /content/datasets/test/images/SNAG-RADU-0031_png.rf.2b1d06e702b5ea95c38bcf36c755f265.jpg: 640x640 1 forb_overtake, 16.6ms\n",
            "Speed: 1.6ms preprocess, 16.6ms inference, 1.4ms postprocess per image at shape (1, 3, 640, 640)\n",
            "Results saved to \u001b[1mruns/detect/predict2\u001b[0m\n",
            "\n",
            "image 1/1 /content/datasets/test/images/SNAG-RADU-0035_png.rf.39e357471df2db6482bdf65e06c0c20d.jpg: 640x640 1 forb_speed_over_70, 16.6ms\n",
            "Speed: 1.6ms preprocess, 16.6ms inference, 1.5ms postprocess per image at shape (1, 3, 640, 640)\n",
            "Results saved to \u001b[1mruns/detect/predict2\u001b[0m\n",
            "\n",
            "image 1/1 /content/datasets/test/images/SNAG-RADU-0041_png.rf.3114c55df72cb2b832ee7dd9de9181ea.jpg: 640x640 1 warn_roundabout, 16.7ms\n",
            "Speed: 1.8ms preprocess, 16.7ms inference, 1.6ms postprocess per image at shape (1, 3, 640, 640)\n",
            "Results saved to \u001b[1mruns/detect/predict2\u001b[0m\n",
            "\n",
            "image 1/1 /content/datasets/test/images/SNAG-RADU-0044_png.rf.0b377b068710f1e93e1f50713428bab2.jpg: 640x640 1 forb_overtake, 1 forb_speed_over_30, 16.6ms\n",
            "Speed: 1.5ms preprocess, 16.6ms inference, 1.4ms postprocess per image at shape (1, 3, 640, 640)\n",
            "Results saved to \u001b[1mruns/detect/predict2\u001b[0m\n",
            "\n",
            "image 1/1 /content/datasets/test/images/SNAG-RADU-0067_png.rf.fea0b5de9bb84ed1b1cd5f3cc7654305.jpg: 640x640 1 prio_give_way, 16.6ms\n",
            "Speed: 1.5ms preprocess, 16.6ms inference, 1.4ms postprocess per image at shape (1, 3, 640, 640)\n",
            "Results saved to \u001b[1mruns/detect/predict2\u001b[0m\n",
            "\n",
            "image 1/1 /content/datasets/test/images/SNAG-RADU-0068_png.rf.d15f4a5f9e15f3b66332c00c6e1c17d9.jpg: 640x640 1 prio_give_way, 16.6ms\n",
            "Speed: 1.5ms preprocess, 16.6ms inference, 2.7ms postprocess per image at shape (1, 3, 640, 640)\n",
            "Results saved to \u001b[1mruns/detect/predict2\u001b[0m\n",
            "\n",
            "image 1/1 /content/datasets/test/images/SNAG-RADU-0073_png.rf.0dfd7b6d5e189d2c84f27f9281b9b677.jpg: 640x640 1 forb_overtake, 1 forb_speed_over_70, 16.6ms\n",
            "Speed: 1.6ms preprocess, 16.6ms inference, 1.5ms postprocess per image at shape (1, 3, 640, 640)\n",
            "Results saved to \u001b[1mruns/detect/predict2\u001b[0m\n",
            "\n",
            "image 1/1 /content/datasets/test/images/SNAG-RADU-0076_png.rf.4537957b3fa1c7a22af128c39b21cec0.jpg: 640x640 1 prio_priority_road, 16.6ms\n",
            "Speed: 1.5ms preprocess, 16.6ms inference, 1.5ms postprocess per image at shape (1, 3, 640, 640)\n",
            "Results saved to \u001b[1mruns/detect/predict2\u001b[0m\n",
            "\n",
            "image 1/1 /content/datasets/test/images/SNAG-RADU-0077_png.rf.bcbbc1dbd4c07f166f5a76a7a86be28a.jpg: 640x640 1 prio_priority_road, 16.6ms\n",
            "Speed: 1.4ms preprocess, 16.6ms inference, 2.2ms postprocess per image at shape (1, 3, 640, 640)\n",
            "Results saved to \u001b[1mruns/detect/predict2\u001b[0m\n",
            "\n",
            "image 1/1 /content/datasets/test/images/SNAG-RADU-0079_png.rf.a98d02dbe14511c4af730ae359c48f1d.jpg: 640x640 1 mand_pass_left_right, 16.7ms\n",
            "Speed: 1.5ms preprocess, 16.7ms inference, 1.5ms postprocess per image at shape (1, 3, 640, 640)\n",
            "Results saved to \u001b[1mruns/detect/predict2\u001b[0m\n",
            "\n",
            "image 1/1 /content/datasets/test/images/SNAG-RADU-0080_png.rf.9f4026e0016c80fc584ad3d33da3b151.jpg: 640x640 1 forb_speed_over_70, 1 warn_construction, 16.6ms\n",
            "Speed: 1.5ms preprocess, 16.6ms inference, 1.5ms postprocess per image at shape (1, 3, 640, 640)\n",
            "Results saved to \u001b[1mruns/detect/predict2\u001b[0m\n",
            "\n",
            "image 1/1 /content/datasets/test/images/SNAG-RADU-0086_png.rf.49c48b6f1492b1a39b55d65f6911f652.jpg: 640x640 1 forb_speed_over_30, 1 mand_pass_left_right, 1 warn_roundabout, 16.6ms\n",
            "Speed: 1.5ms preprocess, 16.6ms inference, 1.4ms postprocess per image at shape (1, 3, 640, 640)\n",
            "Results saved to \u001b[1mruns/detect/predict2\u001b[0m\n",
            "\n",
            "image 1/1 /content/datasets/test/images/SNAG-RADU-0092_png.rf.22920b3e5bff33e87547b0625541f940.jpg: 640x640 1 mand_pass_left_right, 16.6ms\n",
            "Speed: 1.6ms preprocess, 16.6ms inference, 1.5ms postprocess per image at shape (1, 3, 640, 640)\n",
            "Results saved to \u001b[1mruns/detect/predict2\u001b[0m\n",
            "\n",
            "image 1/1 /content/datasets/test/images/SNAG-RADU-0094_png.rf.d52aaf428b828831b77a00f72a1312a3.jpg: 640x640 1 mand_pass_left_right, 1 mand_roundabout, 2 prio_give_ways, 16.6ms\n",
            "Speed: 1.6ms preprocess, 16.6ms inference, 1.5ms postprocess per image at shape (1, 3, 640, 640)\n",
            "Results saved to \u001b[1mruns/detect/predict2\u001b[0m\n",
            "\n",
            "image 1/1 /content/datasets/test/images/SNAG-RADU-0101_png.rf.e8bdb2f02700637bada11df3e821ae25.jpg: 640x640 1 forb_speed_over_70, 16.6ms\n",
            "Speed: 1.5ms preprocess, 16.6ms inference, 1.5ms postprocess per image at shape (1, 3, 640, 640)\n",
            "Results saved to \u001b[1mruns/detect/predict2\u001b[0m\n",
            "\n",
            "image 1/1 /content/datasets/test/images/SNAG-RADU-0104_png.rf.80c26ccfc9f8ece8e805813faaf6fe3d.jpg: 640x640 1 forb_speed_over_50, 16.7ms\n",
            "Speed: 1.5ms preprocess, 16.7ms inference, 1.5ms postprocess per image at shape (1, 3, 640, 640)\n",
            "Results saved to \u001b[1mruns/detect/predict2\u001b[0m\n",
            "\n",
            "image 1/1 /content/datasets/test/images/SNAG-RADU-0109_png.rf.da6d3149f2bc2a7534a491b5d22166ff.jpg: 640x640 1 forb_stopping, 16.6ms\n",
            "Speed: 1.5ms preprocess, 16.6ms inference, 1.5ms postprocess per image at shape (1, 3, 640, 640)\n",
            "Results saved to \u001b[1mruns/detect/predict2\u001b[0m\n",
            "\n",
            "image 1/1 /content/datasets/test/images/SNAG-RADU-0120_png.rf.410fccbebd14cf13cf02262a5ba3c897.jpg: 640x640 1 forb_speed_over_50, 16.5ms\n",
            "Speed: 1.4ms preprocess, 16.5ms inference, 1.4ms postprocess per image at shape (1, 3, 640, 640)\n",
            "Results saved to \u001b[1mruns/detect/predict2\u001b[0m\n",
            "\n",
            "image 1/1 /content/datasets/test/images/SNAG-RADU-0122_png.rf.c2cc0671173b87ff04e84c1623a90f1f.jpg: 640x640 1 forb_speed_over_90, 16.6ms\n",
            "Speed: 1.4ms preprocess, 16.6ms inference, 1.7ms postprocess per image at shape (1, 3, 640, 640)\n",
            "Results saved to \u001b[1mruns/detect/predict2\u001b[0m\n",
            "\n",
            "image 1/1 /content/datasets/test/images/SNAG-RADU-0124_png.rf.c063940b566e4c4e158a0fadf28b641c.jpg: 640x640 (no detections), 16.6ms\n",
            "Speed: 1.5ms preprocess, 16.6ms inference, 0.7ms postprocess per image at shape (1, 3, 640, 640)\n",
            "Results saved to \u001b[1mruns/detect/predict2\u001b[0m\n",
            "\n",
            "image 1/1 /content/datasets/test/images/SNAG-RADU-0135_png.rf.4b69a9f7181b2669ff81b7ae4086b91d.jpg: 640x640 1 info_crosswalk, 1 prio_give_way, 16.6ms\n",
            "Speed: 1.5ms preprocess, 16.6ms inference, 1.5ms postprocess per image at shape (1, 3, 640, 640)\n",
            "Results saved to \u001b[1mruns/detect/predict2\u001b[0m\n",
            "\n",
            "image 1/1 /content/datasets/test/images/SNAG-RADU-0153_png.rf.0e4183c3d555ebbacab3a5cff0107bf5.jpg: 640x640 1 forb_stopping, 16.6ms\n",
            "Speed: 1.5ms preprocess, 16.6ms inference, 1.5ms postprocess per image at shape (1, 3, 640, 640)\n",
            "Results saved to \u001b[1mruns/detect/predict2\u001b[0m\n",
            "\n",
            "image 1/1 /content/datasets/test/images/SNAG-RADU-0164_png.rf.e6037953dd3517c281527d17820edfab.jpg: 640x640 1 forb_right, 16.6ms\n",
            "Speed: 1.5ms preprocess, 16.6ms inference, 1.8ms postprocess per image at shape (1, 3, 640, 640)\n",
            "Results saved to \u001b[1mruns/detect/predict2\u001b[0m\n",
            "\n",
            "image 1/1 /content/datasets/test/images/SNAG-RADU-0175_png.rf.85fe5985edb866f4f039238ebf5ccc86.jpg: 640x640 1 info_crosswalk, 1 info_one_way_traffic, 16.6ms\n",
            "Speed: 1.6ms preprocess, 16.6ms inference, 1.4ms postprocess per image at shape (1, 3, 640, 640)\n",
            "Results saved to \u001b[1mruns/detect/predict2\u001b[0m\n",
            "\n",
            "image 1/1 /content/datasets/test/images/SNAG-RADU-0183_png.rf.db87cafd1cd74ca83960ffd4a08b37b9.jpg: 640x640 1 forb_right, 16.6ms\n",
            "Speed: 1.5ms preprocess, 16.6ms inference, 1.4ms postprocess per image at shape (1, 3, 640, 640)\n",
            "Results saved to \u001b[1mruns/detect/predict2\u001b[0m\n",
            "\n",
            "image 1/1 /content/datasets/test/images/SNAG-RADU-0195_png.rf.fa77bd6bee75ec9f9dd55aa20e06b26b.jpg: 640x640 1 forb_stopping, 16.7ms\n",
            "Speed: 1.5ms preprocess, 16.7ms inference, 2.3ms postprocess per image at shape (1, 3, 640, 640)\n",
            "Results saved to \u001b[1mruns/detect/predict2\u001b[0m\n",
            "\n",
            "image 1/1 /content/datasets/test/images/SNAG-RADU-0197_png.rf.234b4afe16796f2aada8128539ca4921.jpg: 640x640 1 forb_ahead, 1 forb_right, 1 forb_stopping, 16.6ms\n",
            "Speed: 1.6ms preprocess, 16.6ms inference, 1.5ms postprocess per image at shape (1, 3, 640, 640)\n",
            "Results saved to \u001b[1mruns/detect/predict2\u001b[0m\n",
            "\n",
            "image 1/1 /content/datasets/test/images/SNAG-RADU-0208_png.rf.a10b7f73d27c2c555c97c25ab073a42e.jpg: 640x640 1 prio_stop, 16.6ms\n",
            "Speed: 1.5ms preprocess, 16.6ms inference, 1.5ms postprocess per image at shape (1, 3, 640, 640)\n",
            "Results saved to \u001b[1mruns/detect/predict2\u001b[0m\n",
            "\n",
            "image 1/1 /content/datasets/test/images/SNAG-RADU-0209_png.rf.e13dfc5031ae1c9a8f418b48034e1b73.jpg: 640x640 (no detections), 17.5ms\n",
            "Speed: 1.6ms preprocess, 17.5ms inference, 0.7ms postprocess per image at shape (1, 3, 640, 640)\n",
            "Results saved to \u001b[1mruns/detect/predict2\u001b[0m\n",
            "\n",
            "image 1/1 /content/datasets/test/images/SNAG-RADU-0220_png.rf.d9fce2593439b5cd965b1d631d346172.jpg: 640x640 1 info_one_way_traffic, 16.6ms\n",
            "Speed: 1.5ms preprocess, 16.6ms inference, 1.5ms postprocess per image at shape (1, 3, 640, 640)\n",
            "Results saved to \u001b[1mruns/detect/predict2\u001b[0m\n",
            "\n",
            "image 1/1 /content/datasets/test/images/SNAG-RADU-0234_png.rf.e4e70f5edc244d851c3e324ec1563b0c.jpg: 640x640 1 forb_stopping, 1 prio_stop, 16.6ms\n",
            "Speed: 1.4ms preprocess, 16.6ms inference, 1.4ms postprocess per image at shape (1, 3, 640, 640)\n",
            "Results saved to \u001b[1mruns/detect/predict2\u001b[0m\n",
            "\n",
            "image 1/1 /content/datasets/test/images/SNAG-RADU-0248_png.rf.694a2eda64712526e4bf0fddacf980a4.jpg: 640x640 1 mand_roundabout, 1 prio_give_way, 16.6ms\n",
            "Speed: 1.5ms preprocess, 16.6ms inference, 1.7ms postprocess per image at shape (1, 3, 640, 640)\n",
            "Results saved to \u001b[1mruns/detect/predict2\u001b[0m\n",
            "\n",
            "image 1/1 /content/datasets/test/images/SNAG-RADU-0249_png.rf.a47c7ccd0518ffab1b99beb305997854.jpg: 640x640 1 info_crosswalk, 1 prio_stop, 16.7ms\n",
            "Speed: 1.5ms preprocess, 16.7ms inference, 2.2ms postprocess per image at shape (1, 3, 640, 640)\n",
            "Results saved to \u001b[1mruns/detect/predict2\u001b[0m\n",
            "\n",
            "image 1/1 /content/datasets/test/images/SNAG-RADU-0252_png.rf.0c715923f1c31b666bafce812dd292eb.jpg: 640x640 1 forb_speed_over_30, 1 warn_children, 1 warn_crosswalk, 1 warn_roundabout, 16.6ms\n",
            "Speed: 1.5ms preprocess, 16.6ms inference, 1.8ms postprocess per image at shape (1, 3, 640, 640)\n",
            "Results saved to \u001b[1mruns/detect/predict2\u001b[0m\n",
            "\n",
            "image 1/1 /content/datasets/test/images/SNAG-RADU-0253_png.rf.69a056a7d646f8780f86fd8002a846b7.jpg: 640x640 1 forb_speed_over_30, 1 warn_children, 1 warn_crosswalk, 16.6ms\n",
            "Speed: 1.6ms preprocess, 16.6ms inference, 1.5ms postprocess per image at shape (1, 3, 640, 640)\n",
            "Results saved to \u001b[1mruns/detect/predict2\u001b[0m\n",
            "\n",
            "image 1/1 /content/datasets/test/images/SNAG-RADU-0256_png.rf.78fba92805e6a3fe74598ad22aa4e6e0.jpg: 640x640 1 forb_speed_over_30, 16.6ms\n",
            "Speed: 1.6ms preprocess, 16.6ms inference, 2.1ms postprocess per image at shape (1, 3, 640, 640)\n",
            "Results saved to \u001b[1mruns/detect/predict2\u001b[0m\n",
            "\n",
            "image 1/1 /content/datasets/test/images/SNAG-RADU-0264_png.rf.f4e4c3a2d16112130cee2715562a5a19.jpg: 640x640 1 forb_speed_over_30, 1 info_parking, 1 warn_roundabout, 16.6ms\n",
            "Speed: 1.5ms preprocess, 16.6ms inference, 1.6ms postprocess per image at shape (1, 3, 640, 640)\n",
            "Results saved to \u001b[1mruns/detect/predict2\u001b[0m\n",
            "\n",
            "image 1/1 /content/datasets/test/images/SNAG-RADU-0265_png.rf.15d2f0fe6fcaf2a31cc3f83bb9b63f6b.jpg: 640x640 1 forb_speed_over_30, 1 warn_roundabout, 16.6ms\n",
            "Speed: 1.5ms preprocess, 16.6ms inference, 1.6ms postprocess per image at shape (1, 3, 640, 640)\n",
            "Results saved to \u001b[1mruns/detect/predict2\u001b[0m\n",
            "\n",
            "image 1/1 /content/datasets/test/images/SNAG-RADU-0276_png.rf.dfae9e240d4d09bb06c4571942f411d9.jpg: 640x640 1 forb_right, 1 forb_stopping, 1 warn_crosswalk, 1 warn_traffic_light, 17.1ms\n",
            "Speed: 1.6ms preprocess, 17.1ms inference, 1.5ms postprocess per image at shape (1, 3, 640, 640)\n",
            "Results saved to \u001b[1mruns/detect/predict2\u001b[0m\n",
            "\n",
            "image 1/1 /content/datasets/test/images/SNAG-RADU-0284_png.rf.cb599ff3efb8bf21cd505ccf5bce3ee2.jpg: 640x640 1 info_parking, 16.7ms\n",
            "Speed: 1.6ms preprocess, 16.7ms inference, 1.7ms postprocess per image at shape (1, 3, 640, 640)\n",
            "Results saved to \u001b[1mruns/detect/predict2\u001b[0m\n",
            "\n",
            "image 1/1 /content/datasets/test/images/SNAG-RADU-0296_png.rf.f2f8e7b167c8a69a7d4b9221952a7472.jpg: 640x640 (no detections), 16.6ms\n",
            "Speed: 1.5ms preprocess, 16.6ms inference, 0.7ms postprocess per image at shape (1, 3, 640, 640)\n",
            "Results saved to \u001b[1mruns/detect/predict2\u001b[0m\n",
            "\n",
            "image 1/1 /content/datasets/test/images/SNAG-RADU-0297_png.rf.0797be7fac6296a8a17cdd77862d0dc6.jpg: 640x640 (no detections), 16.6ms\n",
            "Speed: 1.5ms preprocess, 16.6ms inference, 0.7ms postprocess per image at shape (1, 3, 640, 640)\n",
            "Results saved to \u001b[1mruns/detect/predict2\u001b[0m\n",
            "\n",
            "image 1/1 /content/datasets/test/images/SNAG-RADU-0300_png.rf.2929401aaa62b79bbe735affa98a05d6.jpg: 640x640 1 mand_pass_right, 16.6ms\n",
            "Speed: 1.6ms preprocess, 16.6ms inference, 1.5ms postprocess per image at shape (1, 3, 640, 640)\n",
            "Results saved to \u001b[1mruns/detect/predict2\u001b[0m\n",
            "\n",
            "image 1/1 /content/datasets/test/images/SNAG-RADU-0302_png.rf.1d696add2b4dc99b2e4ab19a968f4b66.jpg: 640x640 1 mand_pass_right, 16.6ms\n",
            "Speed: 1.5ms preprocess, 16.6ms inference, 1.5ms postprocess per image at shape (1, 3, 640, 640)\n",
            "Results saved to \u001b[1mruns/detect/predict2\u001b[0m\n",
            "\n",
            "image 1/1 /content/datasets/test/images/SNAG-RADU-0310_png.rf.5cb3df12641b6a3351ed16d043da8a1e.jpg: 640x640 1 forb_speed_over_30, 16.8ms\n",
            "Speed: 1.8ms preprocess, 16.8ms inference, 1.6ms postprocess per image at shape (1, 3, 640, 640)\n",
            "Results saved to \u001b[1mruns/detect/predict2\u001b[0m\n",
            "\n",
            "image 1/1 /content/datasets/test/images/SNAG-RADU-0329_png.rf.2781ae85ed9c82d172058da3e4bdd5b5.jpg: 640x640 1 info_one_way_traffic, 16.7ms\n",
            "Speed: 1.7ms preprocess, 16.7ms inference, 1.7ms postprocess per image at shape (1, 3, 640, 640)\n",
            "Results saved to \u001b[1mruns/detect/predict2\u001b[0m\n",
            "\n",
            "image 1/1 /content/datasets/test/images/SNAG-RADU-0333_png.rf.280853c4f3f9c051a88841455ef15667.jpg: 640x640 1 mand_right, 16.6ms\n",
            "Speed: 1.6ms preprocess, 16.6ms inference, 1.4ms postprocess per image at shape (1, 3, 640, 640)\n",
            "Results saved to \u001b[1mruns/detect/predict2\u001b[0m\n",
            "\n",
            "image 1/1 /content/datasets/test/images/SNAG-RADU-0344_png.rf.7001cb68c34ae42527b75b056d716484.jpg: 640x640 1 info_crosswalk, 1 mand_pass_right, 16.6ms\n",
            "Speed: 1.5ms preprocess, 16.6ms inference, 1.4ms postprocess per image at shape (1, 3, 640, 640)\n",
            "Results saved to \u001b[1mruns/detect/predict2\u001b[0m\n",
            "\n",
            "image 1/1 /content/datasets/test/images/SNAG-RADU-0347_png.rf.aa370ce6ad4b86b0192b928d617eda70.jpg: 640x640 1 forb_stopping, 1 forb_weight_over_3.5t, 1 info_crosswalk, 1 warn_crosswalk, 16.6ms\n",
            "Speed: 1.5ms preprocess, 16.6ms inference, 1.4ms postprocess per image at shape (1, 3, 640, 640)\n",
            "Results saved to \u001b[1mruns/detect/predict2\u001b[0m\n",
            "\n",
            "image 1/1 /content/datasets/test/images/SNAG-RADU-0348_png.rf.3fee74de5ff295e1e77a73fc2b0cbeca.jpg: 640x640 1 prio_give_way, 16.6ms\n",
            "Speed: 1.5ms preprocess, 16.6ms inference, 1.6ms postprocess per image at shape (1, 3, 640, 640)\n",
            "Results saved to \u001b[1mruns/detect/predict2\u001b[0m\n",
            "\n",
            "image 1/1 /content/datasets/test/images/SNAG-RADU-0354_png.rf.cf9f027d226cc735dd644b1c480c3964.jpg: 640x640 1 warn_roundabout, 16.6ms\n",
            "Speed: 1.5ms preprocess, 16.6ms inference, 1.5ms postprocess per image at shape (1, 3, 640, 640)\n",
            "Results saved to \u001b[1mruns/detect/predict2\u001b[0m\n",
            "\n",
            "image 1/1 /content/datasets/test/images/SNAG-RADU-0355_png.rf.efc0bebe401210e1248aed65653bb8c5.jpg: 640x640 1 info_crosswalk, 1 mand_roundabout, 1 prio_give_way, 16.7ms\n",
            "Speed: 1.5ms preprocess, 16.7ms inference, 1.8ms postprocess per image at shape (1, 3, 640, 640)\n",
            "Results saved to \u001b[1mruns/detect/predict2\u001b[0m\n",
            "\n",
            "image 1/1 /content/datasets/test/images/SNAG-RADU-0356_png.rf.6416291596557465cf304f382bd37679.jpg: 640x640 1 info_crosswalk, 1 mand_roundabout, 1 prio_give_way, 16.6ms\n",
            "Speed: 1.5ms preprocess, 16.6ms inference, 1.6ms postprocess per image at shape (1, 3, 640, 640)\n",
            "Results saved to \u001b[1mruns/detect/predict2\u001b[0m\n",
            "\n",
            "image 1/1 /content/datasets/test/images/SNAG-RADU-0365_png.rf.2d3d68d3fec5ba842e97cf9d020f0904.jpg: 640x640 1 mand_pass_left_right, 16.7ms\n",
            "Speed: 1.5ms preprocess, 16.7ms inference, 1.6ms postprocess per image at shape (1, 3, 640, 640)\n",
            "Results saved to \u001b[1mruns/detect/predict2\u001b[0m\n",
            "\n",
            "image 1/1 /content/datasets/test/images/SNAG-RADU-0368_png.rf.84b1ec78582097c180fe9b9dff3f0388.jpg: 640x640 1 warn_crosswalk, 1 warn_traffic_light, 16.6ms\n",
            "Speed: 1.6ms preprocess, 16.6ms inference, 1.5ms postprocess per image at shape (1, 3, 640, 640)\n",
            "Results saved to \u001b[1mruns/detect/predict2\u001b[0m\n",
            "\n",
            "image 1/1 /content/datasets/test/images/SNAG-RADU-0371_png.rf.bd6490ed4551aec8c7b95c368e392d15.jpg: 640x640 1 forb_stopping, 1 info_one_way_traffic, 17.4ms\n",
            "Speed: 2.1ms preprocess, 17.4ms inference, 1.6ms postprocess per image at shape (1, 3, 640, 640)\n",
            "Results saved to \u001b[1mruns/detect/predict2\u001b[0m\n",
            "\n",
            "image 1/1 /content/datasets/test/images/SNAG-RADU-0374_png.rf.40875502e30b1a1ad58c9bfb0c726d07.jpg: 640x640 1 forb_stopping, 1 forb_weight_over_3.5t, 1 info_one_way_traffic, 16.6ms\n",
            "Speed: 1.5ms preprocess, 16.6ms inference, 1.7ms postprocess per image at shape (1, 3, 640, 640)\n",
            "Results saved to \u001b[1mruns/detect/predict2\u001b[0m\n",
            "\n",
            "image 1/1 /content/datasets/test/images/SNAG-RADU-0379_png.rf.6d33842a5f9aea6eff6bf82d8deb39c0.jpg: 640x640 1 forb_stopping, 16.6ms\n",
            "Speed: 1.5ms preprocess, 16.6ms inference, 1.5ms postprocess per image at shape (1, 3, 640, 640)\n",
            "Results saved to \u001b[1mruns/detect/predict2\u001b[0m\n",
            "\n",
            "image 1/1 /content/datasets/test/images/SNAG-RADU-0382_png.rf.107e47575286e0dfa9211899d3b455be.jpg: 640x640 1 warn_crosswalk, 16.6ms\n",
            "Speed: 1.7ms preprocess, 16.6ms inference, 1.6ms postprocess per image at shape (1, 3, 640, 640)\n",
            "Results saved to \u001b[1mruns/detect/predict2\u001b[0m\n",
            "\n",
            "image 1/1 /content/datasets/test/images/SNAG-RADU-0383_png.rf.f60f7a839c271593fd5dbdc817f7de6c.jpg: 640x640 1 forb_right, 16.6ms\n",
            "Speed: 1.4ms preprocess, 16.6ms inference, 1.4ms postprocess per image at shape (1, 3, 640, 640)\n",
            "Results saved to \u001b[1mruns/detect/predict2\u001b[0m\n",
            "\n",
            "image 1/1 /content/datasets/test/images/SNAG-RADU-0386_png.rf.005266cc617739b84606197c6878ed26.jpg: 640x640 2 warn_two_way_traffics, 16.6ms\n",
            "Speed: 1.5ms preprocess, 16.6ms inference, 1.5ms postprocess per image at shape (1, 3, 640, 640)\n",
            "Results saved to \u001b[1mruns/detect/predict2\u001b[0m\n",
            "\n",
            "image 1/1 /content/datasets/test/images/SNAG-RADU-0391_png.rf.7738ae7bd206c28f8814c6892a30a2f1.jpg: 640x640 1 info_parking, 16.6ms\n",
            "Speed: 1.6ms preprocess, 16.6ms inference, 1.6ms postprocess per image at shape (1, 3, 640, 640)\n",
            "Results saved to \u001b[1mruns/detect/predict2\u001b[0m\n",
            "\n",
            "image 1/1 /content/datasets/test/images/SNAG-RADU-0392_png.rf.beb16f3bdb1be4a4b5f8c1df67278b67.jpg: 640x640 1 warn_crosswalk, 16.6ms\n",
            "Speed: 1.5ms preprocess, 16.6ms inference, 1.4ms postprocess per image at shape (1, 3, 640, 640)\n",
            "Results saved to \u001b[1mruns/detect/predict2\u001b[0m\n",
            "\n",
            "image 1/1 /content/datasets/test/images/SNAG-RADU-0426_png.rf.6cbe16ba66b283bbcdb6fb5bc27cbd3a.jpg: 640x640 1 forb_right, 16.6ms\n",
            "Speed: 1.5ms preprocess, 16.6ms inference, 1.5ms postprocess per image at shape (1, 3, 640, 640)\n",
            "Results saved to \u001b[1mruns/detect/predict2\u001b[0m\n",
            "\n",
            "image 1/1 /content/datasets/test/images/SNAG-RADU-0442_png.rf.c2f568519b368900c6521ebd44c0ac1c.jpg: 640x640 2 info_crosswalks, 1 prio_stop, 16.6ms\n",
            "Speed: 1.5ms preprocess, 16.6ms inference, 2.8ms postprocess per image at shape (1, 3, 640, 640)\n",
            "Results saved to \u001b[1mruns/detect/predict2\u001b[0m\n",
            "\n",
            "image 1/1 /content/datasets/test/images/SNAG-RADU-0450_png.rf.f67c250b2dd976e24e334e0a8c151053.jpg: 640x640 1 mand_roundabout, 1 prio_give_way, 16.6ms\n",
            "Speed: 1.4ms preprocess, 16.6ms inference, 1.4ms postprocess per image at shape (1, 3, 640, 640)\n",
            "Results saved to \u001b[1mruns/detect/predict2\u001b[0m\n",
            "\n",
            "image 1/1 /content/datasets/test/images/SNAG-RADU-0451_png.rf.bebe741539eb1dc946f40834d1a3ccbe.jpg: 640x640 1 mand_bike_lane, 1 mand_roundabout, 1 prio_give_way, 16.7ms\n",
            "Speed: 1.7ms preprocess, 16.7ms inference, 1.7ms postprocess per image at shape (1, 3, 640, 640)\n",
            "Results saved to \u001b[1mruns/detect/predict2\u001b[0m\n",
            "\n",
            "image 1/1 /content/datasets/test/images/SNAG-RADU-0473_png.rf.57775bbcb415a5dc976b299c09a0bd97.jpg: 640x640 1 warn_poor_road_surface, 16.7ms\n",
            "Speed: 1.7ms preprocess, 16.7ms inference, 2.4ms postprocess per image at shape (1, 3, 640, 640)\n",
            "Results saved to \u001b[1mruns/detect/predict2\u001b[0m\n",
            "\n",
            "image 1/1 /content/datasets/test/images/SNAG-RADU-0478_png.rf.e65716f90eff953182e30e3b80dfb414.jpg: 640x640 1 prio_give_way, 16.6ms\n",
            "Speed: 1.5ms preprocess, 16.6ms inference, 1.5ms postprocess per image at shape (1, 3, 640, 640)\n",
            "Results saved to \u001b[1mruns/detect/predict2\u001b[0m\n",
            "\n",
            "image 1/1 /content/datasets/test/images/SNAG-RADU-0484_png.rf.cfcf48594873fd156be518684efe3503.jpg: 640x640 1 info_one_way_traffic, 16.6ms\n",
            "Speed: 1.5ms preprocess, 16.6ms inference, 1.6ms postprocess per image at shape (1, 3, 640, 640)\n",
            "Results saved to \u001b[1mruns/detect/predict2\u001b[0m\n",
            "\n",
            "image 1/1 /content/datasets/test/images/SNAG-RADU-0492_png.rf.a81f4aa35fa3364d50a42f2dd5fd3a26.jpg: 640x640 1 forb_weight_over_3.5t, 1 info_one_way_traffic, 1 warn_crosswalk, 16.6ms\n",
            "Speed: 1.5ms preprocess, 16.6ms inference, 1.4ms postprocess per image at shape (1, 3, 640, 640)\n",
            "Results saved to \u001b[1mruns/detect/predict2\u001b[0m\n",
            "\n",
            "image 1/1 /content/datasets/test/images/SNAG2-RADU-0000_png.rf.d9fd1ac992b9fe8d7d28af465177055b.jpg: 640x640 (no detections), 16.6ms\n",
            "Speed: 1.7ms preprocess, 16.6ms inference, 1.0ms postprocess per image at shape (1, 3, 640, 640)\n",
            "Results saved to \u001b[1mruns/detect/predict2\u001b[0m\n",
            "\n",
            "image 1/1 /content/datasets/test/images/SNAG2-RADU-0006_png.rf.dabe335b823173e5afe1596e1a04ec89.jpg: 640x640 1 mand_pass_right, 17.1ms\n",
            "Speed: 2.0ms preprocess, 17.1ms inference, 2.1ms postprocess per image at shape (1, 3, 640, 640)\n",
            "Results saved to \u001b[1mruns/detect/predict2\u001b[0m\n",
            "\n",
            "image 1/1 /content/datasets/test/images/SNAG2-RADU-0009_png.rf.0ffc1e3db8740f979bbf09b5dc6a797d.jpg: 640x640 1 mand_pass_left_right, 18.7ms\n",
            "Speed: 2.1ms preprocess, 18.7ms inference, 2.2ms postprocess per image at shape (1, 3, 640, 640)\n",
            "Results saved to \u001b[1mruns/detect/predict2\u001b[0m\n",
            "\n",
            "image 1/1 /content/datasets/test/images/SNAG2-RADU-0015_png.rf.aac2df6e0c67559c8f63e74e8c1774a5.jpg: 640x640 1 forb_overtake, 16.7ms\n",
            "Speed: 1.9ms preprocess, 16.7ms inference, 2.2ms postprocess per image at shape (1, 3, 640, 640)\n",
            "Results saved to \u001b[1mruns/detect/predict2\u001b[0m\n",
            "\n",
            "image 1/1 /content/datasets/test/images/SNAG2-RADU-0023_png.rf.c69c7e8e09cf2cb8e4af185ff670c742.jpg: 640x640 1 mand_pass_left_right, 17.7ms\n",
            "Speed: 1.8ms preprocess, 17.7ms inference, 2.1ms postprocess per image at shape (1, 3, 640, 640)\n",
            "Results saved to \u001b[1mruns/detect/predict2\u001b[0m\n",
            "\n",
            "image 1/1 /content/datasets/test/images/SNAG2-RADU-0031_png.rf.9021785f6332959376be0c1fe75b7c7d.jpg: 640x640 1 forb_speed_over_80, 2 forb_speed_over_90s, 19.7ms\n",
            "Speed: 2.0ms preprocess, 19.7ms inference, 2.3ms postprocess per image at shape (1, 3, 640, 640)\n",
            "Results saved to \u001b[1mruns/detect/predict2\u001b[0m\n",
            "\n",
            "image 1/1 /content/datasets/test/images/SNAG2-RADU-0035_png.rf.12fa64e68faa62bfd69cf007b26f4d8a.jpg: 640x640 1 forb_speed_over_100, 1 forb_speed_over_50, 17.7ms\n",
            "Speed: 1.9ms preprocess, 17.7ms inference, 1.9ms postprocess per image at shape (1, 3, 640, 640)\n",
            "Results saved to \u001b[1mruns/detect/predict2\u001b[0m\n",
            "\n",
            "image 1/1 /content/datasets/test/images/SNAG2-RADU-0036_png.rf.6aec6264c65a76f8b2b197703ecd1cb9.jpg: 640x640 1 forb_speed_over_70, 18.8ms\n",
            "Speed: 1.8ms preprocess, 18.8ms inference, 1.5ms postprocess per image at shape (1, 3, 640, 640)\n",
            "Results saved to \u001b[1mruns/detect/predict2\u001b[0m\n",
            "\n",
            "image 1/1 /content/datasets/test/images/SNAG2-RADU-0050_png.rf.f5786ff8a9311f3ec12394ea11defba1.jpg: 640x640 1 mand_pass_right, 17.1ms\n",
            "Speed: 3.3ms preprocess, 17.1ms inference, 1.9ms postprocess per image at shape (1, 3, 640, 640)\n",
            "Results saved to \u001b[1mruns/detect/predict2\u001b[0m\n",
            "\n",
            "image 1/1 /content/datasets/test/images/SNAG2-RADU-0060_png.rf.db1c399c5b44f6448a2fc0b7c7e4db84.jpg: 640x640 1 warn_wild_animals, 16.6ms\n",
            "Speed: 1.6ms preprocess, 16.6ms inference, 2.1ms postprocess per image at shape (1, 3, 640, 640)\n",
            "Results saved to \u001b[1mruns/detect/predict2\u001b[0m\n",
            "\n",
            "image 1/1 /content/datasets/test/images/SNAG2-RADU-0064_png.rf.162e596cfe69983974ffd2fd4a755b60.jpg: 640x640 1 forb_speed_over_100, 1 forb_speed_over_70, 19.4ms\n",
            "Speed: 2.2ms preprocess, 19.4ms inference, 4.8ms postprocess per image at shape (1, 3, 640, 640)\n",
            "Results saved to \u001b[1mruns/detect/predict2\u001b[0m\n",
            "\n",
            "image 1/1 /content/datasets/test/images/SNAG2-RADU-0066_png.rf.e2aabd195d756b0a5ce9641ba58442fb.jpg: 640x640 1 forb_speed_over_100, 16.9ms\n",
            "Speed: 1.8ms preprocess, 16.9ms inference, 1.9ms postprocess per image at shape (1, 3, 640, 640)\n",
            "Results saved to \u001b[1mruns/detect/predict2\u001b[0m\n",
            "\n",
            "image 1/1 /content/datasets/test/images/SNAG2-RADU-0071_png.rf.f485b616db0217986ead0a37058e7e6c.jpg: 640x640 1 mand_pass_left, 3 mand_pass_rights, 16.6ms\n",
            "Speed: 1.7ms preprocess, 16.6ms inference, 1.9ms postprocess per image at shape (1, 3, 640, 640)\n",
            "Results saved to \u001b[1mruns/detect/predict2\u001b[0m\n",
            "\n",
            "image 1/1 /content/datasets/test/images/SNAG2-RADU-0077_png.rf.7d496b4ff08afa1d7cb28fa6b1a077a6.jpg: 640x640 1 forb_overtake, 1 warn_roundabout, 16.7ms\n",
            "Speed: 1.7ms preprocess, 16.7ms inference, 1.9ms postprocess per image at shape (1, 3, 640, 640)\n",
            "Results saved to \u001b[1mruns/detect/predict2\u001b[0m\n",
            "\n",
            "image 1/1 /content/datasets/test/images/SNAG2-RADU-0087_png.rf.b8369851b905d7624a13d6666bbdee2c.jpg: 640x640 1 forb_overtake, 1 forb_speed_over_50, 16.8ms\n",
            "Speed: 1.8ms preprocess, 16.8ms inference, 1.9ms postprocess per image at shape (1, 3, 640, 640)\n",
            "Results saved to \u001b[1mruns/detect/predict2\u001b[0m\n",
            "\n",
            "image 1/1 /content/datasets/test/images/SNAG2-RADU-0089_png.rf.0cfc187e83b9c7f726ec1dab004cdc88.jpg: 640x640 1 forb_speed_over_30, 1 forb_speed_over_50, 1 mand_pass_right, 1 mand_roundabout, 1 prio_give_way, 1 warn_roundabout, 16.7ms\n",
            "Speed: 1.8ms preprocess, 16.7ms inference, 2.0ms postprocess per image at shape (1, 3, 640, 640)\n",
            "Results saved to \u001b[1mruns/detect/predict2\u001b[0m\n",
            "\n",
            "image 1/1 /content/datasets/test/images/SNAG2-RADU-0091_png.rf.010e9778b50a0c73601ba26530cbcd47.jpg: 640x640 1 forb_speed_over_80, 19.5ms\n",
            "Speed: 2.1ms preprocess, 19.5ms inference, 2.2ms postprocess per image at shape (1, 3, 640, 640)\n",
            "Results saved to \u001b[1mruns/detect/predict2\u001b[0m\n",
            "\n",
            "image 1/1 /content/datasets/test/images/SNAG2-RADU-0097_png.rf.6364d36ead81c9a34f3a419628f9970b.jpg: 640x640 1 mand_pass_left_right, 33.7ms\n",
            "Speed: 5.7ms preprocess, 33.7ms inference, 1.9ms postprocess per image at shape (1, 3, 640, 640)\n",
            "Results saved to \u001b[1mruns/detect/predict2\u001b[0m\n",
            "\n",
            "image 1/1 /content/datasets/test/images/SNAG2-RADU-0103_png.rf.71dd4d0e7e09575cb2d2083aed9bc29a.jpg: 640x640 1 forb_overtake, 32.3ms\n",
            "Speed: 3.8ms preprocess, 32.3ms inference, 2.1ms postprocess per image at shape (1, 3, 640, 640)\n",
            "Results saved to \u001b[1mruns/detect/predict2\u001b[0m\n",
            "\n",
            "image 1/1 /content/datasets/test/images/SNAG2-RADU-0122_png.rf.1fc3b19e99b576ddd89344bdf5a34f22.jpg: 640x640 1 mand_pass_left, 1 mand_pass_left_right, 16.7ms\n",
            "Speed: 1.8ms preprocess, 16.7ms inference, 2.1ms postprocess per image at shape (1, 3, 640, 640)\n",
            "Results saved to \u001b[1mruns/detect/predict2\u001b[0m\n",
            "\n",
            "image 1/1 /content/datasets/test/images/SNAG2-RADU-0128_png.rf.0be183e07f52577245e82bff9a317c2e.jpg: 640x640 1 forb_speed_over_50, 16.6ms\n",
            "Speed: 1.6ms preprocess, 16.6ms inference, 1.9ms postprocess per image at shape (1, 3, 640, 640)\n",
            "Results saved to \u001b[1mruns/detect/predict2\u001b[0m\n",
            "\n",
            "image 1/1 /content/datasets/test/images/SNAG2-RADU-0160_png.rf.8f1b374ef7e1cf9c2dd85fb45206f73b.jpg: 640x640 1 forb_speed_over_30, 1 mand_pass_left, 1 mand_pass_right, 16.7ms\n",
            "Speed: 1.7ms preprocess, 16.7ms inference, 1.8ms postprocess per image at shape (1, 3, 640, 640)\n",
            "Results saved to \u001b[1mruns/detect/predict2\u001b[0m\n",
            "\n",
            "image 1/1 /content/datasets/test/images/SNAG2-RADU-0165_png.rf.9dae1b4c06df40e814389968cee13cb4.jpg: 640x640 1 forb_overtake, 1 forb_speed_over_50, 16.6ms\n",
            "Speed: 1.7ms preprocess, 16.6ms inference, 1.8ms postprocess per image at shape (1, 3, 640, 640)\n",
            "Results saved to \u001b[1mruns/detect/predict2\u001b[0m\n",
            "\n",
            "image 1/1 /content/datasets/test/images/SNAG2-RADU-0167_png.rf.43b83ca89921b958b3f8a1d829a84da5.jpg: 640x640 1 forb_left, 1 forb_speed_over_70, 16.6ms\n",
            "Speed: 1.6ms preprocess, 16.6ms inference, 1.8ms postprocess per image at shape (1, 3, 640, 640)\n",
            "Results saved to \u001b[1mruns/detect/predict2\u001b[0m\n",
            "\n",
            "image 1/1 /content/datasets/test/images/SNAG2-RADU-0171_png.rf.74d43c149c12bc8255996cb14ca875ed.jpg: 640x640 1 forb_speed_over_80, 16.7ms\n",
            "Speed: 1.7ms preprocess, 16.7ms inference, 1.8ms postprocess per image at shape (1, 3, 640, 640)\n",
            "Results saved to \u001b[1mruns/detect/predict2\u001b[0m\n",
            "\n",
            "image 1/1 /content/datasets/test/images/SNAG2-RADU-0184_png.rf.5d8d515c5d2241cb110946ac3618160c.jpg: 640x640 (no detections), 16.6ms\n",
            "Speed: 1.7ms preprocess, 16.6ms inference, 1.0ms postprocess per image at shape (1, 3, 640, 640)\n",
            "Results saved to \u001b[1mruns/detect/predict2\u001b[0m\n",
            "\n",
            "image 1/1 /content/datasets/test/images/SNAG2-RADU-0188_png.rf.5bf4606b812eac86f9d7c0923fccbf82.jpg: 640x640 1 mand_pass_left_right, 16.7ms\n",
            "Speed: 2.1ms preprocess, 16.7ms inference, 1.9ms postprocess per image at shape (1, 3, 640, 640)\n",
            "Results saved to \u001b[1mruns/detect/predict2\u001b[0m\n",
            "\n",
            "image 1/1 /content/datasets/test/images/SNAG2-RADU-0189_png.rf.cf4e143619ae6e22d35f69ccfecc1f2a.jpg: 640x640 1 forb_speed_over_30, 1 mand_pass_left_right, 1 mand_pass_right, 17.0ms\n",
            "Speed: 1.9ms preprocess, 17.0ms inference, 2.1ms postprocess per image at shape (1, 3, 640, 640)\n",
            "Results saved to \u001b[1mruns/detect/predict2\u001b[0m\n",
            "\n",
            "image 1/1 /content/datasets/test/images/SNAG2-RADU-0194_png.rf.2f358f69f047431617740c29809d4aaa.jpg: 640x640 1 forb_speed_over_50, 16.7ms\n",
            "Speed: 1.9ms preprocess, 16.7ms inference, 1.8ms postprocess per image at shape (1, 3, 640, 640)\n",
            "Results saved to \u001b[1mruns/detect/predict2\u001b[0m\n",
            "\n",
            "image 1/1 /content/datasets/test/images/SNAG2-RADU-0195_png.rf.24df451ab8d2b1573dc1f99d262c1aeb.jpg: 640x640 1 forb_speed_over_70, 1 forb_speed_over_90, 17.9ms\n",
            "Speed: 1.9ms preprocess, 17.9ms inference, 2.1ms postprocess per image at shape (1, 3, 640, 640)\n",
            "Results saved to \u001b[1mruns/detect/predict2\u001b[0m\n",
            "\n",
            "image 1/1 /content/datasets/test/images/SNAG2-RADU-0200_png.rf.ebb090e6f836d695d69cd468bbfb4419.jpg: 640x640 1 forb_speed_over_70, 16.8ms\n",
            "Speed: 2.0ms preprocess, 16.8ms inference, 1.8ms postprocess per image at shape (1, 3, 640, 640)\n",
            "Results saved to \u001b[1mruns/detect/predict2\u001b[0m\n",
            "\n",
            "image 1/1 /content/datasets/test/images/SNAG2-RADU-0215_png.rf.387d8ac879bcfe1a439ea2756acc37dd.jpg: 640x640 1 forb_speed_over_50, 24.9ms\n",
            "Speed: 2.0ms preprocess, 24.9ms inference, 2.0ms postprocess per image at shape (1, 3, 640, 640)\n",
            "Results saved to \u001b[1mruns/detect/predict2\u001b[0m\n",
            "\n",
            "image 1/1 /content/datasets/test/images/SNAG2-RADU-0221_png.rf.f7342c71c8b41207c00d5e6abb870469.jpg: 640x640 2 forb_speed_over_50s, 19.4ms\n",
            "Speed: 5.5ms preprocess, 19.4ms inference, 2.6ms postprocess per image at shape (1, 3, 640, 640)\n",
            "Results saved to \u001b[1mruns/detect/predict2\u001b[0m\n",
            "\n",
            "image 1/1 /content/datasets/test/images/SNAG2-RADU-0243_png.rf.b76bc17dacd2ee774e89068a461549fb.jpg: 640x640 1 mand_straight, 19.4ms\n",
            "Speed: 2.0ms preprocess, 19.4ms inference, 3.1ms postprocess per image at shape (1, 3, 640, 640)\n",
            "Results saved to \u001b[1mruns/detect/predict2\u001b[0m\n",
            "\n",
            "image 1/1 /content/datasets/test/images/SNAG2-RADU-0245_png.rf.c590b50c4ac35b7c177ad24ce40afdca.jpg: 640x640 1 mand_pass_right, 16.7ms\n",
            "Speed: 1.7ms preprocess, 16.7ms inference, 2.4ms postprocess per image at shape (1, 3, 640, 640)\n",
            "Results saved to \u001b[1mruns/detect/predict2\u001b[0m\n",
            "\n",
            "image 1/1 /content/datasets/test/images/SNAG2-RADU-0252_png.rf.a87d7e1263e3b2f0507261352cdf501c.jpg: 640x640 1 prio_give_way, 16.7ms\n",
            "Speed: 5.0ms preprocess, 16.7ms inference, 2.2ms postprocess per image at shape (1, 3, 640, 640)\n",
            "Results saved to \u001b[1mruns/detect/predict2\u001b[0m\n",
            "\n",
            "image 1/1 /content/datasets/test/images/SNAG2-RADU-0269_png.rf.d065de58a737f99e5324b41c25a6745b.jpg: 640x640 1 forb_speed_over_30, 1 warn_speed_bumper, 16.8ms\n",
            "Speed: 2.0ms preprocess, 16.8ms inference, 2.6ms postprocess per image at shape (1, 3, 640, 640)\n",
            "Results saved to \u001b[1mruns/detect/predict2\u001b[0m\n",
            "\n",
            "image 1/1 /content/datasets/test/images/SNAG2-RADU-0272_png.rf.1227e1f6bfa78b10335fad411ce43583.jpg: 640x640 1 warn_speed_bumper, 24.6ms\n",
            "Speed: 2.0ms preprocess, 24.6ms inference, 2.2ms postprocess per image at shape (1, 3, 640, 640)\n",
            "Results saved to \u001b[1mruns/detect/predict2\u001b[0m\n",
            "\n",
            "image 1/1 /content/datasets/test/images/SNAG2-RADU-0273_png.rf.cb9b93f1534f5b4fe8cbc419b1cdbdf8.jpg: 640x640 1 warn_traffic_light, 17.3ms\n",
            "Speed: 4.3ms preprocess, 17.3ms inference, 2.4ms postprocess per image at shape (1, 3, 640, 640)\n",
            "Results saved to \u001b[1mruns/detect/predict2\u001b[0m\n",
            "\n",
            "image 1/1 /content/datasets/test/images/SNAG2-RADU-0280_png.rf.24ddd01c2ae95e299cb512b9b894cb19.jpg: 640x640 (no detections), 16.8ms\n",
            "Speed: 1.9ms preprocess, 16.8ms inference, 1.0ms postprocess per image at shape (1, 3, 640, 640)\n",
            "Results saved to \u001b[1mruns/detect/predict2\u001b[0m\n",
            "\n",
            "image 1/1 /content/datasets/test/images/SNAG2-RADU-0284_png.rf.7a6c78a46a08bc68fe60165eb5dd5b39.jpg: 640x640 1 forb_ahead, 16.8ms\n",
            "Speed: 4.5ms preprocess, 16.8ms inference, 4.1ms postprocess per image at shape (1, 3, 640, 640)\n",
            "Results saved to \u001b[1mruns/detect/predict2\u001b[0m\n",
            "\n",
            "image 1/1 /content/datasets/test/images/SNAG2-RADU-0286_png.rf.b7c36351c3f858c69117bccb63a469e5.jpg: 640x640 2 info_parkings, 18.8ms\n",
            "Speed: 5.8ms preprocess, 18.8ms inference, 2.3ms postprocess per image at shape (1, 3, 640, 640)\n",
            "Results saved to \u001b[1mruns/detect/predict2\u001b[0m\n",
            "\n",
            "image 1/1 /content/datasets/test/images/SNAG2-RADU-0292_png.rf.74a28a636fc62b9cb61eedf849ad3efe.jpg: 640x640 1 forb_speed_over_30, 16.6ms\n",
            "Speed: 1.5ms preprocess, 16.6ms inference, 1.5ms postprocess per image at shape (1, 3, 640, 640)\n",
            "Results saved to \u001b[1mruns/detect/predict2\u001b[0m\n",
            "\n",
            "image 1/1 /content/datasets/test/images/SNAG2-RADU-0306_png.rf.805586f78c0ec74016ea8d60ccfe30ca.jpg: 640x640 1 info_crosswalk, 1 info_one_way_traffic, 16.6ms\n",
            "Speed: 1.5ms preprocess, 16.6ms inference, 1.4ms postprocess per image at shape (1, 3, 640, 640)\n",
            "Results saved to \u001b[1mruns/detect/predict2\u001b[0m\n",
            "\n",
            "image 1/1 /content/datasets/test/images/SNAG2-RADU-0319_png.rf.363c038d894a4d021bbeae81fc33bacc.jpg: 640x640 1 warn_crosswalk, 1 warn_traffic_light, 16.6ms\n",
            "Speed: 1.8ms preprocess, 16.6ms inference, 1.6ms postprocess per image at shape (1, 3, 640, 640)\n",
            "Results saved to \u001b[1mruns/detect/predict2\u001b[0m\n",
            "\n",
            "image 1/1 /content/datasets/test/images/SNAG2-RADU-0326_png.rf.fbed71806c05ffb112c1c835a77b2ce5.jpg: 640x640 1 forb_ahead, 16.6ms\n",
            "Speed: 1.6ms preprocess, 16.6ms inference, 1.6ms postprocess per image at shape (1, 3, 640, 640)\n",
            "Results saved to \u001b[1mruns/detect/predict2\u001b[0m\n",
            "\n",
            "image 1/1 /content/datasets/test/images/SNAG2-RADU-0331_png.rf.6ae1c2bc0ba90d2844aa0c80cec81f0e.jpg: 640x640 1 mand_straight_right, 16.8ms\n",
            "Speed: 1.6ms preprocess, 16.8ms inference, 2.2ms postprocess per image at shape (1, 3, 640, 640)\n",
            "Results saved to \u001b[1mruns/detect/predict2\u001b[0m\n",
            "\n",
            "image 1/1 /content/datasets/test/images/SNAG2-RADU-0333_png.rf.dbbafcdfc084075d0f3f7d83cc8f2c63.jpg: 640x640 1 warn_crosswalk, 1 warn_traffic_light, 16.7ms\n",
            "Speed: 1.7ms preprocess, 16.7ms inference, 2.1ms postprocess per image at shape (1, 3, 640, 640)\n",
            "Results saved to \u001b[1mruns/detect/predict2\u001b[0m\n",
            "\n",
            "image 1/1 /content/datasets/test/images/SNAG2-RADU-0340_png.rf.12e5ced4c99951ff6d41e58bd274ed2f.jpg: 640x640 1 info_crosswalk, 1 info_one_way_traffic, 16.6ms\n",
            "Speed: 1.6ms preprocess, 16.6ms inference, 1.7ms postprocess per image at shape (1, 3, 640, 640)\n",
            "Results saved to \u001b[1mruns/detect/predict2\u001b[0m\n",
            "\n",
            "image 1/1 /content/datasets/test/images/SNAG2-RADU-0346_png.rf.f0fd8135a73b09ddfcca57f920cbf06d.jpg: 640x640 1 mand_straight_right, 16.6ms\n",
            "Speed: 1.6ms preprocess, 16.6ms inference, 1.5ms postprocess per image at shape (1, 3, 640, 640)\n",
            "Results saved to \u001b[1mruns/detect/predict2\u001b[0m\n",
            "\n",
            "image 1/1 /content/datasets/test/images/SNAG2-RADU-0347_png.rf.6c75abb98b8d06f7cd9bec4aacc86b36.jpg: 640x640 1 forb_speed_over_30, 1 warn_speed_bumper, 16.6ms\n",
            "Speed: 1.6ms preprocess, 16.6ms inference, 1.5ms postprocess per image at shape (1, 3, 640, 640)\n",
            "Results saved to \u001b[1mruns/detect/predict2\u001b[0m\n",
            "\n",
            "image 1/1 /content/datasets/test/images/SNAG2-RADU-0357_png.rf.9b3c19c52edaed914b05ebbb705467cf.jpg: 640x640 1 info_crosswalk, 1 info_one_way_traffic, 16.6ms\n",
            "Speed: 1.5ms preprocess, 16.6ms inference, 1.5ms postprocess per image at shape (1, 3, 640, 640)\n",
            "Results saved to \u001b[1mruns/detect/predict2\u001b[0m\n",
            "\n",
            "image 1/1 /content/datasets/test/images/SNAG2-RADU-0358_png.rf.30f3c1698ab673ca91e060b4f08d2963.jpg: 640x640 1 forb_left, 1 info_crosswalk, 1 prio_stop, 16.6ms\n",
            "Speed: 1.6ms preprocess, 16.6ms inference, 1.5ms postprocess per image at shape (1, 3, 640, 640)\n",
            "Results saved to \u001b[1mruns/detect/predict2\u001b[0m\n",
            "\n",
            "image 1/1 /content/datasets/test/images/SNAG3-RADU-0017_png.rf.ce1f4dc889f71428880743e00cf768af.jpg: 640x640 1 forb_weight_over_3.5t, 1 info_one_way_traffic, 16.7ms\n",
            "Speed: 1.8ms preprocess, 16.7ms inference, 1.5ms postprocess per image at shape (1, 3, 640, 640)\n",
            "Results saved to \u001b[1mruns/detect/predict2\u001b[0m\n",
            "\n",
            "image 1/1 /content/datasets/test/images/SNAG3-RADU-0026_png.rf.d380a518ef50128fe1ecd7520d359fe1.jpg: 640x640 1 mand_straight_right, 1 prio_stop, 1 warn_tram, 16.6ms\n",
            "Speed: 1.7ms preprocess, 16.6ms inference, 1.5ms postprocess per image at shape (1, 3, 640, 640)\n",
            "Results saved to \u001b[1mruns/detect/predict2\u001b[0m\n",
            "\n",
            "image 1/1 /content/datasets/test/images/SNAG3-RADU-0032_png.rf.58d756d778e9ccdbe2eb6c5b48b0ec2e.jpg: 640x640 (no detections), 16.6ms\n",
            "Speed: 1.5ms preprocess, 16.6ms inference, 0.7ms postprocess per image at shape (1, 3, 640, 640)\n",
            "Results saved to \u001b[1mruns/detect/predict2\u001b[0m\n",
            "\n",
            "image 1/1 /content/datasets/test/images/SNAG3-RADU-0038_png.rf.615442493cf5e934305883469a7fed0c.jpg: 640x640 1 info_one_way_traffic, 1 info_parking, 16.7ms\n",
            "Speed: 1.6ms preprocess, 16.7ms inference, 1.5ms postprocess per image at shape (1, 3, 640, 640)\n",
            "Results saved to \u001b[1mruns/detect/predict2\u001b[0m\n",
            "\n",
            "image 1/1 /content/datasets/test/images/SNAG3-RADU-0040_png.rf.820b240be0c39f6d863fac0d7d0edacd.jpg: 640x640 1 info_crosswalk, 1 mand_straigh_left, 1 prio_stop, 16.6ms\n",
            "Speed: 1.5ms preprocess, 16.6ms inference, 1.6ms postprocess per image at shape (1, 3, 640, 640)\n",
            "Results saved to \u001b[1mruns/detect/predict2\u001b[0m\n",
            "\n",
            "image 1/1 /content/datasets/test/images/SNAG3-RADU-0046_png.rf.fed8b2b41bbe068eece43c33696caf5f.jpg: 640x640 1 warn_children, 16.6ms\n",
            "Speed: 1.6ms preprocess, 16.6ms inference, 1.6ms postprocess per image at shape (1, 3, 640, 640)\n",
            "Results saved to \u001b[1mruns/detect/predict2\u001b[0m\n",
            "\n",
            "image 1/1 /content/datasets/test/images/SNAG3-RADU-0056_png.rf.e763b16570c7de82e7871a9ed60ca35f.jpg: 640x640 1 forb_right, 1 forb_stopping, 1 info_crosswalk, 1 mand_right, 1 prio_stop, 16.9ms\n",
            "Speed: 1.7ms preprocess, 16.9ms inference, 1.5ms postprocess per image at shape (1, 3, 640, 640)\n",
            "Results saved to \u001b[1mruns/detect/predict2\u001b[0m\n",
            "\n",
            "image 1/1 /content/datasets/test/images/SNAG3-RADU-0061_png.rf.3365ab06066b36a56fb94f86828f1990.jpg: 640x640 1 forb_weight_over_3.5t, 1 mand_right, 1 prio_give_way, 16.6ms\n",
            "Speed: 1.6ms preprocess, 16.6ms inference, 1.5ms postprocess per image at shape (1, 3, 640, 640)\n",
            "Results saved to \u001b[1mruns/detect/predict2\u001b[0m\n",
            "\n",
            "image 1/1 /content/datasets/test/images/SNAG3-RADU-0065_png.rf.1f80e22742f7a31b31aefc802d6bf2b2.jpg: 640x640 1 info_crosswalk, 1 mand_straigh_left, 16.7ms\n",
            "Speed: 1.6ms preprocess, 16.7ms inference, 1.5ms postprocess per image at shape (1, 3, 640, 640)\n",
            "Results saved to \u001b[1mruns/detect/predict2\u001b[0m\n",
            "\n",
            "image 1/1 /content/datasets/test/images/SNAG3-RADU-0083_png.rf.694b005fee96b5a286984b967697fa75.jpg: 640x640 1 info_parking, 16.6ms\n",
            "Speed: 1.6ms preprocess, 16.6ms inference, 1.6ms postprocess per image at shape (1, 3, 640, 640)\n",
            "Results saved to \u001b[1mruns/detect/predict2\u001b[0m\n",
            "\n",
            "image 1/1 /content/datasets/test/images/SNAG3-RADU-0085_png.rf.812993a39cefd792de22adb1edf0223b.jpg: 640x640 1 forb_speed_over_30, 1 warn_children, 16.6ms\n",
            "Speed: 1.6ms preprocess, 16.6ms inference, 1.5ms postprocess per image at shape (1, 3, 640, 640)\n",
            "Results saved to \u001b[1mruns/detect/predict2\u001b[0m\n",
            "\n",
            "image 1/1 /content/datasets/test/images/SNAG3-RADU-0102_png.rf.a5e721e7e31141e4748dd8ba1d6ddf7c.jpg: 640x640 1 warn_children, 16.6ms\n",
            "Speed: 1.5ms preprocess, 16.6ms inference, 1.6ms postprocess per image at shape (1, 3, 640, 640)\n",
            "Results saved to \u001b[1mruns/detect/predict2\u001b[0m\n",
            "\n",
            "image 1/1 /content/datasets/test/images/SNAG3-RADU-0115_png.rf.66160aa0a30c9c8aa24796e99f651e32.jpg: 640x640 1 forb_weight_over_3.5t, 18.9ms\n",
            "Speed: 1.9ms preprocess, 18.9ms inference, 1.6ms postprocess per image at shape (1, 3, 640, 640)\n",
            "Results saved to \u001b[1mruns/detect/predict2\u001b[0m\n",
            "\n",
            "image 1/1 /content/datasets/test/images/SNAG3-RADU-0149_png.rf.151007a41de38da629ff0c1383b2ce87.jpg: 640x640 (no detections), 16.6ms\n",
            "Speed: 1.6ms preprocess, 16.6ms inference, 0.7ms postprocess per image at shape (1, 3, 640, 640)\n",
            "Results saved to \u001b[1mruns/detect/predict2\u001b[0m\n",
            "\n",
            "image 1/1 /content/datasets/test/images/SNAG3-RADU-0150_png.rf.37584dfb8a725810011403523c59fd59.jpg: 640x640 1 forb_right, 16.7ms\n",
            "Speed: 1.6ms preprocess, 16.7ms inference, 1.5ms postprocess per image at shape (1, 3, 640, 640)\n",
            "Results saved to \u001b[1mruns/detect/predict2\u001b[0m\n",
            "\n",
            "image 1/1 /content/datasets/test/images/SNAG3-RADU-0153_png.rf.553d08a98f269460e66c2749a7108ef7.jpg: 640x640 1 forb_weight_over_3.5t, 16.7ms\n",
            "Speed: 1.6ms preprocess, 16.7ms inference, 2.2ms postprocess per image at shape (1, 3, 640, 640)\n",
            "Results saved to \u001b[1mruns/detect/predict2\u001b[0m\n",
            "\n",
            "image 1/1 /content/datasets/test/images/SNAG3-RADU-0159_png.rf.b5d4a9234cd458dbd6e2bc637fd9225c.jpg: 640x640 1 mand_pass_right, 16.6ms\n",
            "Speed: 1.7ms preprocess, 16.6ms inference, 1.6ms postprocess per image at shape (1, 3, 640, 640)\n",
            "Results saved to \u001b[1mruns/detect/predict2\u001b[0m\n",
            "\n",
            "image 1/1 /content/datasets/test/images/SNAG3-RADU-0166_png.rf.7a2bcb31c0330e44d399358548658e5c.jpg: 640x640 1 forb_weight_over_3.5t, 16.6ms\n",
            "Speed: 1.6ms preprocess, 16.6ms inference, 1.6ms postprocess per image at shape (1, 3, 640, 640)\n",
            "Results saved to \u001b[1mruns/detect/predict2\u001b[0m\n",
            "\n",
            "image 1/1 /content/datasets/test/images/SNAG3-RADU-0179_png.rf.47bd7cd2f8076505781e025f9307b451.jpg: 640x640 1 mand_right, 1 prio_stop, 16.6ms\n",
            "Speed: 1.6ms preprocess, 16.6ms inference, 1.5ms postprocess per image at shape (1, 3, 640, 640)\n",
            "Results saved to \u001b[1mruns/detect/predict2\u001b[0m\n",
            "\n",
            "image 1/1 /content/datasets/test/images/SNAG3-RADU-0185_png.rf.4285eeda046b63a3537f61cdd45b79d5.jpg: 640x640 (no detections), 16.6ms\n",
            "Speed: 1.5ms preprocess, 16.6ms inference, 1.0ms postprocess per image at shape (1, 3, 640, 640)\n",
            "Results saved to \u001b[1mruns/detect/predict2\u001b[0m\n",
            "\n",
            "image 1/1 /content/datasets/test/images/SNAG3-RADU-0207_png.rf.b7e558a26f67af6d9c6802a3878d1216.jpg: 640x640 1 forb_speed_over_40, 16.6ms\n",
            "Speed: 1.5ms preprocess, 16.6ms inference, 1.5ms postprocess per image at shape (1, 3, 640, 640)\n",
            "Results saved to \u001b[1mruns/detect/predict2\u001b[0m\n",
            "\n",
            "image 1/1 /content/datasets/test/images/SNAG3-RADU-0220_png.rf.6c300e08e1b14b6a2e26938a5a8b5f40.jpg: 640x640 (no detections), 16.6ms\n",
            "Speed: 1.4ms preprocess, 16.6ms inference, 0.7ms postprocess per image at shape (1, 3, 640, 640)\n",
            "Results saved to \u001b[1mruns/detect/predict2\u001b[0m\n",
            "\n",
            "image 1/1 /content/datasets/test/images/SNAG3-RADU-0225_png.rf.b6d5a5b8e52701828daffa1aedd2825a.jpg: 640x640 (no detections), 16.6ms\n",
            "Speed: 1.7ms preprocess, 16.6ms inference, 0.7ms postprocess per image at shape (1, 3, 640, 640)\n",
            "Results saved to \u001b[1mruns/detect/predict2\u001b[0m\n",
            "\n",
            "image 1/1 /content/datasets/test/images/SNAG3-RADU-0229_png.rf.40e5ac20d3ed909a960f2daed902f0a7.jpg: 640x640 1 warn_wild_animals, 16.6ms\n",
            "Speed: 1.5ms preprocess, 16.6ms inference, 1.4ms postprocess per image at shape (1, 3, 640, 640)\n",
            "Results saved to \u001b[1mruns/detect/predict2\u001b[0m\n",
            "\n",
            "image 1/1 /content/datasets/test/images/SNAG3-RADU-0232_png.rf.be8a83d17b4c815b3d1325fda2b04536.jpg: 640x640 (no detections), 16.6ms\n",
            "Speed: 1.5ms preprocess, 16.6ms inference, 0.8ms postprocess per image at shape (1, 3, 640, 640)\n",
            "Results saved to \u001b[1mruns/detect/predict2\u001b[0m\n",
            "\n",
            "image 1/1 /content/datasets/test/images/SNAG3-RADU-0246_png.rf.1199c55717413ff42f6b29eaeee4e496.jpg: 640x640 1 prio_priority_road, 16.6ms\n",
            "Speed: 1.6ms preprocess, 16.6ms inference, 1.5ms postprocess per image at shape (1, 3, 640, 640)\n",
            "Results saved to \u001b[1mruns/detect/predict2\u001b[0m\n",
            "\n",
            "image 1/1 /content/datasets/test/images/SNAG3-RADU-0247_png.rf.80f28fbb705ac8fb267233440fe83bcc.jpg: 640x640 1 prio_priority_road, 16.6ms\n",
            "Speed: 1.5ms preprocess, 16.6ms inference, 1.5ms postprocess per image at shape (1, 3, 640, 640)\n",
            "Results saved to \u001b[1mruns/detect/predict2\u001b[0m\n",
            "\n",
            "image 1/1 /content/datasets/test/images/SNAG3-RADU-0250_png.rf.05093c086fe613d54eec1820ccd8b330.jpg: 640x640 1 prio_priority_road, 16.6ms\n",
            "Speed: 1.6ms preprocess, 16.6ms inference, 1.5ms postprocess per image at shape (1, 3, 640, 640)\n",
            "Results saved to \u001b[1mruns/detect/predict2\u001b[0m\n",
            "\n",
            "image 1/1 /content/datasets/test/images/SNAG3-RADU-0261_png.rf.84d9bdbd52e065e359ba44e5aee06a3d.jpg: 640x640 1 warn_roundabout, 16.6ms\n",
            "Speed: 1.5ms preprocess, 16.6ms inference, 1.6ms postprocess per image at shape (1, 3, 640, 640)\n",
            "Results saved to \u001b[1mruns/detect/predict2\u001b[0m\n",
            "\n",
            "image 1/1 /content/datasets/test/images/SNAG3-RADU-0266_png.rf.23b81b7ccce1b7fb025b7958c094fcb5.jpg: 640x640 1 mand_straight_right, 16.6ms\n",
            "Speed: 1.5ms preprocess, 16.6ms inference, 2.0ms postprocess per image at shape (1, 3, 640, 640)\n",
            "Results saved to \u001b[1mruns/detect/predict2\u001b[0m\n",
            "\n",
            "image 1/1 /content/datasets/test/images/SNAG3-RADU-0274_png.rf.59ff5510eead4faa227fd291826ec7eb.jpg: 640x640 1 warn_traffic_light, 16.6ms\n",
            "Speed: 1.5ms preprocess, 16.6ms inference, 1.5ms postprocess per image at shape (1, 3, 640, 640)\n",
            "Results saved to \u001b[1mruns/detect/predict2\u001b[0m\n",
            "\n",
            "image 1/1 /content/datasets/test/images/SNAG3-RADU-0277_png.rf.1c3662475a5f442f7dcca205f44a2ac8.jpg: 640x640 1 mand_pass_left_right, 19.2ms\n",
            "Speed: 2.1ms preprocess, 19.2ms inference, 1.6ms postprocess per image at shape (1, 3, 640, 640)\n",
            "Results saved to \u001b[1mruns/detect/predict2\u001b[0m\n",
            "\n",
            "image 1/1 /content/datasets/test/images/SNAG3-RADU-0278_png.rf.ad42bf9c77c9671af41c499de95a4d58.jpg: 640x640 1 mand_pass_right, 1 mand_right, 1 prio_give_way, 16.6ms\n",
            "Speed: 1.8ms preprocess, 16.6ms inference, 1.5ms postprocess per image at shape (1, 3, 640, 640)\n",
            "Results saved to \u001b[1mruns/detect/predict2\u001b[0m\n",
            "\n",
            "image 1/1 /content/datasets/test/images/SNAG3-RADU-0283_png.rf.2b346dcad57de280f916738415055f26.jpg: 640x640 1 forb_speed_over_30, 16.6ms\n",
            "Speed: 1.7ms preprocess, 16.6ms inference, 1.5ms postprocess per image at shape (1, 3, 640, 640)\n",
            "Results saved to \u001b[1mruns/detect/predict2\u001b[0m\n",
            "\n",
            "image 1/1 /content/datasets/test/images/SNAG3-RADU-0284_png.rf.c73cec764eebfbac9de3603f6a03edb4.jpg: 640x640 1 mand_pass_right, 16.6ms\n",
            "Speed: 1.4ms preprocess, 16.6ms inference, 1.5ms postprocess per image at shape (1, 3, 640, 640)\n",
            "Results saved to \u001b[1mruns/detect/predict2\u001b[0m\n",
            "\n",
            "image 1/1 /content/datasets/test/images/SNAG3-RADU-0325_png.rf.891297d32d6f7e3612f1b51aba039bbd.jpg: 640x640 1 forb_speed_over_30, 1 prio_give_way, 1 warn_crosswalk, 16.6ms\n",
            "Speed: 1.5ms preprocess, 16.6ms inference, 1.4ms postprocess per image at shape (1, 3, 640, 640)\n",
            "Results saved to \u001b[1mruns/detect/predict2\u001b[0m\n",
            "\n",
            "image 1/1 /content/datasets/test/images/SNAG3-RADU-0338_png.rf.eaffb2f985b8cc44359e4cf218de62a1.jpg: 640x640 (no detections), 16.5ms\n",
            "Speed: 1.5ms preprocess, 16.5ms inference, 0.7ms postprocess per image at shape (1, 3, 640, 640)\n",
            "Results saved to \u001b[1mruns/detect/predict2\u001b[0m\n",
            "\n",
            "image 1/1 /content/datasets/test/images/SNAG3-RADU-0342_png.rf.86bbe66fcfdef10e5b3f0802e06a7944.jpg: 640x640 1 mand_right, 1 prio_give_way, 16.6ms\n",
            "Speed: 1.5ms preprocess, 16.6ms inference, 1.5ms postprocess per image at shape (1, 3, 640, 640)\n",
            "Results saved to \u001b[1mruns/detect/predict2\u001b[0m\n",
            "\n",
            "image 1/1 /content/datasets/test/images/SNAG3-RADU-0348_png.rf.88a7aede99742906ca8192fe41ca2039.jpg: 640x640 1 forb_overtake, 16.6ms\n",
            "Speed: 1.5ms preprocess, 16.6ms inference, 2.1ms postprocess per image at shape (1, 3, 640, 640)\n",
            "Results saved to \u001b[1mruns/detect/predict2\u001b[0m\n",
            "\n",
            "image 1/1 /content/datasets/test/images/SNAG3-RADU-0356_png.rf.ebf0e3aa82535172538799ce841d3934.jpg: 640x640 1 warn_wild_animals, 16.6ms\n",
            "Speed: 1.5ms preprocess, 16.6ms inference, 1.5ms postprocess per image at shape (1, 3, 640, 640)\n",
            "Results saved to \u001b[1mruns/detect/predict2\u001b[0m\n",
            "\n",
            "image 1/1 /content/datasets/test/images/SNAG3-RADU-0364_png.rf.0ad99ad359b4168c372bdf4bf9e6c3e6.jpg: 640x640 1 mand_right, 1 prio_give_way, 16.6ms\n",
            "Speed: 1.5ms preprocess, 16.6ms inference, 1.5ms postprocess per image at shape (1, 3, 640, 640)\n",
            "Results saved to \u001b[1mruns/detect/predict2\u001b[0m\n",
            "\n",
            "image 1/1 /content/datasets/test/images/SNAG3-RADU-0388_png.rf.23fa31eff48437f72805c7c6ca572fdd.jpg: 640x640 1 forb_left, 16.7ms\n",
            "Speed: 1.5ms preprocess, 16.7ms inference, 1.6ms postprocess per image at shape (1, 3, 640, 640)\n",
            "Results saved to \u001b[1mruns/detect/predict2\u001b[0m\n",
            "\n",
            "image 1/1 /content/datasets/test/images/SNAG3-RADU-0398_png.rf.1be1b73b820f7ddbe72b78a9dd2b684d.jpg: 640x640 1 info_bus_station, 1 mand_pass_right, 16.6ms\n",
            "Speed: 1.5ms preprocess, 16.6ms inference, 3.1ms postprocess per image at shape (1, 3, 640, 640)\n",
            "Results saved to \u001b[1mruns/detect/predict2\u001b[0m\n",
            "\n",
            "image 1/1 /content/datasets/test/images/SNAG3-RADU-0400_png.rf.e4893ae4a651a6a2177bd9324f08e282.jpg: 640x640 1 info_bus_station, 1 mand_pass_right, 16.6ms\n",
            "Speed: 1.4ms preprocess, 16.6ms inference, 1.6ms postprocess per image at shape (1, 3, 640, 640)\n",
            "Results saved to \u001b[1mruns/detect/predict2\u001b[0m\n",
            "\n",
            "image 1/1 /content/datasets/test/images/SNAG4-RADU-0004_png.rf.1f4b3af6463926c51a677cfdd2959b7a.jpg: 640x640 1 info_crosswalk, 1 mand_straight_right, 1 prio_give_way, 17.1ms\n",
            "Speed: 1.5ms preprocess, 17.1ms inference, 1.4ms postprocess per image at shape (1, 3, 640, 640)\n",
            "Results saved to \u001b[1mruns/detect/predict2\u001b[0m\n",
            "\n",
            "image 1/1 /content/datasets/test/images/SNAG4-RADU-0005_png.rf.aa86743a1dd66f277028550e7d24b252.jpg: 640x640 1 info_crosswalk, 1 prio_give_way, 16.6ms\n",
            "Speed: 1.5ms preprocess, 16.6ms inference, 1.5ms postprocess per image at shape (1, 3, 640, 640)\n",
            "Results saved to \u001b[1mruns/detect/predict2\u001b[0m\n",
            "\n",
            "image 1/1 /content/datasets/test/images/SNAG4-RADU-0011_png.rf.5ca7e6b725383066be3e73fbe898fec9.jpg: 640x640 1 forb_ahead, 1 info_parking, 16.6ms\n",
            "Speed: 1.5ms preprocess, 16.6ms inference, 1.7ms postprocess per image at shape (1, 3, 640, 640)\n",
            "Results saved to \u001b[1mruns/detect/predict2\u001b[0m\n",
            "\n",
            "image 1/1 /content/datasets/test/images/SNAG4-RADU-0014_png.rf.c2452f56fe005f8882bf702a108bbed9.jpg: 640x640 1 forb_stopping, 1 mand_bike_lane, 16.7ms\n",
            "Speed: 1.6ms preprocess, 16.7ms inference, 2.5ms postprocess per image at shape (1, 3, 640, 640)\n",
            "Results saved to \u001b[1mruns/detect/predict2\u001b[0m\n",
            "\n",
            "image 1/1 /content/datasets/test/images/SNAG4-RADU-0022_png.rf.bdb18093db8cc9fb16253e8eb32f43bd.jpg: 640x640 1 info_crosswalk, 1 mand_straigh_left, 1 prio_priority_road, 17.0ms\n",
            "Speed: 1.7ms preprocess, 17.0ms inference, 1.5ms postprocess per image at shape (1, 3, 640, 640)\n",
            "Results saved to \u001b[1mruns/detect/predict2\u001b[0m\n",
            "\n",
            "image 1/1 /content/datasets/test/images/SNAG4-RADU-0032_png.rf.3fae79ace9c7491530d09c2895ceac7a.jpg: 640x640 1 forb_overtake, 1 forb_speed_over_40, 16.6ms\n",
            "Speed: 1.5ms preprocess, 16.6ms inference, 1.5ms postprocess per image at shape (1, 3, 640, 640)\n",
            "Results saved to \u001b[1mruns/detect/predict2\u001b[0m\n",
            "\n",
            "image 1/1 /content/datasets/test/images/SNAG4-RADU-0036_png.rf.52813117f7ba79e0608894e7fbd3fa1a.jpg: 640x640 2 forb_overtakes, 1 forb_speed_over_50, 16.7ms\n",
            "Speed: 1.7ms preprocess, 16.7ms inference, 2.1ms postprocess per image at shape (1, 3, 640, 640)\n",
            "Results saved to \u001b[1mruns/detect/predict2\u001b[0m\n",
            "\n",
            "image 1/1 /content/datasets/test/images/SNAG4-RADU-0040_png.rf.4b20dfde1d21a76840d61e2b7489c0ac.jpg: 640x640 1 forb_speed_over_80, 16.6ms\n",
            "Speed: 1.6ms preprocess, 16.6ms inference, 1.4ms postprocess per image at shape (1, 3, 640, 640)\n",
            "Results saved to \u001b[1mruns/detect/predict2\u001b[0m\n",
            "\n",
            "image 1/1 /content/datasets/test/images/SNAG4-RADU-0041_png.rf.cbe493b1457f73bdbdb4a4571073a12f.jpg: 640x640 1 forb_speed_over_80, 16.5ms\n",
            "Speed: 1.4ms preprocess, 16.5ms inference, 1.5ms postprocess per image at shape (1, 3, 640, 640)\n",
            "Results saved to \u001b[1mruns/detect/predict2\u001b[0m\n",
            "\n",
            "image 1/1 /content/datasets/test/images/SNAG4-RADU-0049_png.rf.c8cbf6701f67f6817af8fce4f3a789a2.jpg: 640x640 1 info_highway, 16.7ms\n",
            "Speed: 1.5ms preprocess, 16.7ms inference, 1.8ms postprocess per image at shape (1, 3, 640, 640)\n",
            "Results saved to \u001b[1mruns/detect/predict2\u001b[0m\n",
            "\n",
            "image 1/1 /content/datasets/test/images/SNAG4-RADU-0066_png.rf.c435130b18753f950b0c6caa0ed1c121.jpg: 640x640 1 info_highway, 1 prio_give_way, 16.6ms\n",
            "Speed: 1.5ms preprocess, 16.6ms inference, 1.4ms postprocess per image at shape (1, 3, 640, 640)\n",
            "Results saved to \u001b[1mruns/detect/predict2\u001b[0m\n",
            "\n",
            "image 1/1 /content/datasets/test/images/SNAG4-RADU-0067_png.rf.4837cc45d001369b93425a7f69cbea6c.jpg: 640x640 1 info_highway, 1 prio_give_way, 16.6ms\n",
            "Speed: 1.5ms preprocess, 16.6ms inference, 1.6ms postprocess per image at shape (1, 3, 640, 640)\n",
            "Results saved to \u001b[1mruns/detect/predict2\u001b[0m\n",
            "\n",
            "image 1/1 /content/datasets/test/images/SNAG4-RADU-0068_png.rf.200206086c4e4538c0ac85e084debb2a.jpg: 640x640 1 info_one_way_traffic, 1 info_parking, 16.7ms\n",
            "Speed: 1.5ms preprocess, 16.7ms inference, 2.3ms postprocess per image at shape (1, 3, 640, 640)\n",
            "Results saved to \u001b[1mruns/detect/predict2\u001b[0m\n",
            "\n",
            "image 1/1 /content/datasets/test/images/SNAG4-RADU-0077_png.rf.207d53ccc1a7fe1685d6c67926627259.jpg: 640x640 1 forb_speed_over_130, 1 forb_speed_over_80, 1 info_highway, 16.7ms\n",
            "Speed: 2.0ms preprocess, 16.7ms inference, 1.5ms postprocess per image at shape (1, 3, 640, 640)\n",
            "Results saved to \u001b[1mruns/detect/predict2\u001b[0m\n",
            "\n",
            "image 1/1 /content/datasets/test/images/SNAG4-RADU-0102_png.rf.d6ab39912de05a686aa716b80e06da84.jpg: 640x640 1 warn_poor_road_surface, 16.6ms\n",
            "Speed: 1.5ms preprocess, 16.6ms inference, 1.5ms postprocess per image at shape (1, 3, 640, 640)\n",
            "Results saved to \u001b[1mruns/detect/predict2\u001b[0m\n",
            "\n",
            "image 1/1 /content/datasets/test/images/SNAG4-RADU-0103_png.rf.8789f33fa83144936e252a332bde248b.jpg: 640x640 (no detections), 16.7ms\n",
            "Speed: 1.6ms preprocess, 16.7ms inference, 0.7ms postprocess per image at shape (1, 3, 640, 640)\n",
            "Results saved to \u001b[1mruns/detect/predict2\u001b[0m\n",
            "\n",
            "image 1/1 /content/datasets/test/images/SNAG4-RADU-0109_png.rf.44dc7eb7923eeefc9192b2b299f9adb8.jpg: 640x640 1 forb_speed_over_30, 19.3ms\n",
            "Speed: 2.2ms preprocess, 19.3ms inference, 1.5ms postprocess per image at shape (1, 3, 640, 640)\n",
            "Results saved to \u001b[1mruns/detect/predict2\u001b[0m\n",
            "\n",
            "image 1/1 /content/datasets/test/images/SNAG4-RADU-0128_png.rf.b34140453e10314bcc2062a9623aadea.jpg: 640x640 1 warn_children, 1 warn_crosswalk, 16.6ms\n",
            "Speed: 1.5ms preprocess, 16.6ms inference, 1.4ms postprocess per image at shape (1, 3, 640, 640)\n",
            "Results saved to \u001b[1mruns/detect/predict2\u001b[0m\n",
            "\n",
            "image 1/1 /content/datasets/test/images/SNAG4-RADU-0133_png.rf.eb16bd125e02544020ccf7a8584b97c8.jpg: 640x640 1 forb_weight_over_7.5t, 16.7ms\n",
            "Speed: 1.7ms preprocess, 16.7ms inference, 1.5ms postprocess per image at shape (1, 3, 640, 640)\n",
            "Results saved to \u001b[1mruns/detect/predict2\u001b[0m\n",
            "\n",
            "image 1/1 /content/datasets/test/images/SNAG5-RADU-0004_png.rf.88d12804a9346b716acef061be08e869.jpg: 640x640 1 info_crosswalk, 1 mand_pass_left_right, 1 warn_cyclists, 1 warn_tram, 16.6ms\n",
            "Speed: 1.6ms preprocess, 16.6ms inference, 1.5ms postprocess per image at shape (1, 3, 640, 640)\n",
            "Results saved to \u001b[1mruns/detect/predict2\u001b[0m\n",
            "\n",
            "image 1/1 /content/datasets/test/images/SNAG5-RADU-0011_png.rf.845fa050ac98f2512822dfa4d02b11fd.jpg: 640x640 1 forb_stopping, 1 warn_traffic_light, 16.6ms\n",
            "Speed: 1.5ms preprocess, 16.6ms inference, 1.4ms postprocess per image at shape (1, 3, 640, 640)\n",
            "Results saved to \u001b[1mruns/detect/predict2\u001b[0m\n",
            "\n",
            "image 1/1 /content/datasets/test/images/SNAG5-RADU-0016_png.rf.8ee7816f3edd6d75948750bb94f791a6.jpg: 640x640 2 forb_stoppings, 1 warn_traffic_light, 17.4ms\n",
            "Speed: 1.8ms preprocess, 17.4ms inference, 1.7ms postprocess per image at shape (1, 3, 640, 640)\n",
            "Results saved to \u001b[1mruns/detect/predict2\u001b[0m\n",
            "\n",
            "image 1/1 /content/datasets/test/images/SNAG5-RADU-0025_png.rf.cb36beb767422515b646dca4ca0633db.jpg: 640x640 1 info_crosswalk, 16.7ms\n",
            "Speed: 1.5ms preprocess, 16.7ms inference, 2.0ms postprocess per image at shape (1, 3, 640, 640)\n",
            "Results saved to \u001b[1mruns/detect/predict2\u001b[0m\n",
            "\n",
            "image 1/1 /content/datasets/test/images/SNAG5-RADU-0030_png.rf.7981312b6eea7094171b4512c5a5dda6.jpg: 640x640 1 info_crosswalk, 1 warn_cyclists, 16.6ms\n",
            "Speed: 1.7ms preprocess, 16.6ms inference, 1.5ms postprocess per image at shape (1, 3, 640, 640)\n",
            "Results saved to \u001b[1mruns/detect/predict2\u001b[0m\n",
            "\n",
            "image 1/1 /content/datasets/test/images/SNAG5-RADU-0034_png.rf.64276f581adf8f6e0b78afa406a368ea.jpg: 640x640 1 info_crosswalk, 1 prio_give_way, 16.9ms\n",
            "Speed: 2.0ms preprocess, 16.9ms inference, 1.5ms postprocess per image at shape (1, 3, 640, 640)\n",
            "Results saved to \u001b[1mruns/detect/predict2\u001b[0m\n",
            "\n",
            "image 1/1 /content/datasets/test/images/SNAG5-RADU-0045_png.rf.29c5ecc3d7cf979345c9afc5e6a3bbf6.jpg: 640x640 1 forb_stopping, 1 warn_traffic_light, 16.6ms\n",
            "Speed: 1.6ms preprocess, 16.6ms inference, 1.5ms postprocess per image at shape (1, 3, 640, 640)\n",
            "Results saved to \u001b[1mruns/detect/predict2\u001b[0m\n",
            "\n",
            "image 1/1 /content/datasets/test/images/SNAG5-RADU-0061_png.rf.f91ba5b9e95fa4a7d1bd620f62c58b3a.jpg: 640x640 1 forb_stopping, 1 info_bus_station, 16.6ms\n",
            "Speed: 1.8ms preprocess, 16.6ms inference, 2.1ms postprocess per image at shape (1, 3, 640, 640)\n",
            "Results saved to \u001b[1mruns/detect/predict2\u001b[0m\n",
            "\n",
            "image 1/1 /content/datasets/test/images/SNAG5-RADU-0065_png.rf.8683205971da7e1719a7419745bb81b9.jpg: 640x640 1 forb_weight_over_7.5t, 16.6ms\n",
            "Speed: 1.5ms preprocess, 16.6ms inference, 1.5ms postprocess per image at shape (1, 3, 640, 640)\n",
            "Results saved to \u001b[1mruns/detect/predict2\u001b[0m\n",
            "\n",
            "image 1/1 /content/datasets/test/images/SNAG5-RADU-0071_png.rf.f99e52f2f1615f971fee71bf8f27671a.jpg: 640x640 1 warn_two_way_traffic, 16.6ms\n",
            "Speed: 1.5ms preprocess, 16.6ms inference, 1.5ms postprocess per image at shape (1, 3, 640, 640)\n",
            "Results saved to \u001b[1mruns/detect/predict2\u001b[0m\n",
            "\n",
            "image 1/1 /content/datasets/test/images/SNAG5-RADU-0085_png.rf.f9ac54be18968246d8d998063d95df25.jpg: 640x640 1 warn_children, 1 warn_cyclists, 16.6ms\n",
            "Speed: 1.5ms preprocess, 16.6ms inference, 1.5ms postprocess per image at shape (1, 3, 640, 640)\n",
            "Results saved to \u001b[1mruns/detect/predict2\u001b[0m\n",
            "\n",
            "image 1/1 /content/datasets/test/images/SNAG5-RADU-0095_png.rf.2c1b9d638d14f78ff8d4ac5509f96ea5.jpg: 640x640 1 prio_priority_road, 1 warn_children, 16.6ms\n",
            "Speed: 1.5ms preprocess, 16.6ms inference, 1.5ms postprocess per image at shape (1, 3, 640, 640)\n",
            "Results saved to \u001b[1mruns/detect/predict2\u001b[0m\n",
            "\n",
            "image 1/1 /content/datasets/test/images/SNAG5-RADU-0104_png.rf.2fc5fe76f3d30e8deb305583b2cdb1a4.jpg: 640x640 1 warn_other_dangers, 17.2ms\n",
            "Speed: 1.5ms preprocess, 17.2ms inference, 1.7ms postprocess per image at shape (1, 3, 640, 640)\n",
            "Results saved to \u001b[1mruns/detect/predict2\u001b[0m\n",
            "\n",
            "image 1/1 /content/datasets/test/images/SNAG6-RADU-0018_png.rf.79b75ac956757afec7249d10a216c5b8.jpg: 640x640 (no detections), 16.6ms\n",
            "Speed: 1.6ms preprocess, 16.6ms inference, 0.7ms postprocess per image at shape (1, 3, 640, 640)\n",
            "Results saved to \u001b[1mruns/detect/predict2\u001b[0m\n",
            "\n",
            "image 1/1 /content/datasets/test/images/SNAG6-RADU-0051_png.rf.b2146733200253ce777f79153f936536.jpg: 640x640 1 info_bus_station, 1 info_crosswalk, 16.6ms\n",
            "Speed: 1.5ms preprocess, 16.6ms inference, 1.7ms postprocess per image at shape (1, 3, 640, 640)\n",
            "Results saved to \u001b[1mruns/detect/predict2\u001b[0m\n",
            "\n",
            "image 1/1 /content/datasets/test/images/SNAG6-RADU-0052_png.rf.b0a283ffb984dffbfb63404bc2b3fcbd.jpg: 640x640 1 info_crosswalk, 1 warn_tram, 16.6ms\n",
            "Speed: 1.6ms preprocess, 16.6ms inference, 1.7ms postprocess per image at shape (1, 3, 640, 640)\n",
            "Results saved to \u001b[1mruns/detect/predict2\u001b[0m\n",
            "\n",
            "image 1/1 /content/datasets/test/images/SNAG6-RADU-0054_png.rf.84a075ebf3e4b3c80714ad1ca5659814.jpg: 640x640 1 forb_left, 16.6ms\n",
            "Speed: 1.5ms preprocess, 16.6ms inference, 1.8ms postprocess per image at shape (1, 3, 640, 640)\n",
            "Results saved to \u001b[1mruns/detect/predict2\u001b[0m\n",
            "\n",
            "image 1/1 /content/datasets/test/images/SNAG6-RADU-0061_png.rf.5dbf4c6622e461e6f80ea8bc8251532f.jpg: 640x640 (no detections), 16.6ms\n",
            "Speed: 1.4ms preprocess, 16.6ms inference, 0.7ms postprocess per image at shape (1, 3, 640, 640)\n",
            "Results saved to \u001b[1mruns/detect/predict2\u001b[0m\n",
            "\n",
            "image 1/1 /content/datasets/test/images/SNAG6-RADU-0063_png.rf.6d60d24eb6b3f89db19479da415c1436.jpg: 640x640 1 info_bus_station, 16.6ms\n",
            "Speed: 1.5ms preprocess, 16.6ms inference, 1.5ms postprocess per image at shape (1, 3, 640, 640)\n",
            "Results saved to \u001b[1mruns/detect/predict2\u001b[0m\n",
            "\n",
            "image 1/1 /content/datasets/test/images/SNAG7-RADU-0002_png.rf.eaac0371106b9e5c8c419062e23a6265.jpg: 640x640 1 forb_speed_over_5, 1 forb_weight_over_3.5t, 1 info_crosswalk, 16.7ms\n",
            "Speed: 1.6ms preprocess, 16.7ms inference, 1.6ms postprocess per image at shape (1, 3, 640, 640)\n",
            "Results saved to \u001b[1mruns/detect/predict2\u001b[0m\n",
            "\n",
            "image 1/1 /content/datasets/test/images/SNAG7-RADU-0003_png.rf.bf47f29f2739ee1603586a8f79fab7fa.jpg: 640x640 (no detections), 16.6ms\n",
            "Speed: 1.6ms preprocess, 16.6ms inference, 0.9ms postprocess per image at shape (1, 3, 640, 640)\n",
            "Results saved to \u001b[1mruns/detect/predict2\u001b[0m\n",
            "\n",
            "image 1/1 /content/datasets/test/images/SNAG7-RADU-0012_png.rf.af14899b19566e0d37d662c0275051a9.jpg: 640x640 (no detections), 16.6ms\n",
            "Speed: 1.6ms preprocess, 16.6ms inference, 0.7ms postprocess per image at shape (1, 3, 640, 640)\n",
            "Results saved to \u001b[1mruns/detect/predict2\u001b[0m\n",
            "\n",
            "image 1/1 /content/datasets/test/images/SNAG7-RADU-0013_png.rf.34ce98af70094af543c8d7b811450774.jpg: 640x640 1 forb_speed_over_60, 16.6ms\n",
            "Speed: 1.5ms preprocess, 16.6ms inference, 1.5ms postprocess per image at shape (1, 3, 640, 640)\n",
            "Results saved to \u001b[1mruns/detect/predict2\u001b[0m\n",
            "\n",
            "image 1/1 /content/datasets/test/images/SNAG7-RADU-0039_png.rf.977816f9d65f07fefbf87d25a3241a0e.jpg: 640x640 1 info_bus_station, 1 info_crosswalk, 1 prio_priority_road, 16.6ms\n",
            "Speed: 1.5ms preprocess, 16.6ms inference, 1.9ms postprocess per image at shape (1, 3, 640, 640)\n",
            "Results saved to \u001b[1mruns/detect/predict2\u001b[0m\n",
            "\n",
            "image 1/1 /content/datasets/test/images/SNAG7-RADU-0050_png.rf.e84315e7f92666709abaaed6e9d1defc.jpg: 640x640 1 forb_speed_over_90, 1 warn_wild_animals, 16.7ms\n",
            "Speed: 1.8ms preprocess, 16.7ms inference, 2.0ms postprocess per image at shape (1, 3, 640, 640)\n",
            "Results saved to \u001b[1mruns/detect/predict2\u001b[0m\n",
            "\n",
            "image 1/1 /content/datasets/test/images/SNAG7-RADU-0055_png.rf.06fd4c813f6d74dbbc38956a76645cc1.jpg: 640x640 1 forb_overtake, 16.6ms\n",
            "Speed: 1.6ms preprocess, 16.6ms inference, 1.4ms postprocess per image at shape (1, 3, 640, 640)\n",
            "Results saved to \u001b[1mruns/detect/predict2\u001b[0m\n",
            "\n",
            "image 1/1 /content/datasets/test/images/SNAG7-RADU-0062_png.rf.e7e8d949efb484b6990656d507df7d21.jpg: 640x640 (no detections), 16.6ms\n",
            "Speed: 1.5ms preprocess, 16.6ms inference, 0.7ms postprocess per image at shape (1, 3, 640, 640)\n",
            "Results saved to \u001b[1mruns/detect/predict2\u001b[0m\n",
            "\n",
            "image 1/1 /content/datasets/test/images/SNAG7-RADU-0065_png.rf.d02c979ee1cbc8286b44eb048b04d152.jpg: 640x640 1 info_crosswalk, 16.6ms\n",
            "Speed: 1.6ms preprocess, 16.6ms inference, 1.5ms postprocess per image at shape (1, 3, 640, 640)\n",
            "Results saved to \u001b[1mruns/detect/predict2\u001b[0m\n",
            "\n",
            "image 1/1 /content/datasets/test/images/SNAG8-RADU-0009_png.rf.e1ecc6a8bc406c2f27929affeda50611.jpg: 640x640 1 info_bus_station, 16.6ms\n",
            "Speed: 1.6ms preprocess, 16.6ms inference, 2.0ms postprocess per image at shape (1, 3, 640, 640)\n",
            "Results saved to \u001b[1mruns/detect/predict2\u001b[0m\n",
            "\n",
            "image 1/1 /content/datasets/test/images/SNAG8-RADU-0015_png.rf.dbb10b797cbe4beb9b6cd28fbd9a1bfa.jpg: 640x640 1 warn_crosswalk, 1 warn_speed_bumper, 16.6ms\n",
            "Speed: 1.5ms preprocess, 16.6ms inference, 1.7ms postprocess per image at shape (1, 3, 640, 640)\n",
            "Results saved to \u001b[1mruns/detect/predict2\u001b[0m\n",
            "\n",
            "image 1/1 /content/datasets/test/images/SNAG8-RADU-0018_png.rf.f7f8e8fe59c0269c98909d1bad39071c.jpg: 640x640 1 warn_crosswalk, 1 warn_other_dangers, 1 warn_speed_bumper, 16.6ms\n",
            "Speed: 1.5ms preprocess, 16.6ms inference, 1.5ms postprocess per image at shape (1, 3, 640, 640)\n",
            "Results saved to \u001b[1mruns/detect/predict2\u001b[0m\n",
            "\n",
            "image 1/1 /content/datasets/test/images/SNAG8-RADU-0026_png.rf.2c9a17bcbd817230aaebfab2a38a4f8a.jpg: 640x640 (no detections), 16.6ms\n",
            "Speed: 1.6ms preprocess, 16.6ms inference, 0.7ms postprocess per image at shape (1, 3, 640, 640)\n",
            "Results saved to \u001b[1mruns/detect/predict2\u001b[0m\n",
            "\n",
            "image 1/1 /content/datasets/test/images/SNAG8-RADU-0042_png.rf.4a705840b0841df8738f9289abd7f824.jpg: 640x640 1 warn_domestic_animals, 1 warn_speed_bumper, 16.6ms\n",
            "Speed: 1.5ms preprocess, 16.6ms inference, 1.5ms postprocess per image at shape (1, 3, 640, 640)\n",
            "Results saved to \u001b[1mruns/detect/predict2\u001b[0m\n",
            "\n",
            "image 1/1 /content/datasets/test/images/SNAG8-RADU-0060_png.rf.0e3e20fc9bedfe49e25844e0a6cc0948.jpg: 640x640 (no detections), 17.0ms\n",
            "Speed: 1.5ms preprocess, 17.0ms inference, 0.7ms postprocess per image at shape (1, 3, 640, 640)\n",
            "Results saved to \u001b[1mruns/detect/predict2\u001b[0m\n",
            "\n",
            "image 1/1 /content/datasets/test/images/SNAG9-RADU-0021_png.rf.871a5b7e23311de177c1205ed2f5162e.jpg: 640x640 (no detections), 16.6ms\n",
            "Speed: 1.5ms preprocess, 16.6ms inference, 0.7ms postprocess per image at shape (1, 3, 640, 640)\n",
            "Results saved to \u001b[1mruns/detect/predict2\u001b[0m\n",
            "\n",
            "image 1/1 /content/datasets/test/images/SNAG9-RADU-0023_png.rf.0557a0cc85f425df3ba7baae8341327b.jpg: 640x640 2 warn_wild_animalss, 16.5ms\n",
            "Speed: 1.5ms preprocess, 16.5ms inference, 1.5ms postprocess per image at shape (1, 3, 640, 640)\n",
            "Results saved to \u001b[1mruns/detect/predict2\u001b[0m\n",
            "\n",
            "image 1/1 /content/datasets/test/images/SNAG9-RADU-0029_png.rf.78aeb5ab8d037ccd12f13f18f981a901.jpg: 640x640 1 warn_wild_animals, 16.6ms\n",
            "Speed: 1.5ms preprocess, 16.6ms inference, 1.6ms postprocess per image at shape (1, 3, 640, 640)\n",
            "Results saved to \u001b[1mruns/detect/predict2\u001b[0m\n",
            "\n",
            "image 1/1 /content/datasets/test/images/SNAG9-RADU-0040_png.rf.3445488569724989c892213ed2608ef5.jpg: 640x640 1 info_one_way_traffic, 16.6ms\n",
            "Speed: 1.5ms preprocess, 16.6ms inference, 2.2ms postprocess per image at shape (1, 3, 640, 640)\n",
            "Results saved to \u001b[1mruns/detect/predict2\u001b[0m\n",
            "\n",
            "image 1/1 /content/datasets/test/images/SNAG9-RADU-0049_png.rf.0f102f3244d86069e04f7b5c840a3090.jpg: 640x640 1 forb_speed_over_80, 16.6ms\n",
            "Speed: 1.5ms preprocess, 16.6ms inference, 1.4ms postprocess per image at shape (1, 3, 640, 640)\n",
            "Results saved to \u001b[1mruns/detect/predict2\u001b[0m\n",
            "\n",
            "image 1/1 /content/datasets/test/images/SNAG9-RADU-0069_png.rf.e184ff5ce605163452da4a478fe8422b.jpg: 640x640 2 warn_wild_animalss, 16.7ms\n",
            "Speed: 1.5ms preprocess, 16.7ms inference, 1.9ms postprocess per image at shape (1, 3, 640, 640)\n",
            "Results saved to \u001b[1mruns/detect/predict2\u001b[0m\n",
            "\n",
            "image 1/1 /content/datasets/test/images/SNAG9-RADU-0087_png.rf.6b66d8e56285d976530f171e9f02355c.jpg: 640x640 (no detections), 16.7ms\n",
            "Speed: 1.6ms preprocess, 16.7ms inference, 0.7ms postprocess per image at shape (1, 3, 640, 640)\n",
            "Results saved to \u001b[1mruns/detect/predict2\u001b[0m\n",
            "\n",
            "image 1/1 /content/datasets/test/images/SNAG9-RADU-0097_png.rf.131780c9b9943666c0e3f3d001fb3712.jpg: 640x640 1 forb_weight_over_7.5t, 16.6ms\n",
            "Speed: 1.9ms preprocess, 16.6ms inference, 1.5ms postprocess per image at shape (1, 3, 640, 640)\n",
            "Results saved to \u001b[1mruns/detect/predict2\u001b[0m\n",
            "\n",
            "image 1/1 /content/datasets/test/images/SNAG9-RADU-0098_png.rf.33c88312e241a47b745c5d62f2256eaf.jpg: 640x640 (no detections), 16.6ms\n",
            "Speed: 1.5ms preprocess, 16.6ms inference, 0.6ms postprocess per image at shape (1, 3, 640, 640)\n",
            "Results saved to \u001b[1mruns/detect/predict2\u001b[0m\n",
            "\n",
            "image 1/1 /content/datasets/test/images/SNAG9-RADU-0102_png.rf.a573528d0700b7223179d480b6e4a8ec.jpg: 640x640 1 warn_poor_road_surface, 16.7ms\n",
            "Speed: 1.6ms preprocess, 16.7ms inference, 1.5ms postprocess per image at shape (1, 3, 640, 640)\n",
            "Results saved to \u001b[1mruns/detect/predict2\u001b[0m\n",
            "\n",
            "image 1/1 /content/datasets/test/images/SNAG9-RADU-0107_png.rf.7139f4ca232922b56132f4039fe14a7a.jpg: 640x640 1 warn_poor_road_surface, 16.7ms\n",
            "Speed: 1.5ms preprocess, 16.7ms inference, 1.6ms postprocess per image at shape (1, 3, 640, 640)\n",
            "Results saved to \u001b[1mruns/detect/predict2\u001b[0m\n",
            "\n",
            "image 1/1 /content/datasets/test/images/SNAG9-RADU-0119_png.rf.e5c09c49f97af4f78154334a0a18f52f.jpg: 640x640 1 forb_speed_over_80, 1 info_highway, 16.6ms\n",
            "Speed: 1.5ms preprocess, 16.6ms inference, 1.6ms postprocess per image at shape (1, 3, 640, 640)\n",
            "Results saved to \u001b[1mruns/detect/predict2\u001b[0m\n",
            "\n",
            "image 1/1 /content/datasets/test/images/SNAG9-RADU-0138_png.rf.22586e8e04dec10015fc561da1e3ec5c.jpg: 640x640 1 warn_other_dangers, 17.2ms\n",
            "Speed: 1.6ms preprocess, 17.2ms inference, 1.6ms postprocess per image at shape (1, 3, 640, 640)\n",
            "Results saved to \u001b[1mruns/detect/predict2\u001b[0m\n",
            "\n",
            "image 1/1 /content/datasets/test/images/SNAG9-RADU-0156_png.rf.c4eea5060f4b32be6fdc8886942ba984.jpg: 640x640 (no detections), 16.7ms\n",
            "Speed: 1.5ms preprocess, 16.7ms inference, 0.7ms postprocess per image at shape (1, 3, 640, 640)\n",
            "Results saved to \u001b[1mruns/detect/predict2\u001b[0m\n",
            "\n",
            "image 1/1 /content/datasets/test/images/SNAG9-RADU-0162_png.rf.48b9b793c77cb9306d55cd3c3e6aa89a.jpg: 640x640 1 forb_speed_over_130, 1 forb_speed_over_80, 1 info_highway, 16.6ms\n",
            "Speed: 1.5ms preprocess, 16.6ms inference, 2.4ms postprocess per image at shape (1, 3, 640, 640)\n",
            "Results saved to \u001b[1mruns/detect/predict2\u001b[0m\n",
            "\n",
            "image 1/1 /content/datasets/test/images/SNAG9-RADU-0163_png.rf.044cdbbd589e16221f04b75e35b4fd0d.jpg: 640x640 (no detections), 16.7ms\n",
            "Speed: 1.7ms preprocess, 16.7ms inference, 0.9ms postprocess per image at shape (1, 3, 640, 640)\n",
            "Results saved to \u001b[1mruns/detect/predict2\u001b[0m\n",
            "\n",
            "image 1/1 /content/datasets/test/images/SNAG9-RADU-0170_png.rf.9253f9cb4c856692c565d8c0064aae56.jpg: 640x640 (no detections), 16.8ms\n",
            "Speed: 1.8ms preprocess, 16.8ms inference, 0.7ms postprocess per image at shape (1, 3, 640, 640)\n",
            "Results saved to \u001b[1mruns/detect/predict2\u001b[0m\n",
            "\n",
            "image 1/1 /content/datasets/test/images/SNAG9-RADU-0190_png.rf.d49abc0a3d838c74a1cb3c1afcab274f.jpg: 640x640 (no detections), 16.7ms\n",
            "Speed: 1.5ms preprocess, 16.7ms inference, 0.9ms postprocess per image at shape (1, 3, 640, 640)\n",
            "Results saved to \u001b[1mruns/detect/predict2\u001b[0m\n",
            "\n",
            "image 1/1 /content/datasets/test/images/SNAG9-RADU-0191_png.rf.9081958a143f349610ae6a8d08177dc8.jpg: 640x640 (no detections), 16.6ms\n",
            "Speed: 1.7ms preprocess, 16.6ms inference, 0.8ms postprocess per image at shape (1, 3, 640, 640)\n",
            "Results saved to \u001b[1mruns/detect/predict2\u001b[0m\n",
            "\n",
            "image 1/1 /content/datasets/test/images/SNAG9-RADU-0226_png.rf.5c6adc0b66854d7ec0ca1a376fc17c80.jpg: 640x640 1 forb_speed_over_100, 16.7ms\n",
            "Speed: 1.6ms preprocess, 16.7ms inference, 1.5ms postprocess per image at shape (1, 3, 640, 640)\n",
            "Results saved to \u001b[1mruns/detect/predict2\u001b[0m\n",
            "\n",
            "image 1/1 /content/datasets/test/images/SNAG9-RADU-0234_png.rf.ef3c14f96c4e42bdf5d67fd6709ec0fc.jpg: 640x640 1 forb_speed_over_50, 1 forb_speed_over_60, 16.6ms\n",
            "Speed: 1.6ms preprocess, 16.6ms inference, 1.5ms postprocess per image at shape (1, 3, 640, 640)\n",
            "Results saved to \u001b[1mruns/detect/predict2\u001b[0m\n",
            "\n",
            "image 1/1 /content/datasets/test/images/SNAG9-RADU-0236_png.rf.16f770f86eb41ba55f70e12dd1443c30.jpg: 640x640 1 forb_speed_over_80, 16.7ms\n",
            "Speed: 1.5ms preprocess, 16.7ms inference, 1.6ms postprocess per image at shape (1, 3, 640, 640)\n",
            "Results saved to \u001b[1mruns/detect/predict2\u001b[0m\n",
            "\n",
            "image 1/1 /content/datasets/test/images/SNAG9-RADU-0238_png.rf.e76120b5ad1491a872daebf9fb8830b8.jpg: 640x640 1 forb_overtake, 16.7ms\n",
            "Speed: 1.6ms preprocess, 16.7ms inference, 1.7ms postprocess per image at shape (1, 3, 640, 640)\n",
            "Results saved to \u001b[1mruns/detect/predict2\u001b[0m\n",
            "\n",
            "image 1/1 /content/datasets/test/images/SNAG9-RADU-0240_png.rf.c62532b2b709fef7230260f763c7f9e6.jpg: 640x640 1 forb_overtake, 16.8ms\n",
            "Speed: 1.8ms preprocess, 16.8ms inference, 1.6ms postprocess per image at shape (1, 3, 640, 640)\n",
            "Results saved to \u001b[1mruns/detect/predict2\u001b[0m\n",
            "\n",
            "image 1/1 /content/datasets/test/images/SNAG9-RADU-0262_png.rf.f1a2bf0acc3ed68a140f6c32a9497599.jpg: 640x640 1 forb_right, 16.7ms\n",
            "Speed: 1.6ms preprocess, 16.7ms inference, 1.7ms postprocess per image at shape (1, 3, 640, 640)\n",
            "Results saved to \u001b[1mruns/detect/predict2\u001b[0m\n",
            "\n",
            "image 1/1 /content/datasets/test/images/SNAG9-RADU-0269_png.rf.1d883aff84a48b740888295597ce26d5.jpg: 640x640 1 forb_speed_over_100, 16.6ms\n",
            "Speed: 1.7ms preprocess, 16.6ms inference, 1.7ms postprocess per image at shape (1, 3, 640, 640)\n",
            "Results saved to \u001b[1mruns/detect/predict2\u001b[0m\n",
            "\n",
            "image 1/1 /content/datasets/test/images/SNAG9-RADU-0271_png.rf.4e005fc71f1c65d36e1676a108992dd3.jpg: 640x640 1 forb_speed_over_100, 16.6ms\n",
            "Speed: 1.7ms preprocess, 16.6ms inference, 1.5ms postprocess per image at shape (1, 3, 640, 640)\n",
            "Results saved to \u001b[1mruns/detect/predict2\u001b[0m\n",
            "\n",
            "image 1/1 /content/datasets/test/images/SNAG9-RADU-0289_png.rf.17862ab80b6c4962f829275f7dd9c769.jpg: 640x640 1 info_one_way_traffic, 17.4ms\n",
            "Speed: 1.5ms preprocess, 17.4ms inference, 2.5ms postprocess per image at shape (1, 3, 640, 640)\n",
            "Results saved to \u001b[1mruns/detect/predict2\u001b[0m\n",
            "\n",
            "image 1/1 /content/datasets/test/images/SNAG9-RADU-0290_png.rf.a8a10c4c54b266923b714b24c103745b.jpg: 640x640 (no detections), 16.7ms\n",
            "Speed: 1.6ms preprocess, 16.7ms inference, 0.7ms postprocess per image at shape (1, 3, 640, 640)\n",
            "Results saved to \u001b[1mruns/detect/predict2\u001b[0m\n",
            "\n",
            "image 1/1 /content/datasets/test/images/SNAG9-RADU-0297_png.rf.0f5357850bf73211d4d146582c97bff0.jpg: 640x640 (no detections), 16.7ms\n",
            "Speed: 1.6ms preprocess, 16.7ms inference, 0.8ms postprocess per image at shape (1, 3, 640, 640)\n",
            "Results saved to \u001b[1mruns/detect/predict2\u001b[0m\n",
            "\n",
            "image 1/1 /content/datasets/test/images/SNAG9-RADU-0304_png.rf.08a80c3e477cd74d1708f8a8d7322740.jpg: 640x640 1 forb_speed_over_90, 17.4ms\n",
            "Speed: 1.6ms preprocess, 17.4ms inference, 1.6ms postprocess per image at shape (1, 3, 640, 640)\n",
            "Results saved to \u001b[1mruns/detect/predict2\u001b[0m\n",
            "\n",
            "image 1/1 /content/datasets/test/images/SNAG9-RADU-0317_png.rf.8d0b6911bcac7e986b84ba921936530a.jpg: 640x640 1 forb_speed_over_130, 1 forb_speed_over_80, 1 info_highway, 16.6ms\n",
            "Speed: 1.6ms preprocess, 16.6ms inference, 1.6ms postprocess per image at shape (1, 3, 640, 640)\n",
            "Results saved to \u001b[1mruns/detect/predict2\u001b[0m\n",
            "\n",
            "image 1/1 /content/datasets/test/images/SNAG9-RADU-0318_png.rf.23be72b6b86eaf5743e062f9d2be4755.jpg: 640x640 1 forb_overtake, 16.6ms\n",
            "Speed: 1.5ms preprocess, 16.6ms inference, 1.6ms postprocess per image at shape (1, 3, 640, 640)\n",
            "Results saved to \u001b[1mruns/detect/predict2\u001b[0m\n",
            "\n",
            "image 1/1 /content/datasets/test/images/SNAG9-RADU-0331_png.rf.ad6bd222af377781d666bb319d74532b.jpg: 640x640 (no detections), 16.6ms\n",
            "Speed: 1.7ms preprocess, 16.6ms inference, 0.7ms postprocess per image at shape (1, 3, 640, 640)\n",
            "Results saved to \u001b[1mruns/detect/predict2\u001b[0m\n",
            "\n",
            "image 1/1 /content/datasets/test/images/SNAG9-RADU-0335_png.rf.87357094601e0263b3f773cab87f206f.jpg: 640x640 1 info_one_way_traffic, 1 prio_priority_road, 16.7ms\n",
            "Speed: 1.6ms preprocess, 16.7ms inference, 1.6ms postprocess per image at shape (1, 3, 640, 640)\n",
            "Results saved to \u001b[1mruns/detect/predict2\u001b[0m\n"
          ]
        }
      ],
      "source": [
        "# Use YOLO to predict the testing data\n",
        "\n",
        "cntr = 0\n",
        "images_path = []\n",
        "predicted_bboxes = []\n",
        "predicted_classes = []\n",
        "actual_bboxes = []\n",
        "actual_classes = []\n",
        "\n",
        "final_pred_bbox = []\n",
        "final_actual_bbox = []\n",
        "final_actual_classes = []\n",
        "final_bbox_loss = []\n",
        "final_bbox_accuracy = []\n",
        "\n",
        "test_images = '/content/datasets/test/images'\n",
        "test_annotations = '/content/datasets/test/labels'\n",
        "\n",
        "test_image_files = os.listdir(test_images)\n",
        "test_annotation_files = os.listdir(test_annotations)\n",
        "\n",
        "test_image_files.sort()\n",
        "test_annotation_files.sort()\n",
        "\n",
        "for image_file, annotation_file in zip(test_image_files, test_annotation_files):\n",
        "\n",
        "    image_path = os.path.join(test_images, image_file)\n",
        "    annotation_path = os.path.join(test_annotations, annotation_file)\n",
        "\n",
        "    images_path.append(image_path)\n",
        "\n",
        "    image = cv2.imread(image_path)\n",
        "    bboxes, classes = parse_yolo_annotation(annotation_path)\n",
        "\n",
        "    results = yolo_model.predict(image_path, imgsz=640, conf=0.5, save=True)\n",
        "\n",
        "    for r in results:\n",
        "        predicted_bboxes.append(r.boxes.xywhn)\n",
        "\n",
        "    actual_bboxes.append(torch.tensor(bboxes))\n",
        "    actual_classes.append(classes)\n",
        "\n",
        "    actual_boxes = actual_bboxes[cntr]\n",
        "    predicted_boxes = predicted_bboxes[cntr]\n",
        "\n",
        "    best_bbox_match_loss, best_bbox_match_accuracy, best_bbox_match_pred, best_bbox_match_actual, mapped_actual_classes = mapping_and_computing_loss_and_accuracy(predicted_boxes, actual_boxes,actual_classes[cntr])\n",
        "\n",
        "    final_pred_bbox.append(best_bbox_match_pred)\n",
        "    final_actual_bbox.append(best_bbox_match_actual)\n",
        "\n",
        "    final_actual_classes.append(mapped_actual_classes)\n",
        "    final_bbox_accuracy.append(best_bbox_match_accuracy)\n",
        "    final_bbox_loss.append(best_bbox_match_loss)\n",
        "\n",
        "    cntr+=1\n"
      ]
    },
    {
      "cell_type": "code",
      "execution_count": 12,
      "metadata": {
        "colab": {
          "base_uri": "https://localhost:8080/",
          "height": 564
        },
        "id": "HRPs9LndvFjb",
        "outputId": "fe80a4c2-db58-49ea-a634-dfc061b13841"
      },
      "outputs": [
        {
          "output_type": "display_data",
          "data": {
            "text/plain": [
              "<Figure size 1000x600 with 1 Axes>"
            ],
            "image/png": "[encoded data removed]"
          },
          "metadata": {}
        }
      ],
      "source": [
        "# Distribution of Detected object's accuracy\n",
        "\n",
        "average_obj_accuracies = [np.mean(obj_acc) if obj_acc else np.nan for obj_acc in final_bbox_accuracy]\n",
        "\n",
        "plt.figure(figsize=(10, 6))\n",
        "plt.bar(range(1,len(average_obj_accuracies)+ 1), average_obj_accuracies)\n",
        "plt.title(\"Average Bounding Box Accuracy of Detected Objects\")\n",
        "plt.xlabel(\"Objects\")\n",
        "plt.ylabel(\"Accuracy\")\n",
        "plt.grid(axis='y')\n",
        "plt.show()"
      ]
    },
    {
      "cell_type": "code",
      "execution_count": 13,
      "metadata": {
        "colab": {
          "base_uri": "https://localhost:8080/",
          "height": 564
        },
        "id": "LS3ustGyv1cB",
        "outputId": "5808645f-09da-481f-e836-a22404ae395d"
      },
      "outputs": [
        {
          "output_type": "display_data",
          "data": {
            "text/plain": [
              "<Figure size 1000x600 with 1 Axes>"
            ],
            "image/png": "[encoded data removed]"
          },
          "metadata": {}
        }
      ],
      "source": [
        "# Distribution of Detected object's loss\n",
        "\n",
        "average_obj_losses = [np.mean(obj_loss) if obj_loss else np.nan for obj_loss in final_bbox_loss]\n",
        "\n",
        "plt.figure(figsize=(10, 6))\n",
        "plt.bar(range(1,len(average_obj_losses)+ 1), average_obj_losses)\n",
        "plt.title(\"Average Bounding Box loss of Detected Objects\")\n",
        "plt.xlabel(\"Objects\")\n",
        "plt.ylabel(\"Loss\")\n",
        "plt.grid(axis='y')\n",
        "plt.show()"
      ]
    },
    {
      "cell_type": "code",
      "execution_count": 90,
      "metadata": {
        "id": "ZL80wKP1wfhF"
      },
      "outputs": [],
      "source": [
        "# Save the Detected objects\n",
        "\n",
        "cropped_images = []\n",
        "\n",
        "cropped_images_folder = \"/content/cropped_images_after_yolo\"\n",
        "\n",
        "if not os.path.exists(cropped_images_folder):\n",
        "   os.makedirs(cropped_images_folder)\n",
        "\n",
        "for i, (image_path, bboxes) in enumerate(zip(images_path, final_pred_bbox)):\n",
        "\n",
        "    image = cv2.imread(image_path)\n",
        "    image_name, _ = os.path.splitext(os.path.basename(image_path))\n",
        "\n",
        "    for j,bbox in enumerate(bboxes):\n",
        "\n",
        "        x, y, w, h = map(float, bbox.tolist())\n",
        "        x1 = int((x - w / 2) * image.shape[1])\n",
        "        y1 = int((y - h / 2) * image.shape[0])\n",
        "        x2 = int((x + w / 2) * image.shape[1])\n",
        "        y2 = int((y + h / 2) * image.shape[0])\n",
        "\n",
        "        roi = image[y1:y2,x1:x2]\n",
        "        if roi.size == 0:\n",
        "           continue\n",
        "\n",
        "        output_path = os.path.join(cropped_images_folder, f\"{image_name}_object_{j}.jpg\")\n",
        "        cropped_images.append(output_path)\n",
        "        cv2.imwrite(output_path, roi)"
      ]
    },
    {
      "cell_type": "code",
      "execution_count": 91,
      "metadata": {
        "id": "274i1wypyZH4"
      },
      "outputs": [],
      "source": [
        "# Defining the transformations applied in classifier models\n",
        "\n",
        "transform = transforms.Compose([\n",
        "    transforms.ToPILImage(),\n",
        "    transforms.Resize((40,40)),\n",
        "    transforms.ToTensor(),\n",
        "    transforms.Normalize(0.5,0.5),\n",
        "    transforms.GaussianBlur(kernel_size=3, sigma=(0.1, 2.0))\n",
        "])"
      ]
    },
    {
      "cell_type": "code",
      "execution_count": 103,
      "metadata": {
        "colab": {
          "base_uri": "https://localhost:8080/"
        },
        "id": "Sxiic6Wwync-",
        "outputId": "202d4ae1-7292-4c04-cb45-c65174e04db8"
      },
      "outputs": [
        {
          "output_type": "stream",
          "name": "stdout",
          "text": [
            "Each image is of shape :  torch.Size([3, 40, 40])\n"
          ]
        }
      ],
      "source": [
        "# Transforming the cropped images and storing it as tensors\n",
        "\n",
        "image_tensors = []\n",
        "\n",
        "for image_path in cropped_images:\n",
        "    image = cv2.imread(image_path)\n",
        "    image = cv2.cvtColor(image,cv2.COLOR_BGR2RGB)\n",
        "    image_tensor = transform(image)\n",
        "    image_tensors.append(image_tensor)\n",
        "print(\"Each image is of shape : \", image_tensors[0].shape)"
      ]
    },
    {
      "cell_type": "markdown",
      "metadata": {
        "id": "EkO43jxE3Fae"
      },
      "source": [
        "# **Vision Transformer X Resnet Concatenator Model**"
      ]
    },
    {
      "cell_type": "code",
      "execution_count": 45,
      "metadata": {
        "id": "pRWuAvQVWQwi",
        "colab": {
          "base_uri": "https://localhost:8080/"
        },
        "outputId": "01570646-9fc9-46e2-b849-da0f0ed061c4"
      },
      "outputs": [
        {
          "output_type": "stream",
          "name": "stderr",
          "text": [
            "/usr/local/lib/python3.10/dist-packages/torch/nn/modules/transformer.py:286: UserWarning: enable_nested_tensor is True, but self.use_nested_tensor is False because encoder_layer.self_attn.batch_first was not True(use batch_first for better inference performance)\n",
            "  warnings.warn(f\"enable_nested_tensor is True, but self.use_nested_tensor is False because {why_not_sparsity_fast_path}\")\n"
          ]
        }
      ],
      "source": [
        "# Resnet 34 model which returns the embedding dimension\n",
        "import torch\n",
        "import torch.nn as nn\n",
        "\n",
        "class ResidualBlock(nn.Module):\n",
        "    def __init__(self, in_channels, out_channels, stride=1, downsample=None):\n",
        "        super(ResidualBlock, self).__init__()\n",
        "        self.conv1 = nn.Conv2d(in_channels, out_channels, kernel_size=3, stride=stride, padding=1, bias=False)\n",
        "        self.bn1 = nn.BatchNorm2d(out_channels)\n",
        "        self.relu = nn.ReLU(inplace=True)\n",
        "        self.conv2 = nn.Conv2d(out_channels, out_channels, kernel_size=3, stride=1, padding=1, bias=False)\n",
        "        self.bn2 = nn.BatchNorm2d(out_channels)\n",
        "        self.downsample = downsample\n",
        "\n",
        "    def forward(self, x):\n",
        "        identity = x\n",
        "\n",
        "        out = self.conv1(x)\n",
        "        out = self.bn1(out)\n",
        "        out = self.relu(out)\n",
        "\n",
        "        out = self.conv2(out)\n",
        "        out = self.bn2(out)\n",
        "\n",
        "        if self.downsample is not None:\n",
        "            identity = self.downsample(x)\n",
        "\n",
        "        out += identity\n",
        "        out = self.relu(out)\n",
        "        return out\n",
        "\n",
        "class ResNet34(nn.Module):\n",
        "    def __init__(self, num_classes=169):\n",
        "        super(ResNet34, self).__init__()\n",
        "\n",
        "        self.block1 = nn.Sequential(\n",
        "            nn.Conv2d(3, 64, kernel_size=7, stride=2, padding=3, bias=False),\n",
        "            nn.BatchNorm2d(64),\n",
        "            nn.ReLU(inplace=True),\n",
        "            nn.MaxPool2d(kernel_size=3, stride=2, padding=1)\n",
        "        )\n",
        "\n",
        "        self.block2 = self._make_layer(64, 64, 3)\n",
        "        self.block3 = self._make_layer(64, 128, 4, stride=2)\n",
        "        self.block4 = self._make_layer(128, 256, 6, stride=2)\n",
        "        self.block5 = self._make_layer(256, 512, 3, stride=2)\n",
        "\n",
        "        self.avgpool = nn.AdaptiveAvgPool2d((1, 1))\n",
        "        self.fc = nn.Linear(512, num_classes)\n",
        "\n",
        "    def _make_layer(self, in_channels, out_channels, blocks, stride=1):\n",
        "        downsample = None\n",
        "        if stride != 1 or in_channels != out_channels:\n",
        "            downsample = nn.Sequential(\n",
        "                nn.Conv2d(in_channels, out_channels, kernel_size=1, stride=stride, bias=False),\n",
        "                nn.BatchNorm2d(out_channels)\n",
        "            )\n",
        "\n",
        "        layers = []\n",
        "        layers.append(ResidualBlock(in_channels, out_channels, stride, downsample))\n",
        "        for _ in range(1, blocks):\n",
        "            layers.append(ResidualBlock(out_channels, out_channels))\n",
        "\n",
        "        return nn.Sequential(*layers)\n",
        "\n",
        "    def forward(self, x):\n",
        "        x = self.block1(x)\n",
        "        x = self.block2(x)\n",
        "        x = self.block3(x)\n",
        "        x = self.block4(x)\n",
        "        x = self.block5(x)\n",
        "        x = self.avgpool(x)\n",
        "        x = torch.flatten(x, 1)\n",
        "        x = self.fc(x)\n",
        "        return x\n",
        "\n",
        "resnet_model_con = ResNet34().to(device)\n",
        "\n",
        "# Vision Transformer Model - This model returns the embedding dimension\n",
        "\n",
        "class VisionTransformer_Model(nn.Module):\n",
        "    def __init__(self, in_channels, img_size,embedding_dim, num_attention_heads, patch_size, num_layers):\n",
        "        super(VisionTransformer_Model, self).__init__()\n",
        "\n",
        "        self.patch_embedding = nn.Sequential(\n",
        "            nn.Conv2d(in_channels, embedding_dim , kernel_size=patch_size, stride=patch_size),\n",
        "            nn.BatchNorm2d(embedding_dim),\n",
        "            nn.Flatten(2)\n",
        "        )\n",
        "\n",
        "        self.encoder = nn.TransformerEncoder(\n",
        "            nn.TransformerEncoderLayer(d_model=embedding_dim, nhead=num_attention_heads), num_layers = num_layers\n",
        "        )\n",
        "\n",
        "    def forward(self, x):\n",
        "        x = self.patch_embedding(x)\n",
        "        x = self.encoder(x)\n",
        "        x = x.mean(dim=1)\n",
        "        return x\n",
        "\n",
        "in_channels = 3\n",
        "img_size = 40\n",
        "embedding_dim_vision = 13 * 13\n",
        "num_attention_heads = 13\n",
        "patch_size = 3\n",
        "num_layers = 12\n",
        "\n",
        "vit_model_con = VisionTransformer_Model(in_channels, img_size,embedding_dim_vision, num_attention_heads, patch_size, num_layers).to(device)\n"
      ]
    },
    {
      "cell_type": "code",
      "execution_count": 46,
      "metadata": {
        "colab": {
          "base_uri": "https://localhost:8080/"
        },
        "id": "muKXWLJuKbbd",
        "outputId": "2c90c48f-8045-44a8-c216-6237242031ba"
      },
      "outputs": [
        {
          "output_type": "execute_result",
          "data": {
            "text/plain": [
              "VisionTransformer_ResNet_Concatenator(\n",
              "  (vision_model): VisionTransformer_Model(\n",
              "    (patch_embedding): Sequential(\n",
              "      (0): Conv2d(3, 169, kernel_size=(3, 3), stride=(3, 3))\n",
              "      (1): BatchNorm2d(169, eps=1e-05, momentum=0.1, affine=True, track_running_stats=True)\n",
              "      (2): Flatten(start_dim=2, end_dim=-1)\n",
              "    )\n",
              "    (encoder): TransformerEncoder(\n",
              "      (layers): ModuleList(\n",
              "        (0-11): 12 x TransformerEncoderLayer(\n",
              "          (self_attn): MultiheadAttention(\n",
              "            (out_proj): NonDynamicallyQuantizableLinear(in_features=169, out_features=169, bias=True)\n",
              "          )\n",
              "          (linear1): Linear(in_features=169, out_features=2048, bias=True)\n",
              "          (dropout): Dropout(p=0.1, inplace=False)\n",
              "          (linear2): Linear(in_features=2048, out_features=169, bias=True)\n",
              "          (norm1): LayerNorm((169,), eps=1e-05, elementwise_affine=True)\n",
              "          (norm2): LayerNorm((169,), eps=1e-05, elementwise_affine=True)\n",
              "          (dropout1): Dropout(p=0.1, inplace=False)\n",
              "          (dropout2): Dropout(p=0.1, inplace=False)\n",
              "        )\n",
              "      )\n",
              "    )\n",
              "  )\n",
              "  (resnet_model): ResNet34(\n",
              "    (block1): Sequential(\n",
              "      (0): Conv2d(3, 64, kernel_size=(7, 7), stride=(2, 2), padding=(3, 3), bias=False)\n",
              "      (1): BatchNorm2d(64, eps=1e-05, momentum=0.1, affine=True, track_running_stats=True)\n",
              "      (2): ReLU(inplace=True)\n",
              "      (3): MaxPool2d(kernel_size=3, stride=2, padding=1, dilation=1, ceil_mode=False)\n",
              "    )\n",
              "    (block2): Sequential(\n",
              "      (0): ResidualBlock(\n",
              "        (conv1): Conv2d(64, 64, kernel_size=(3, 3), stride=(1, 1), padding=(1, 1), bias=False)\n",
              "        (bn1): BatchNorm2d(64, eps=1e-05, momentum=0.1, affine=True, track_running_stats=True)\n",
              "        (relu): ReLU(inplace=True)\n",
              "        (conv2): Conv2d(64, 64, kernel_size=(3, 3), stride=(1, 1), padding=(1, 1), bias=False)\n",
              "        (bn2): BatchNorm2d(64, eps=1e-05, momentum=0.1, affine=True, track_running_stats=True)\n",
              "      )\n",
              "      (1): ResidualBlock(\n",
              "        (conv1): Conv2d(64, 64, kernel_size=(3, 3), stride=(1, 1), padding=(1, 1), bias=False)\n",
              "        (bn1): BatchNorm2d(64, eps=1e-05, momentum=0.1, affine=True, track_running_stats=True)\n",
              "        (relu): ReLU(inplace=True)\n",
              "        (conv2): Conv2d(64, 64, kernel_size=(3, 3), stride=(1, 1), padding=(1, 1), bias=False)\n",
              "        (bn2): BatchNorm2d(64, eps=1e-05, momentum=0.1, affine=True, track_running_stats=True)\n",
              "      )\n",
              "      (2): ResidualBlock(\n",
              "        (conv1): Conv2d(64, 64, kernel_size=(3, 3), stride=(1, 1), padding=(1, 1), bias=False)\n",
              "        (bn1): BatchNorm2d(64, eps=1e-05, momentum=0.1, affine=True, track_running_stats=True)\n",
              "        (relu): ReLU(inplace=True)\n",
              "        (conv2): Conv2d(64, 64, kernel_size=(3, 3), stride=(1, 1), padding=(1, 1), bias=False)\n",
              "        (bn2): BatchNorm2d(64, eps=1e-05, momentum=0.1, affine=True, track_running_stats=True)\n",
              "      )\n",
              "    )\n",
              "    (block3): Sequential(\n",
              "      (0): ResidualBlock(\n",
              "        (conv1): Conv2d(64, 128, kernel_size=(3, 3), stride=(2, 2), padding=(1, 1), bias=False)\n",
              "        (bn1): BatchNorm2d(128, eps=1e-05, momentum=0.1, affine=True, track_running_stats=True)\n",
              "        (relu): ReLU(inplace=True)\n",
              "        (conv2): Conv2d(128, 128, kernel_size=(3, 3), stride=(1, 1), padding=(1, 1), bias=False)\n",
              "        (bn2): BatchNorm2d(128, eps=1e-05, momentum=0.1, affine=True, track_running_stats=True)\n",
              "        (downsample): Sequential(\n",
              "          (0): Conv2d(64, 128, kernel_size=(1, 1), stride=(2, 2), bias=False)\n",
              "          (1): BatchNorm2d(128, eps=1e-05, momentum=0.1, affine=True, track_running_stats=True)\n",
              "        )\n",
              "      )\n",
              "      (1): ResidualBlock(\n",
              "        (conv1): Conv2d(128, 128, kernel_size=(3, 3), stride=(1, 1), padding=(1, 1), bias=False)\n",
              "        (bn1): BatchNorm2d(128, eps=1e-05, momentum=0.1, affine=True, track_running_stats=True)\n",
              "        (relu): ReLU(inplace=True)\n",
              "        (conv2): Conv2d(128, 128, kernel_size=(3, 3), stride=(1, 1), padding=(1, 1), bias=False)\n",
              "        (bn2): BatchNorm2d(128, eps=1e-05, momentum=0.1, affine=True, track_running_stats=True)\n",
              "      )\n",
              "      (2): ResidualBlock(\n",
              "        (conv1): Conv2d(128, 128, kernel_size=(3, 3), stride=(1, 1), padding=(1, 1), bias=False)\n",
              "        (bn1): BatchNorm2d(128, eps=1e-05, momentum=0.1, affine=True, track_running_stats=True)\n",
              "        (relu): ReLU(inplace=True)\n",
              "        (conv2): Conv2d(128, 128, kernel_size=(3, 3), stride=(1, 1), padding=(1, 1), bias=False)\n",
              "        (bn2): BatchNorm2d(128, eps=1e-05, momentum=0.1, affine=True, track_running_stats=True)\n",
              "      )\n",
              "      (3): ResidualBlock(\n",
              "        (conv1): Conv2d(128, 128, kernel_size=(3, 3), stride=(1, 1), padding=(1, 1), bias=False)\n",
              "        (bn1): BatchNorm2d(128, eps=1e-05, momentum=0.1, affine=True, track_running_stats=True)\n",
              "        (relu): ReLU(inplace=True)\n",
              "        (conv2): Conv2d(128, 128, kernel_size=(3, 3), stride=(1, 1), padding=(1, 1), bias=False)\n",
              "        (bn2): BatchNorm2d(128, eps=1e-05, momentum=0.1, affine=True, track_running_stats=True)\n",
              "      )\n",
              "    )\n",
              "    (block4): Sequential(\n",
              "      (0): ResidualBlock(\n",
              "        (conv1): Conv2d(128, 256, kernel_size=(3, 3), stride=(2, 2), padding=(1, 1), bias=False)\n",
              "        (bn1): BatchNorm2d(256, eps=1e-05, momentum=0.1, affine=True, track_running_stats=True)\n",
              "        (relu): ReLU(inplace=True)\n",
              "        (conv2): Conv2d(256, 256, kernel_size=(3, 3), stride=(1, 1), padding=(1, 1), bias=False)\n",
              "        (bn2): BatchNorm2d(256, eps=1e-05, momentum=0.1, affine=True, track_running_stats=True)\n",
              "        (downsample): Sequential(\n",
              "          (0): Conv2d(128, 256, kernel_size=(1, 1), stride=(2, 2), bias=False)\n",
              "          (1): BatchNorm2d(256, eps=1e-05, momentum=0.1, affine=True, track_running_stats=True)\n",
              "        )\n",
              "      )\n",
              "      (1): ResidualBlock(\n",
              "        (conv1): Conv2d(256, 256, kernel_size=(3, 3), stride=(1, 1), padding=(1, 1), bias=False)\n",
              "        (bn1): BatchNorm2d(256, eps=1e-05, momentum=0.1, affine=True, track_running_stats=True)\n",
              "        (relu): ReLU(inplace=True)\n",
              "        (conv2): Conv2d(256, 256, kernel_size=(3, 3), stride=(1, 1), padding=(1, 1), bias=False)\n",
              "        (bn2): BatchNorm2d(256, eps=1e-05, momentum=0.1, affine=True, track_running_stats=True)\n",
              "      )\n",
              "      (2): ResidualBlock(\n",
              "        (conv1): Conv2d(256, 256, kernel_size=(3, 3), stride=(1, 1), padding=(1, 1), bias=False)\n",
              "        (bn1): BatchNorm2d(256, eps=1e-05, momentum=0.1, affine=True, track_running_stats=True)\n",
              "        (relu): ReLU(inplace=True)\n",
              "        (conv2): Conv2d(256, 256, kernel_size=(3, 3), stride=(1, 1), padding=(1, 1), bias=False)\n",
              "        (bn2): BatchNorm2d(256, eps=1e-05, momentum=0.1, affine=True, track_running_stats=True)\n",
              "      )\n",
              "      (3): ResidualBlock(\n",
              "        (conv1): Conv2d(256, 256, kernel_size=(3, 3), stride=(1, 1), padding=(1, 1), bias=False)\n",
              "        (bn1): BatchNorm2d(256, eps=1e-05, momentum=0.1, affine=True, track_running_stats=True)\n",
              "        (relu): ReLU(inplace=True)\n",
              "        (conv2): Conv2d(256, 256, kernel_size=(3, 3), stride=(1, 1), padding=(1, 1), bias=False)\n",
              "        (bn2): BatchNorm2d(256, eps=1e-05, momentum=0.1, affine=True, track_running_stats=True)\n",
              "      )\n",
              "      (4): ResidualBlock(\n",
              "        (conv1): Conv2d(256, 256, kernel_size=(3, 3), stride=(1, 1), padding=(1, 1), bias=False)\n",
              "        (bn1): BatchNorm2d(256, eps=1e-05, momentum=0.1, affine=True, track_running_stats=True)\n",
              "        (relu): ReLU(inplace=True)\n",
              "        (conv2): Conv2d(256, 256, kernel_size=(3, 3), stride=(1, 1), padding=(1, 1), bias=False)\n",
              "        (bn2): BatchNorm2d(256, eps=1e-05, momentum=0.1, affine=True, track_running_stats=True)\n",
              "      )\n",
              "      (5): ResidualBlock(\n",
              "        (conv1): Conv2d(256, 256, kernel_size=(3, 3), stride=(1, 1), padding=(1, 1), bias=False)\n",
              "        (bn1): BatchNorm2d(256, eps=1e-05, momentum=0.1, affine=True, track_running_stats=True)\n",
              "        (relu): ReLU(inplace=True)\n",
              "        (conv2): Conv2d(256, 256, kernel_size=(3, 3), stride=(1, 1), padding=(1, 1), bias=False)\n",
              "        (bn2): BatchNorm2d(256, eps=1e-05, momentum=0.1, affine=True, track_running_stats=True)\n",
              "      )\n",
              "    )\n",
              "    (block5): Sequential(\n",
              "      (0): ResidualBlock(\n",
              "        (conv1): Conv2d(256, 512, kernel_size=(3, 3), stride=(2, 2), padding=(1, 1), bias=False)\n",
              "        (bn1): BatchNorm2d(512, eps=1e-05, momentum=0.1, affine=True, track_running_stats=True)\n",
              "        (relu): ReLU(inplace=True)\n",
              "        (conv2): Conv2d(512, 512, kernel_size=(3, 3), stride=(1, 1), padding=(1, 1), bias=False)\n",
              "        (bn2): BatchNorm2d(512, eps=1e-05, momentum=0.1, affine=True, track_running_stats=True)\n",
              "        (downsample): Sequential(\n",
              "          (0): Conv2d(256, 512, kernel_size=(1, 1), stride=(2, 2), bias=False)\n",
              "          (1): BatchNorm2d(512, eps=1e-05, momentum=0.1, affine=True, track_running_stats=True)\n",
              "        )\n",
              "      )\n",
              "      (1): ResidualBlock(\n",
              "        (conv1): Conv2d(512, 512, kernel_size=(3, 3), stride=(1, 1), padding=(1, 1), bias=False)\n",
              "        (bn1): BatchNorm2d(512, eps=1e-05, momentum=0.1, affine=True, track_running_stats=True)\n",
              "        (relu): ReLU(inplace=True)\n",
              "        (conv2): Conv2d(512, 512, kernel_size=(3, 3), stride=(1, 1), padding=(1, 1), bias=False)\n",
              "        (bn2): BatchNorm2d(512, eps=1e-05, momentum=0.1, affine=True, track_running_stats=True)\n",
              "      )\n",
              "      (2): ResidualBlock(\n",
              "        (conv1): Conv2d(512, 512, kernel_size=(3, 3), stride=(1, 1), padding=(1, 1), bias=False)\n",
              "        (bn1): BatchNorm2d(512, eps=1e-05, momentum=0.1, affine=True, track_running_stats=True)\n",
              "        (relu): ReLU(inplace=True)\n",
              "        (conv2): Conv2d(512, 512, kernel_size=(3, 3), stride=(1, 1), padding=(1, 1), bias=False)\n",
              "        (bn2): BatchNorm2d(512, eps=1e-05, momentum=0.1, affine=True, track_running_stats=True)\n",
              "      )\n",
              "    )\n",
              "    (avgpool): AdaptiveAvgPool2d(output_size=(1, 1))\n",
              "    (fc): Linear(in_features=512, out_features=169, bias=True)\n",
              "  )\n",
              "  (conv1d): Conv1d(338, 128, kernel_size=(1,), stride=(1,))\n",
              "  (fc): Linear(in_features=128, out_features=55, bias=True)\n",
              ")"
            ]
          },
          "metadata": {},
          "execution_count": 46
        }
      ],
      "source": [
        "# Concatenated Vision Transformer and Resnet Model\n",
        "\n",
        "class VisionTransformer_ResNet_Concatenator(nn.Module):\n",
        "    def __init__(self, vision_model, resnet_model, conv1d_out_channels, num_classes):\n",
        "        super(VisionTransformer_ResNet_Concatenator, self).__init__()\n",
        "        self.vision_model = vision_model\n",
        "        self.resnet_model = resnet_model\n",
        "        self.conv1d_out_channels = conv1d_out_channels\n",
        "        with torch.no_grad():\n",
        "            resnet_output_dim = resnet_model(torch.zeros(1, 3, 40, 40).to(device)).shape[1]\n",
        "            vit_output_dim = vision_model(torch.zeros(1, 3, 40, 40).to(device)).shape[1]\n",
        "        self.concat_dim = vit_output_dim + resnet_output_dim\n",
        "        self.conv1d = nn.Conv1d(self.concat_dim, conv1d_out_channels, kernel_size=1)\n",
        "        self.fc = nn.Linear(conv1d_out_channels, num_classes)\n",
        "\n",
        "    def forward(self, x):\n",
        "        vit_output = self.vision_model(x)\n",
        "        resnet_output = self.resnet_model(x)\n",
        "        concatenated_output = torch.cat((vit_output, resnet_output), dim=1)\n",
        "        concatenated_output = concatenated_output.unsqueeze(2)\n",
        "        concatenated_output = concatenated_output.permute(0, 1, 2)\n",
        "        conv1d_output = self.conv1d(concatenated_output)\n",
        "        conv1d_output = conv1d_output.squeeze(2)\n",
        "        output = self.fc(conv1d_output)\n",
        "        return output\n",
        "\n",
        "num_classes = 55\n",
        "conv1d_out_channels = 128\n",
        "\n",
        "vit_resnet_model = VisionTransformer_ResNet_Concatenator(vit_model_con, resnet_model_con, conv1d_out_channels, num_classes).to(device)\n",
        "vit_resnet_model_path = \"vit_resnet_model.pth\"\n",
        "vit_resnet_model.load_state_dict(torch.load(vit_resnet_model_path))\n",
        "vit_resnet_model.eval()"
      ]
    },
    {
      "cell_type": "code",
      "execution_count": 47,
      "metadata": {
        "colab": {
          "base_uri": "https://localhost:8080/"
        },
        "id": "mBasQSGTBN_I",
        "outputId": "95c6f36f-6ec4-4759-c6d1-ea0b27ce5934"
      },
      "outputs": [
        {
          "output_type": "stream",
          "name": "stdout",
          "text": [
            "Accuracy of the ViT X Resnet classifier on the test images: 95.62%\n"
          ]
        }
      ],
      "source": [
        "# Classify the objects using classifier\n",
        "\n",
        "final_actual_classes_flat = []\n",
        "final_actual_classes_tensor = []\n",
        "\n",
        "final_actual_classes_flat = [i for sublist in final_actual_classes for i in sublist]\n",
        "final_actual_classes_tensor = [torch.tensor(i) for i in final_actual_classes_flat]\n",
        "\n",
        "predictions = []\n",
        "criterion = nn.CrossEntropyLoss()\n",
        "num_classes = 55\n",
        "\n",
        "image_tensors_cpy = [tensor.to(device) for tensor in image_tensors]\n",
        "\n",
        "for i in range(len(image_tensors_cpy)):\n",
        "    with torch.no_grad():\n",
        "        outputs = vit_resnet_model(image_tensors_cpy[i].unsqueeze(0)).to(device)\n",
        "        Prob = nn.Softmax(dim=1)(outputs)\n",
        "        Y_pred = Prob.argmax(1).int()\n",
        "        predictions.append(Y_pred.item())\n",
        "\n",
        "correct_predictions = sum(1 for i, j in zip(predictions,final_actual_classes_tensor) if i == j)\n",
        "class_accuracy = (correct_predictions/len(predictions)) * 100\n",
        "\n",
        "print(f'Accuracy of the ViT X Resnet classifier on the test images: {class_accuracy:.2f}%')"
      ]
    },
    {
      "cell_type": "code",
      "execution_count": 48,
      "metadata": {
        "colab": {
          "base_uri": "https://localhost:8080/"
        },
        "id": "MjrQ56UbKbbe",
        "outputId": "3fea7b3b-f6bd-4367-835a-f9cae85c34a9"
      },
      "outputs": [
        {
          "output_type": "stream",
          "name": "stdout",
          "text": [
            "Accuracy of the YOLOv8 Object detection model on the test images: 90.75%\n",
            "Average loss of the YOLOv8 Object detection model on the test images: 3.417283455052364e-05\n"
          ]
        }
      ],
      "source": [
        "final_bbox_accuracy_flat = [i for sublist in final_bbox_accuracy for i in sublist]\n",
        "obj_det_accuracy = sum(final_bbox_accuracy_flat) / len(final_bbox_accuracy_flat) * 100\n",
        "\n",
        "final_bbox_loss_flat = [i for sublist in final_bbox_loss for i in sublist]\n",
        "obj_det_loss = sum(final_bbox_loss_flat) / len(final_bbox_loss_flat)\n",
        "\n",
        "print(f'Accuracy of the YOLOv8 Object detection model on the test images: {obj_det_accuracy:.2f}%')\n",
        "print(f'Average loss of the YOLOv8 Object detection model on the test images: {obj_det_loss}')"
      ]
    },
    {
      "cell_type": "code",
      "execution_count": 49,
      "metadata": {
        "colab": {
          "base_uri": "https://localhost:8080/"
        },
        "id": "UG95fOMlKbbf",
        "outputId": "8980c496-23b7-49ed-dd20-fa7baa8b582d"
      },
      "outputs": [
        {
          "output_type": "stream",
          "name": "stdout",
          "text": [
            "Overall accuracy on the test images: 93.19%\n"
          ]
        }
      ],
      "source": [
        "alpha = 0.5\n",
        "vit_resnet_final_accuracy = (alpha * obj_det_accuracy) + ((1-alpha) * class_accuracy)\n",
        "\n",
        "print(f'Overall accuracy on the test images: {vit_resnet_final_accuracy:.2f}%')"
      ]
    },
    {
      "cell_type": "code",
      "execution_count": 50,
      "metadata": {
        "colab": {
          "base_uri": "https://localhost:8080/"
        },
        "id": "P1UIwy81UY2a",
        "outputId": "ee90a9b8-69d7-4236-d5c5-c7aa85703166"
      },
      "outputs": [
        {
          "output_type": "stream",
          "name": "stdout",
          "text": [
            "Performance Metrics:\n",
            "Accuracy      : 93.19 %\n",
            "Precision     : [          1           1           1           1           1        0.75     0.95455           1           1     0.63636           1           1           1           1           1           1     0.88889           1           1     0.93939           1           1           1           1        0.25           1\n",
            "           1           1           1           1           1           0           1           1           1           1     0.83333           1     0.94118           1           1        0.75           1           0           1           1           1           1           1]\n",
            "Recall        : [          1           1           1           1           1           1           1           1           1       0.875           1     0.88889     0.66667         0.5           1           1           1           1     0.85714     0.96875           1           1     0.92857           1           1           1\n",
            "           1           1           1           1           1           0     0.66667           1           1           1           1           1     0.94118           1           1           1     0.88889           0     0.83333           1           1           1        0.75]\n",
            "F1 Score      : [          1           1           1           1           1     0.85714     0.97674           1           1     0.73684           1     0.94118         0.8     0.66667           1           1     0.94118           1     0.92308     0.95385           1           1     0.96296           1         0.4           1\n",
            "           1           1           1           1           1           0         0.8           1           1           1     0.90909           1     0.94118           1           1     0.85714     0.94118           0     0.90909           1           1           1     0.85714]\n"
          ]
        },
        {
          "output_type": "stream",
          "name": "stderr",
          "text": [
            "/usr/local/lib/python3.10/dist-packages/sklearn/metrics/_classification.py:1344: UndefinedMetricWarning: Recall and F-score are ill-defined and being set to 0.0 in labels with no true samples. Use `zero_division` parameter to control this behavior.\n",
            "  _warn_prf(average, modifier, msg_start, len(result))\n"
          ]
        }
      ],
      "source": [
        "Y_pred = predictions\n",
        "Y_test = final_actual_classes_flat\n",
        "\n",
        "precision, recall, f1, support = precision_recall_fscore_support(Y_test, Y_pred)\n",
        "\n",
        "print(\"Performance Metrics:\")\n",
        "print(f\"Accuracy      : {vit_resnet_final_accuracy:.2f} %\")\n",
        "print(f\"Precision     : {precision}\")\n",
        "print(f\"Recall        : {recall}\")\n",
        "print(f\"F1 Score      : {f1}\")"
      ]
    },
    {
      "cell_type": "code",
      "execution_count": 51,
      "metadata": {
        "colab": {
          "base_uri": "https://localhost:8080/",
          "height": 1000
        },
        "id": "MtdZPnH1UY2c",
        "outputId": "709d0057-e679-4ba8-fa1a-6fd2167a1433"
      },
      "outputs": [
        {
          "output_type": "display_data",
          "data": {
            "text/plain": [
              "<Figure size 1400x1200 with 2 Axes>"
            ],
            "image/png": "[encoded data removed]"
          },
          "metadata": {}
        }
      ],
      "source": [
        "cmat = confusion_matrix(Y_test, Y_pred)\n",
        "plt.figure(figsize=(14, 12))\n",
        "sns.heatmap(cmat, annot=True, fmt=\"d\")\n",
        "plt.xlabel('Predicted Labels')\n",
        "plt.ylabel('True Labels')\n",
        "plt.title('Confusion Matrix')\n",
        "plt.show()"
      ]
    },
    {
      "cell_type": "code",
      "execution_count": null,
      "metadata": {
        "colab": {
          "base_uri": "https://localhost:8080/",
          "height": 718
        },
        "id": "Uktk2X40GTIp",
        "outputId": "094c984a-2318-49f5-8b09-8055d50187bc"
      },
      "outputs": [
        {
          "output_type": "display_data",
          "data": {
            "text/plain": [
              "<Figure size 800x800 with 1 Axes>"
            ],
            "image/png": "[encoded data removed]"
          },
          "metadata": {}
        }
      ],
      "source": [
        "# Plot to compare the actual and predicted classes\n",
        "\n",
        "plt.figure(figsize=(8, 8))\n",
        "plt.scatter(final_actual_classes_flat, predictions, color='blue', alpha=0.5)\n",
        "plt.plot(final_actual_classes_flat, final_actual_classes_flat, color='red', linestyle='--')\n",
        "plt.xlabel('Actual Classes')\n",
        "plt.ylabel('Predicted Classes')\n",
        "plt.title('Comparison of Actual vs Predicted Class Labels')\n",
        "plt.grid(True)\n",
        "plt.show()"
      ]
    },
    {
      "cell_type": "code",
      "execution_count": null,
      "metadata": {
        "id": "ylgGr-70VA_9"
      },
      "outputs": [],
      "source": [
        "# References\n",
        "\n",
        "# CSE 574 - Introduction to Machine Learning Assignment 2 from Sneha Talapala, Dhanush Babu Ramadoss, Kishore Nithin Sridhar\n",
        "# CSE 676 - Deep Learning Assignment 0, 1, 2 from Sneha Talapala, Dhanush Babu Ramadoss, Kishore Nithin Sridhar\n",
        "# https://docs.ultralytics.com/\n",
        "# https://arxiv.org/abs/2010.11929"
      ]
    },
    {
      "cell_type": "code",
      "source": [],
      "metadata": {
        "id": "lnE8fJoOk4Xr"
      },
      "execution_count": null,
      "outputs": []
    }
  ],
  "metadata": {
    "accelerator": "GPU",
    "colab": {
      "gpuType": "T4",
      "provenance": []
    },
    "kernelspec": {
      "display_name": "Python 3",
      "name": "python3"
    },
    "language_info": {
      "codemirror_mode": {
        "name": "ipython",
        "version": 3
      },
      "file_extension": ".py",
      "mimetype": "text/x-python",
      "name": "python",
      "nbconvert_exporter": "python",
      "pygments_lexer": "ipython3",
      "version": "3.9.6"
    }
  },
  "nbformat": 4,
  "nbformat_minor": 0
}